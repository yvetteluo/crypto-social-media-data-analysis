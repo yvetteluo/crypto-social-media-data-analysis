{
 "cells": [
  {
   "cell_type": "markdown",
   "id": "a6a72825",
   "metadata": {},
   "source": [
    "# 1. Data collection\n",
    "# 2. Data description\n",
    "# 3. Regression Analysis\n",
    "# 4. Sentiment Analysis\n",
    "\n",
    "    4.1 Afinn: Wordlist-based approch\n",
    "    \n",
    "    4.2 Bert\n",
    "    \n",
    "    4.3 Distilbert\n",
    "    \n",
    "    4.4 twitter-roberta\n",
    "    \n",
    "    4.5 reg with sentiment scores\n",
    "    \n",
    "    4.6 another method: supervised machine learning (self trainning sentiment classifiers)"
   ]
  },
  {
   "cell_type": "code",
   "execution_count": 5,
   "id": "c80b21e1",
   "metadata": {},
   "outputs": [
    {
     "name": "stderr",
     "output_type": "stream",
     "text": [
      "[nltk_data] Downloading package vader_lexicon to\n",
      "[nltk_data]     /Users/buluo/nltk_data...\n",
      "[nltk_data]   Package vader_lexicon is already up-to-date!\n"
     ]
    }
   ],
   "source": [
    "# '''import all necessary packages'''\n",
    "\n",
    "import numpy as np\n",
    "import pandas as pd\n",
    "import re\n",
    "\n",
    "# for regression\n",
    "from statsmodels.formula.api import ols\n",
    "\n",
    "# for sentiment analysis\n",
    "from nltk.sentiment.vader import SentimentIntensityAnalyzer as SIA\n",
    "import nltk\n",
    "nltk.download('vader_lexicon')\n",
    "\n",
    "from transformers import pipeline\n",
    "\n",
    "from stargazer.stargazer import Stargazer\n",
    "\n",
    "from afinn import Afinn\n",
    "from tqdm.auto import tqdm\n",
    "tqdm.pandas()\n",
    "\n",
    "# for visulization\n",
    "import matplotlib.dates as mdates\n",
    "import matplotlib.pyplot as plt\n",
    "import seaborn as sns\n",
    "# pip install SciencePlots\n",
    "# pip install git+https://github.com/garrettj403/SciencePlots\n",
    "# pip install --upgrade pip\n",
    "import scienceplots\n",
    "plt.style.use('science')\n",
    "\n",
    "# for supervised machine learning\n",
    "from sklearn.model_selection import train_test_split, GridSearchCV, learning_curve, validation_curve\n",
    "from sklearn.feature_extraction.text import TfidfVectorizer, CountVectorizer\n",
    "from sklearn.linear_model import LogisticRegression\n",
    "from sklearn.svm import SVC, LinearSVC\n",
    "from sklearn.naive_bayes import MultinomialNB\n",
    "from sklearn.metrics import accuracy_score, precision_score, recall_score, f1_score, confusion_matrix\n",
    "from sklearn.metrics import ConfusionMatrixDisplay\n",
    "from nltk.tokenize import TweetTokenizer\n",
    "from collections import Counter"
   ]
  },
  {
   "cell_type": "markdown",
   "id": "54f7b644",
   "metadata": {},
   "source": [
    "# 2. Data description"
   ]
  },
  {
   "cell_type": "code",
   "execution_count": 67,
   "id": "84340d0a",
   "metadata": {},
   "outputs": [],
   "source": [
    "DOG_Nov_Dec = pd.read_csv('Reddit data/DOG_Nov3_Dec.csv')\n",
    "DOG_Jan_March = pd.read_csv('Reddit data/DOG_Jan_March.csv')"
   ]
  },
  {
   "cell_type": "code",
   "execution_count": 126,
   "id": "137dd8b6",
   "metadata": {},
   "outputs": [
    {
     "data": {
      "text/html": [
       "<div>\n",
       "<style scoped>\n",
       "    .dataframe tbody tr th:only-of-type {\n",
       "        vertical-align: middle;\n",
       "    }\n",
       "\n",
       "    .dataframe tbody tr th {\n",
       "        vertical-align: top;\n",
       "    }\n",
       "\n",
       "    .dataframe thead th {\n",
       "        text-align: right;\n",
       "    }\n",
       "</style>\n",
       "<table border=\"1\" class=\"dataframe\">\n",
       "  <thead>\n",
       "    <tr style=\"text-align: right;\">\n",
       "      <th></th>\n",
       "      <th>url</th>\n",
       "    </tr>\n",
       "  </thead>\n",
       "  <tbody>\n",
       "    <tr>\n",
       "      <th>18</th>\n",
       "      <td>https://www.reddit.com/r/dogecoin/comments/11y...</td>\n",
       "    </tr>\n",
       "  </tbody>\n",
       "</table>\n",
       "</div>"
      ],
      "text/plain": [
       "                                                  url\n",
       "18  https://www.reddit.com/r/dogecoin/comments/11y..."
      ]
     },
     "execution_count": 126,
     "metadata": {},
     "output_type": "execute_result"
    }
   ],
   "source": [
    "DOG_Jan_March[['url']][18:19]"
   ]
  },
  {
   "cell_type": "code",
   "execution_count": 142,
   "id": "794f1b51",
   "metadata": {},
   "outputs": [
    {
     "data": {
      "text/plain": [
       "30                                                  NaN\n",
       "31                                                  NaN\n",
       "32                                                  NaN\n",
       "33                                                  NaN\n",
       "34                                                  NaN\n",
       "35                                                  NaN\n",
       "36                                                  NaN\n",
       "37                                            [removed]\n",
       "38                                                  NaN\n",
       "39                                                  NaN\n",
       "40                                                  NaN\n",
       "41                                            [removed]\n",
       "42                                                  NaN\n",
       "43                                                  NaN\n",
       "44                                                  NaN\n",
       "45    Hi Shibes,\\n\\nWelcome to todays Daily Discussi...\n",
       "46    &amp;#x200B;\\n\\n*Processing video ssfhwe1dn9pa...\n",
       "47                                                  NaN\n",
       "48                                                  NaN\n",
       "49                                            [removed]\n",
       "Name: selftext, dtype: object"
      ]
     },
     "execution_count": 142,
     "metadata": {},
     "output_type": "execute_result"
    }
   ],
   "source": [
    "DOG_Jan_March['selftext'][30:50]"
   ]
  },
  {
   "cell_type": "code",
   "execution_count": 68,
   "id": "652a1ec6",
   "metadata": {},
   "outputs": [],
   "source": [
    "used_DOG_Nov_Dec = DOG_Nov_Dec[['subreddit', 'selftext', 'title','author','is_video','utc_datetime_str']]\n",
    "used_DOG_Jan_March = DOG_Jan_March[['subreddit', 'selftext', 'title','author','is_video','utc_datetime_str']]"
   ]
  },
  {
   "cell_type": "code",
   "execution_count": 69,
   "id": "6803380d",
   "metadata": {},
   "outputs": [
    {
     "name": "stdout",
     "output_type": "stream",
     "text": [
      "(11241, 6)\n",
      "(11241, 6)\n"
     ]
    }
   ],
   "source": [
    "DOG = pd.concat([used_DOG_Nov_Dec, used_DOG_Jan_March])\n",
    "print(DOG.shape)\n",
    "DOG = DOG.drop_duplicates()\n",
    "print(DOG.shape)"
   ]
  },
  {
   "cell_type": "code",
   "execution_count": 12,
   "id": "9f95c2a8",
   "metadata": {},
   "outputs": [],
   "source": [
    "BTC_Nov = pd.read_csv('Reddit data/BTC_Nov.csv')"
   ]
  },
  {
   "cell_type": "code",
   "execution_count": 13,
   "id": "18491201",
   "metadata": {
    "scrolled": true
   },
   "outputs": [
    {
     "data": {
      "text/plain": [
       "(4755, 126)"
      ]
     },
     "execution_count": 13,
     "metadata": {},
     "output_type": "execute_result"
    }
   ],
   "source": [
    "BTC_Nov.shape"
   ]
  },
  {
   "cell_type": "code",
   "execution_count": 41,
   "id": "c19c2ce5",
   "metadata": {},
   "outputs": [],
   "source": [
    "used_BTC_NOV = BTC_Nov[['subreddit', 'selftext', 'title','author','is_video','utc_datetime_str']]"
   ]
  },
  {
   "cell_type": "code",
   "execution_count": 15,
   "id": "d899e109",
   "metadata": {},
   "outputs": [],
   "source": [
    "BTC_Dec = pd.read_csv('Reddit data/BTC_Dec.csv')"
   ]
  },
  {
   "cell_type": "code",
   "execution_count": 16,
   "id": "bf913ffe",
   "metadata": {
    "scrolled": true
   },
   "outputs": [
    {
     "data": {
      "text/plain": [
       "(5139, 95)"
      ]
     },
     "execution_count": 16,
     "metadata": {},
     "output_type": "execute_result"
    }
   ],
   "source": [
    "BTC_Dec.shape"
   ]
  },
  {
   "cell_type": "code",
   "execution_count": 43,
   "id": "0b50b6ee",
   "metadata": {},
   "outputs": [],
   "source": [
    "used_BTC_Dec = BTC_Dec[['subreddit', 'selftext', 'title','author','is_video','utc_datetime_str']]"
   ]
  },
  {
   "cell_type": "code",
   "execution_count": 45,
   "id": "740d5616",
   "metadata": {},
   "outputs": [],
   "source": [
    "BTC_Jan_March = pd.read_csv('Reddit data/BTC_Jan_March.csv')"
   ]
  },
  {
   "cell_type": "code",
   "execution_count": 46,
   "id": "7728f91f",
   "metadata": {},
   "outputs": [],
   "source": [
    "used_BTC_Jan_March = BTC_Jan_March[['subreddit', 'selftext', 'title','author','is_video','utc_datetime_str']]"
   ]
  },
  {
   "cell_type": "code",
   "execution_count": 51,
   "id": "9ad94c07",
   "metadata": {},
   "outputs": [
    {
     "name": "stdout",
     "output_type": "stream",
     "text": [
      "(21658, 6)\n",
      "(21657, 6)\n"
     ]
    }
   ],
   "source": [
    "BTC = pd.concat([used_BTC_NOV, used_BTC_Dec, used_BTC_Jan_March])\n",
    "print(BTC.shape)\n",
    "BTC = BTC.drop_duplicates()\n",
    "print(BTC.shape)"
   ]
  },
  {
   "cell_type": "code",
   "execution_count": 50,
   "id": "865373d7",
   "metadata": {},
   "outputs": [],
   "source": [
    "ETH_Nov_March = pd.read_csv('Reddit data/ETH_Nov_March.csv')"
   ]
  },
  {
   "cell_type": "code",
   "execution_count": 58,
   "id": "870bfc87",
   "metadata": {},
   "outputs": [
    {
     "name": "stdout",
     "output_type": "stream",
     "text": [
      "(9142, 6)\n"
     ]
    }
   ],
   "source": [
    "ETH = ETH_Nov_March[['subreddit', 'selftext', 'title','author','is_video','utc_datetime_str']]\n",
    "print(ETH.shape)"
   ]
  },
  {
   "cell_type": "code",
   "execution_count": 59,
   "id": "286d4bb2",
   "metadata": {},
   "outputs": [
    {
     "name": "stdout",
     "output_type": "stream",
     "text": [
      "(9138, 6)\n"
     ]
    }
   ],
   "source": [
    "ETH = ETH.drop_duplicates()\n",
    "print(ETH.shape)"
   ]
  },
  {
   "cell_type": "code",
   "execution_count": 60,
   "id": "3b51858d",
   "metadata": {},
   "outputs": [
    {
     "name": "stdout",
     "output_type": "stream",
     "text": [
      "(3369, 6)\n",
      "(3368, 6)\n"
     ]
    }
   ],
   "source": [
    "ADA_Nov_March = pd.read_csv('Reddit data/ADA_Nov_March.csv')\n",
    "ADA = ADA_Nov_March[['subreddit', 'selftext', 'title','author','is_video','utc_datetime_str']]\n",
    "print(ADA.shape)\n",
    "ADA = ADA.drop_duplicates()\n",
    "print(ADA.shape)"
   ]
  },
  {
   "cell_type": "code",
   "execution_count": 130,
   "id": "a9b61607",
   "metadata": {},
   "outputs": [
    {
     "data": {
      "text/html": [
       "<div>\n",
       "<style scoped>\n",
       "    .dataframe tbody tr th:only-of-type {\n",
       "        vertical-align: middle;\n",
       "    }\n",
       "\n",
       "    .dataframe tbody tr th {\n",
       "        vertical-align: top;\n",
       "    }\n",
       "\n",
       "    .dataframe thead th {\n",
       "        text-align: right;\n",
       "    }\n",
       "</style>\n",
       "<table border=\"1\" class=\"dataframe\">\n",
       "  <thead>\n",
       "    <tr style=\"text-align: right;\">\n",
       "      <th></th>\n",
       "      <th>subreddit</th>\n",
       "      <th>selftext</th>\n",
       "      <th>author_fullname</th>\n",
       "      <th>gilded</th>\n",
       "      <th>title</th>\n",
       "      <th>link_flair_richtext</th>\n",
       "      <th>subreddit_name_prefixed</th>\n",
       "      <th>hidden</th>\n",
       "      <th>pwls</th>\n",
       "      <th>link_flair_css_class</th>\n",
       "      <th>...</th>\n",
       "      <th>retrieved_utc</th>\n",
       "      <th>updated_utc</th>\n",
       "      <th>utc_datetime_str</th>\n",
       "      <th>media_metadata</th>\n",
       "      <th>crosspost_parent_list</th>\n",
       "      <th>crosspost_parent</th>\n",
       "      <th>author_cakeday</th>\n",
       "      <th>is_gallery</th>\n",
       "      <th>gallery_data</th>\n",
       "      <th>edited_on</th>\n",
       "    </tr>\n",
       "  </thead>\n",
       "  <tbody>\n",
       "    <tr>\n",
       "      <th>2</th>\n",
       "      <td>cardano</td>\n",
       "      <td>[removed]</td>\n",
       "      <td>t2_fthc7xa</td>\n",
       "      <td>0</td>\n",
       "      <td>Nami wallet doesn't allow you to view seed phase</td>\n",
       "      <td>[{'e': 'text', 't': 'Wallet'}]</td>\n",
       "      <td>r/cardano</td>\n",
       "      <td>False</td>\n",
       "      <td>6</td>\n",
       "      <td>NaN</td>\n",
       "      <td>...</td>\n",
       "      <td>1679512450</td>\n",
       "      <td>1679512451</td>\n",
       "      <td>2023-03-22 19:13:55</td>\n",
       "      <td>NaN</td>\n",
       "      <td>NaN</td>\n",
       "      <td>NaN</td>\n",
       "      <td>NaN</td>\n",
       "      <td>NaN</td>\n",
       "      <td>NaN</td>\n",
       "      <td>NaN</td>\n",
       "    </tr>\n",
       "  </tbody>\n",
       "</table>\n",
       "<p>1 rows × 97 columns</p>\n",
       "</div>"
      ],
      "text/plain": [
       "  subreddit   selftext author_fullname  gilded  \\\n",
       "2   cardano  [removed]      t2_fthc7xa       0   \n",
       "\n",
       "                                              title  \\\n",
       "2  Nami wallet doesn't allow you to view seed phase   \n",
       "\n",
       "              link_flair_richtext subreddit_name_prefixed  hidden  pwls  \\\n",
       "2  [{'e': 'text', 't': 'Wallet'}]               r/cardano   False     6   \n",
       "\n",
       "   link_flair_css_class  ...  retrieved_utc  updated_utc     utc_datetime_str  \\\n",
       "2                   NaN  ...     1679512450   1679512451  2023-03-22 19:13:55   \n",
       "\n",
       "   media_metadata crosspost_parent_list  crosspost_parent author_cakeday  \\\n",
       "2             NaN                   NaN               NaN            NaN   \n",
       "\n",
       "   is_gallery gallery_data  edited_on  \n",
       "2         NaN          NaN        NaN  \n",
       "\n",
       "[1 rows x 97 columns]"
      ]
     },
     "execution_count": 130,
     "metadata": {},
     "output_type": "execute_result"
    }
   ],
   "source": [
    "# Nami wallet doesn't allow you to view seed phase\n",
    "ADA_Nov_March[ADA_Nov_March.title == \"Nami wallet doesn't allow you to view seed phase\"]"
   ]
  },
  {
   "cell_type": "code",
   "execution_count": 61,
   "id": "583cf57b",
   "metadata": {},
   "outputs": [
    {
     "name": "stdout",
     "output_type": "stream",
     "text": [
      "(921, 6)\n",
      "(921, 6)\n"
     ]
    }
   ],
   "source": [
    "BNB_Nov_March = pd.read_csv('Reddit data/BNB_Nov_March.csv')\n",
    "BNB = BNB_Nov_March[['subreddit', 'selftext', 'title','author','is_video','utc_datetime_str']]\n",
    "print(BNB.shape)\n",
    "BNB = BNB.drop_duplicates()\n",
    "print(BNB.shape)"
   ]
  },
  {
   "cell_type": "code",
   "execution_count": 62,
   "id": "19293c48",
   "metadata": {},
   "outputs": [
    {
     "name": "stdout",
     "output_type": "stream",
     "text": [
      "(5426, 6)\n",
      "(5425, 6)\n"
     ]
    }
   ],
   "source": [
    "BUSD_Nov_March = pd.read_csv('Reddit data/BUSD_Nov_March.csv')\n",
    "BUSD = BUSD_Nov_March[['subreddit', 'selftext', 'title','author','is_video','utc_datetime_str']]\n",
    "print(BUSD.shape)\n",
    "BUSD = BUSD.drop_duplicates()\n",
    "print(BUSD.shape)"
   ]
  },
  {
   "cell_type": "code",
   "execution_count": 63,
   "id": "5f49c6d7",
   "metadata": {},
   "outputs": [
    {
     "name": "stdout",
     "output_type": "stream",
     "text": [
      "(1734, 6)\n",
      "(1734, 6)\n"
     ]
    }
   ],
   "source": [
    "MATIC_Nov_March = pd.read_csv('Reddit data/MATIC_Nov_March.csv')\n",
    "MATIC = MATIC_Nov_March[['subreddit', 'selftext', 'title','author','is_video','utc_datetime_str']]\n",
    "print(MATIC.shape)\n",
    "MATIC = MATIC.drop_duplicates()\n",
    "print(MATIC.shape)"
   ]
  },
  {
   "cell_type": "code",
   "execution_count": 64,
   "id": "cf8916f7",
   "metadata": {},
   "outputs": [
    {
     "name": "stdout",
     "output_type": "stream",
     "text": [
      "(3627, 6)\n",
      "(3627, 6)\n"
     ]
    }
   ],
   "source": [
    "SOL_Nov_March = pd.read_csv('Reddit data/SOL_Nov_March.csv')\n",
    "SOL = SOL_Nov_March[['subreddit', 'selftext', 'title','author','is_video','utc_datetime_str']]\n",
    "print(SOL.shape)\n",
    "SOL = SOL.drop_duplicates()\n",
    "print(SOL.shape)"
   ]
  },
  {
   "cell_type": "code",
   "execution_count": 65,
   "id": "bd414ea7",
   "metadata": {},
   "outputs": [
    {
     "name": "stdout",
     "output_type": "stream",
     "text": [
      "(476, 6)\n",
      "(476, 6)\n"
     ]
    }
   ],
   "source": [
    "USDC_Nov_March = pd.read_csv('Reddit data/USDC_Nov_March.csv')\n",
    "USDC = USDC_Nov_March[['subreddit', 'selftext', 'title','author','is_video','utc_datetime_str']]\n",
    "print(USDC.shape)\n",
    "USDC = USDC.drop_duplicates()\n",
    "print(USDC.shape)"
   ]
  },
  {
   "cell_type": "code",
   "execution_count": 66,
   "id": "e0c6ba05",
   "metadata": {},
   "outputs": [
    {
     "name": "stdout",
     "output_type": "stream",
     "text": [
      "(1764, 6)\n",
      "(1764, 6)\n"
     ]
    }
   ],
   "source": [
    "XRP_Nov_March = pd.read_csv('Reddit data/XRP_Nov_March.csv')\n",
    "XRP = XRP_Nov_March[['subreddit', 'selftext', 'title','author','is_video','utc_datetime_str']]\n",
    "print(XRP.shape)\n",
    "XRP = XRP.drop_duplicates()\n",
    "print(XRP.shape)"
   ]
  },
  {
   "cell_type": "code",
   "execution_count": 70,
   "id": "6d409fe4",
   "metadata": {},
   "outputs": [
    {
     "name": "stdout",
     "output_type": "stream",
     "text": [
      "(59351, 6)\n",
      "(59351, 6)\n"
     ]
    }
   ],
   "source": [
    "top = pd.concat([ADA, BNB, BTC, BUSD, DOG, ETH, MATIC, SOL, USDC, XRP])\n",
    "print(top.shape)\n",
    "top = top.drop_duplicates()\n",
    "print(top.shape)"
   ]
  },
  {
   "cell_type": "code",
   "execution_count": 79,
   "id": "fa7ef8cd",
   "metadata": {},
   "outputs": [],
   "source": [
    "top = top.reset_index(drop=True)"
   ]
  },
  {
   "cell_type": "code",
   "execution_count": 80,
   "id": "c270f6b2",
   "metadata": {},
   "outputs": [],
   "source": [
    "top.to_csv('top.csv', index=False)"
   ]
  },
  {
   "cell_type": "code",
   "execution_count": 33,
   "id": "d1c0b896",
   "metadata": {},
   "outputs": [],
   "source": [
    "top = pd.read_csv('top.csv')"
   ]
  },
  {
   "cell_type": "code",
   "execution_count": 34,
   "id": "db2b9d55",
   "metadata": {},
   "outputs": [
    {
     "data": {
      "text/html": [
       "<div>\n",
       "<style scoped>\n",
       "    .dataframe tbody tr th:only-of-type {\n",
       "        vertical-align: middle;\n",
       "    }\n",
       "\n",
       "    .dataframe tbody tr th {\n",
       "        vertical-align: top;\n",
       "    }\n",
       "\n",
       "    .dataframe thead th {\n",
       "        text-align: right;\n",
       "    }\n",
       "</style>\n",
       "<table border=\"1\" class=\"dataframe\">\n",
       "  <thead>\n",
       "    <tr style=\"text-align: right;\">\n",
       "      <th></th>\n",
       "      <th>subreddit</th>\n",
       "      <th>selftext</th>\n",
       "      <th>title</th>\n",
       "      <th>author</th>\n",
       "      <th>is_video</th>\n",
       "      <th>utc_datetime_str</th>\n",
       "    </tr>\n",
       "  </thead>\n",
       "  <tbody>\n",
       "    <tr>\n",
       "      <th>0</th>\n",
       "      <td>cardano</td>\n",
       "      <td>NaN</td>\n",
       "      <td>The Cardano ecosystem is consistently growing!...</td>\n",
       "      <td>ConvincingCrypto</td>\n",
       "      <td>False</td>\n",
       "      <td>2023-03-22 22:37:54</td>\n",
       "    </tr>\n",
       "    <tr>\n",
       "      <th>1</th>\n",
       "      <td>cardano</td>\n",
       "      <td>[removed]</td>\n",
       "      <td>Did Spacebudz get bought out by jpg.store?</td>\n",
       "      <td>deviantgoober</td>\n",
       "      <td>False</td>\n",
       "      <td>2023-03-22 21:34:32</td>\n",
       "    </tr>\n",
       "  </tbody>\n",
       "</table>\n",
       "</div>"
      ],
      "text/plain": [
       "  subreddit   selftext                                              title  \\\n",
       "0   cardano        NaN  The Cardano ecosystem is consistently growing!...   \n",
       "1   cardano  [removed]         Did Spacebudz get bought out by jpg.store?   \n",
       "\n",
       "             author  is_video     utc_datetime_str  \n",
       "0  ConvincingCrypto     False  2023-03-22 22:37:54  \n",
       "1     deviantgoober     False  2023-03-22 21:34:32  "
      ]
     },
     "execution_count": 34,
     "metadata": {},
     "output_type": "execute_result"
    }
   ],
   "source": [
    "top.head(2)"
   ]
  },
  {
   "cell_type": "code",
   "execution_count": 36,
   "id": "8c7fa1e8",
   "metadata": {},
   "outputs": [
    {
     "data": {
      "text/plain": [
       "(59351, 6)"
      ]
     },
     "execution_count": 36,
     "metadata": {},
     "output_type": "execute_result"
    }
   ],
   "source": [
    "top.shape"
   ]
  },
  {
   "cell_type": "code",
   "execution_count": 4,
   "id": "779eafb9",
   "metadata": {},
   "outputs": [
    {
     "data": {
      "text/plain": [
       "str"
      ]
     },
     "execution_count": 4,
     "metadata": {},
     "output_type": "execute_result"
    }
   ],
   "source": [
    "type(top['selftext'][1])"
   ]
  },
  {
   "cell_type": "code",
   "execution_count": 5,
   "id": "da11bbfb",
   "metadata": {},
   "outputs": [
    {
     "data": {
      "text/plain": [
       "float"
      ]
     },
     "execution_count": 5,
     "metadata": {},
     "output_type": "execute_result"
    }
   ],
   "source": [
    "type(top['selftext'][0])"
   ]
  },
  {
   "cell_type": "code",
   "execution_count": 37,
   "id": "2eb07af1",
   "metadata": {},
   "outputs": [],
   "source": [
    "Date=[]\n",
    "for i in top['utc_datetime_str']:\n",
    "    Date.append(i.split()[0])\n",
    "    \n",
    "top['Date']=Date\n",
    "# Date"
   ]
  },
  {
   "cell_type": "code",
   "execution_count": 39,
   "id": "817d63aa",
   "metadata": {},
   "outputs": [
    {
     "data": {
      "text/plain": [
       "(59351, 7)"
      ]
     },
     "execution_count": 39,
     "metadata": {},
     "output_type": "execute_result"
    }
   ],
   "source": [
    "top = top[top.Date>'2022-11-02']\n",
    "top = top[top.Date<'2023-03-23']\n",
    "top.shape"
   ]
  },
  {
   "cell_type": "code",
   "execution_count": 7,
   "id": "08ac3a9d",
   "metadata": {},
   "outputs": [],
   "source": [
    "type(top.is_video[0])\n",
    "used_df= top[top.is_video==False]\n",
    "# print(top.shape)\n",
    "# top.head(2)"
   ]
  },
  {
   "cell_type": "code",
   "execution_count": 8,
   "id": "43d3fa98",
   "metadata": {
    "scrolled": true
   },
   "outputs": [
    {
     "data": {
      "text/html": [
       "<div>\n",
       "<style scoped>\n",
       "    .dataframe tbody tr th:only-of-type {\n",
       "        vertical-align: middle;\n",
       "    }\n",
       "\n",
       "    .dataframe tbody tr th {\n",
       "        vertical-align: top;\n",
       "    }\n",
       "\n",
       "    .dataframe thead th {\n",
       "        text-align: right;\n",
       "    }\n",
       "</style>\n",
       "<table border=\"1\" class=\"dataframe\">\n",
       "  <thead>\n",
       "    <tr style=\"text-align: right;\">\n",
       "      <th></th>\n",
       "      <th>subreddit</th>\n",
       "      <th>selftext</th>\n",
       "      <th>title</th>\n",
       "      <th>author</th>\n",
       "      <th>is_video</th>\n",
       "      <th>utc_datetime_str</th>\n",
       "      <th>Date</th>\n",
       "    </tr>\n",
       "  </thead>\n",
       "  <tbody>\n",
       "    <tr>\n",
       "      <th>0</th>\n",
       "      <td>cardano</td>\n",
       "      <td>NaN</td>\n",
       "      <td>The Cardano ecosystem is consistently growing!...</td>\n",
       "      <td>ConvincingCrypto</td>\n",
       "      <td>False</td>\n",
       "      <td>2023-03-22 22:37:54</td>\n",
       "      <td>2023-03-22</td>\n",
       "    </tr>\n",
       "    <tr>\n",
       "      <th>1</th>\n",
       "      <td>cardano</td>\n",
       "      <td>[removed]</td>\n",
       "      <td>Did Spacebudz get bought out by jpg.store?</td>\n",
       "      <td>deviantgoober</td>\n",
       "      <td>False</td>\n",
       "      <td>2023-03-22 21:34:32</td>\n",
       "      <td>2023-03-22</td>\n",
       "    </tr>\n",
       "    <tr>\n",
       "      <th>2</th>\n",
       "      <td>cardano</td>\n",
       "      <td>[removed]</td>\n",
       "      <td>Nami wallet doesn't allow you to view seed phase</td>\n",
       "      <td>onetonwontonmon</td>\n",
       "      <td>False</td>\n",
       "      <td>2023-03-22 19:13:55</td>\n",
       "      <td>2023-03-22</td>\n",
       "    </tr>\n",
       "  </tbody>\n",
       "</table>\n",
       "</div>"
      ],
      "text/plain": [
       "  subreddit   selftext                                              title  \\\n",
       "0   cardano        NaN  The Cardano ecosystem is consistently growing!...   \n",
       "1   cardano  [removed]         Did Spacebudz get bought out by jpg.store?   \n",
       "2   cardano  [removed]   Nami wallet doesn't allow you to view seed phase   \n",
       "\n",
       "             author  is_video     utc_datetime_str        Date  \n",
       "0  ConvincingCrypto     False  2023-03-22 22:37:54  2023-03-22  \n",
       "1     deviantgoober     False  2023-03-22 21:34:32  2023-03-22  \n",
       "2   onetonwontonmon     False  2023-03-22 19:13:55  2023-03-22  "
      ]
     },
     "execution_count": 8,
     "metadata": {},
     "output_type": "execute_result"
    }
   ],
   "source": [
    "used_df.head(3)"
   ]
  },
  {
   "cell_type": "code",
   "execution_count": 9,
   "id": "dd9bbbca",
   "metadata": {},
   "outputs": [],
   "source": [
    "used_df_1 = used_df.copy()"
   ]
  },
  {
   "cell_type": "code",
   "execution_count": 179,
   "id": "da87e1d3",
   "metadata": {},
   "outputs": [
    {
     "data": {
      "text/plain": [
       "\"Nami wallet doesn't allow you to view seed phase\""
      ]
     },
     "execution_count": 179,
     "metadata": {},
     "output_type": "execute_result"
    }
   ],
   "source": [
    "used_df_1.title[2]"
   ]
  },
  {
   "cell_type": "code",
   "execution_count": 10,
   "id": "c86e83a9",
   "metadata": {},
   "outputs": [
    {
     "name": "stdout",
     "output_type": "stream",
     "text": [
      "16262\n"
     ]
    }
   ],
   "source": [
    "count = 0\n",
    "for i in used_df_1.selftext:\n",
    "    if type(i)==str and len(i)>10:\n",
    "        count += 1\n",
    "\n",
    "print(count)"
   ]
  },
  {
   "cell_type": "code",
   "execution_count": 11,
   "id": "f0df42fc",
   "metadata": {},
   "outputs": [
    {
     "data": {
      "text/html": [
       "<div>\n",
       "<style scoped>\n",
       "    .dataframe tbody tr th:only-of-type {\n",
       "        vertical-align: middle;\n",
       "    }\n",
       "\n",
       "    .dataframe tbody tr th {\n",
       "        vertical-align: top;\n",
       "    }\n",
       "\n",
       "    .dataframe thead th {\n",
       "        text-align: right;\n",
       "    }\n",
       "</style>\n",
       "<table border=\"1\" class=\"dataframe\">\n",
       "  <thead>\n",
       "    <tr style=\"text-align: right;\">\n",
       "      <th></th>\n",
       "      <th>subreddit</th>\n",
       "      <th>selftext</th>\n",
       "      <th>title</th>\n",
       "      <th>author</th>\n",
       "      <th>is_video</th>\n",
       "      <th>utc_datetime_str</th>\n",
       "      <th>Date</th>\n",
       "      <th>str_self</th>\n",
       "      <th>str_title</th>\n",
       "    </tr>\n",
       "  </thead>\n",
       "  <tbody>\n",
       "    <tr>\n",
       "      <th>0</th>\n",
       "      <td>cardano</td>\n",
       "      <td>NaN</td>\n",
       "      <td>The Cardano ecosystem is consistently growing!...</td>\n",
       "      <td>ConvincingCrypto</td>\n",
       "      <td>False</td>\n",
       "      <td>2023-03-22 22:37:54</td>\n",
       "      <td>2023-03-22</td>\n",
       "      <td>nan</td>\n",
       "      <td>The Cardano ecosystem is consistently growing!...</td>\n",
       "    </tr>\n",
       "    <tr>\n",
       "      <th>1</th>\n",
       "      <td>cardano</td>\n",
       "      <td>[removed]</td>\n",
       "      <td>Did Spacebudz get bought out by jpg.store?</td>\n",
       "      <td>deviantgoober</td>\n",
       "      <td>False</td>\n",
       "      <td>2023-03-22 21:34:32</td>\n",
       "      <td>2023-03-22</td>\n",
       "      <td>[removed]</td>\n",
       "      <td>Did Spacebudz get bought out by jpg.store?</td>\n",
       "    </tr>\n",
       "  </tbody>\n",
       "</table>\n",
       "</div>"
      ],
      "text/plain": [
       "  subreddit   selftext                                              title  \\\n",
       "0   cardano        NaN  The Cardano ecosystem is consistently growing!...   \n",
       "1   cardano  [removed]         Did Spacebudz get bought out by jpg.store?   \n",
       "\n",
       "             author  is_video     utc_datetime_str        Date   str_self  \\\n",
       "0  ConvincingCrypto     False  2023-03-22 22:37:54  2023-03-22        nan   \n",
       "1     deviantgoober     False  2023-03-22 21:34:32  2023-03-22  [removed]   \n",
       "\n",
       "                                           str_title  \n",
       "0  The Cardano ecosystem is consistently growing!...  \n",
       "1         Did Spacebudz get bought out by jpg.store?  "
      ]
     },
     "execution_count": 11,
     "metadata": {},
     "output_type": "execute_result"
    }
   ],
   "source": [
    "str_self = []\n",
    "str_title = []\n",
    "for i in used_df_1.selftext:\n",
    "    str_self.append(str(i))\n",
    "\n",
    "for i in used_df_1.title:\n",
    "    str_title.append(str(i))\n",
    "    \n",
    "used_df_1['str_self'] = str_self\n",
    "used_df_1['str_title'] = str_title\n",
    "used_df_1.head(2)"
   ]
  },
  {
   "cell_type": "code",
   "execution_count": 12,
   "id": "a35b7923",
   "metadata": {},
   "outputs": [],
   "source": [
    "used_df_1['text'] = used_df_1['str_title'] + ' ' +used_df_1['str_self']"
   ]
  },
  {
   "cell_type": "code",
   "execution_count": 13,
   "id": "572a9daa",
   "metadata": {
    "scrolled": true
   },
   "outputs": [
    {
     "data": {
      "text/html": [
       "<div>\n",
       "<style scoped>\n",
       "    .dataframe tbody tr th:only-of-type {\n",
       "        vertical-align: middle;\n",
       "    }\n",
       "\n",
       "    .dataframe tbody tr th {\n",
       "        vertical-align: top;\n",
       "    }\n",
       "\n",
       "    .dataframe thead th {\n",
       "        text-align: right;\n",
       "    }\n",
       "</style>\n",
       "<table border=\"1\" class=\"dataframe\">\n",
       "  <thead>\n",
       "    <tr style=\"text-align: right;\">\n",
       "      <th></th>\n",
       "      <th>subreddit</th>\n",
       "      <th>selftext</th>\n",
       "      <th>title</th>\n",
       "      <th>author</th>\n",
       "      <th>is_video</th>\n",
       "      <th>utc_datetime_str</th>\n",
       "      <th>Date</th>\n",
       "      <th>str_self</th>\n",
       "      <th>str_title</th>\n",
       "      <th>text</th>\n",
       "    </tr>\n",
       "  </thead>\n",
       "  <tbody>\n",
       "    <tr>\n",
       "      <th>0</th>\n",
       "      <td>cardano</td>\n",
       "      <td>NaN</td>\n",
       "      <td>The Cardano ecosystem is consistently growing!...</td>\n",
       "      <td>ConvincingCrypto</td>\n",
       "      <td>False</td>\n",
       "      <td>2023-03-22 22:37:54</td>\n",
       "      <td>2023-03-22</td>\n",
       "      <td>nan</td>\n",
       "      <td>The Cardano ecosystem is consistently growing!...</td>\n",
       "      <td>The Cardano ecosystem is consistently growing!...</td>\n",
       "    </tr>\n",
       "    <tr>\n",
       "      <th>1</th>\n",
       "      <td>cardano</td>\n",
       "      <td>[removed]</td>\n",
       "      <td>Did Spacebudz get bought out by jpg.store?</td>\n",
       "      <td>deviantgoober</td>\n",
       "      <td>False</td>\n",
       "      <td>2023-03-22 21:34:32</td>\n",
       "      <td>2023-03-22</td>\n",
       "      <td>[removed]</td>\n",
       "      <td>Did Spacebudz get bought out by jpg.store?</td>\n",
       "      <td>Did Spacebudz get bought out by jpg.store? [re...</td>\n",
       "    </tr>\n",
       "    <tr>\n",
       "      <th>2</th>\n",
       "      <td>cardano</td>\n",
       "      <td>[removed]</td>\n",
       "      <td>Nami wallet doesn't allow you to view seed phase</td>\n",
       "      <td>onetonwontonmon</td>\n",
       "      <td>False</td>\n",
       "      <td>2023-03-22 19:13:55</td>\n",
       "      <td>2023-03-22</td>\n",
       "      <td>[removed]</td>\n",
       "      <td>Nami wallet doesn't allow you to view seed phase</td>\n",
       "      <td>Nami wallet doesn't allow you to view seed pha...</td>\n",
       "    </tr>\n",
       "    <tr>\n",
       "      <th>3</th>\n",
       "      <td>cardano</td>\n",
       "      <td>NaN</td>\n",
       "      <td>Optimism Phase 2 Token Airdrop! | $OP</td>\n",
       "      <td>SwimmingWoodpecker44</td>\n",
       "      <td>False</td>\n",
       "      <td>2023-03-22 18:24:40</td>\n",
       "      <td>2023-03-22</td>\n",
       "      <td>nan</td>\n",
       "      <td>Optimism Phase 2 Token Airdrop! | $OP</td>\n",
       "      <td>Optimism Phase 2 Token Airdrop! | $OP nan</td>\n",
       "    </tr>\n",
       "    <tr>\n",
       "      <th>4</th>\n",
       "      <td>cardano</td>\n",
       "      <td>[removed]</td>\n",
       "      <td>A hydra head has been deployed on mainnet by C...</td>\n",
       "      <td>ivebeenbit</td>\n",
       "      <td>False</td>\n",
       "      <td>2023-03-22 17:57:42</td>\n",
       "      <td>2023-03-22</td>\n",
       "      <td>[removed]</td>\n",
       "      <td>A hydra head has been deployed on mainnet by C...</td>\n",
       "      <td>A hydra head has been deployed on mainnet by C...</td>\n",
       "    </tr>\n",
       "  </tbody>\n",
       "</table>\n",
       "</div>"
      ],
      "text/plain": [
       "  subreddit   selftext                                              title  \\\n",
       "0   cardano        NaN  The Cardano ecosystem is consistently growing!...   \n",
       "1   cardano  [removed]         Did Spacebudz get bought out by jpg.store?   \n",
       "2   cardano  [removed]   Nami wallet doesn't allow you to view seed phase   \n",
       "3   cardano        NaN              Optimism Phase 2 Token Airdrop! | $OP   \n",
       "4   cardano  [removed]  A hydra head has been deployed on mainnet by C...   \n",
       "\n",
       "                 author  is_video     utc_datetime_str        Date   str_self  \\\n",
       "0      ConvincingCrypto     False  2023-03-22 22:37:54  2023-03-22        nan   \n",
       "1         deviantgoober     False  2023-03-22 21:34:32  2023-03-22  [removed]   \n",
       "2       onetonwontonmon     False  2023-03-22 19:13:55  2023-03-22  [removed]   \n",
       "3  SwimmingWoodpecker44     False  2023-03-22 18:24:40  2023-03-22        nan   \n",
       "4            ivebeenbit     False  2023-03-22 17:57:42  2023-03-22  [removed]   \n",
       "\n",
       "                                           str_title  \\\n",
       "0  The Cardano ecosystem is consistently growing!...   \n",
       "1         Did Spacebudz get bought out by jpg.store?   \n",
       "2   Nami wallet doesn't allow you to view seed phase   \n",
       "3              Optimism Phase 2 Token Airdrop! | $OP   \n",
       "4  A hydra head has been deployed on mainnet by C...   \n",
       "\n",
       "                                                text  \n",
       "0  The Cardano ecosystem is consistently growing!...  \n",
       "1  Did Spacebudz get bought out by jpg.store? [re...  \n",
       "2  Nami wallet doesn't allow you to view seed pha...  \n",
       "3          Optimism Phase 2 Token Airdrop! | $OP nan  \n",
       "4  A hydra head has been deployed on mainnet by C...  "
      ]
     },
     "execution_count": 13,
     "metadata": {},
     "output_type": "execute_result"
    }
   ],
   "source": [
    "used_df_1.head()"
   ]
  },
  {
   "cell_type": "code",
   "execution_count": 14,
   "id": "8954af7f",
   "metadata": {
    "scrolled": true
   },
   "outputs": [
    {
     "data": {
      "text/html": [
       "<div>\n",
       "<style scoped>\n",
       "    .dataframe tbody tr th:only-of-type {\n",
       "        vertical-align: middle;\n",
       "    }\n",
       "\n",
       "    .dataframe tbody tr th {\n",
       "        vertical-align: top;\n",
       "    }\n",
       "\n",
       "    .dataframe thead th {\n",
       "        text-align: right;\n",
       "    }\n",
       "</style>\n",
       "<table border=\"1\" class=\"dataframe\">\n",
       "  <thead>\n",
       "    <tr style=\"text-align: right;\">\n",
       "      <th></th>\n",
       "      <th>subreddit</th>\n",
       "      <th>Date</th>\n",
       "      <th>text</th>\n",
       "      <th>sum</th>\n",
       "    </tr>\n",
       "  </thead>\n",
       "  <tbody>\n",
       "    <tr>\n",
       "      <th>0</th>\n",
       "      <td>0xPolygon</td>\n",
       "      <td>2022-11-03</td>\n",
       "      <td>Unique Chance to Own a Top Web3 Domain! nan In...</td>\n",
       "      <td>2</td>\n",
       "    </tr>\n",
       "    <tr>\n",
       "      <th>1</th>\n",
       "      <td>0xPolygon</td>\n",
       "      <td>2022-11-04</td>\n",
       "      <td>I knew MATIC is gonna shoot UP! these past mon...</td>\n",
       "      <td>15</td>\n",
       "    </tr>\n",
       "    <tr>\n",
       "      <th>2</th>\n",
       "      <td>0xPolygon</td>\n",
       "      <td>2022-11-05</td>\n",
       "      <td>Polygon (MATIC) Onboards First Ever US-Complia...</td>\n",
       "      <td>14</td>\n",
       "    </tr>\n",
       "    <tr>\n",
       "      <th>3</th>\n",
       "      <td>0xPolygon</td>\n",
       "      <td>2022-11-06</td>\n",
       "      <td>Polygon zkvm tps less than pos? Hi all, I rece...</td>\n",
       "      <td>10</td>\n",
       "    </tr>\n",
       "    <tr>\n",
       "      <th>4</th>\n",
       "      <td>0xPolygon</td>\n",
       "      <td>2022-11-07</td>\n",
       "      <td>why does Matic utilisation is at about 50% whe...</td>\n",
       "      <td>20</td>\n",
       "    </tr>\n",
       "  </tbody>\n",
       "</table>\n",
       "</div>"
      ],
      "text/plain": [
       "   subreddit        Date                                               text  \\\n",
       "0  0xPolygon  2022-11-03  Unique Chance to Own a Top Web3 Domain! nan In...   \n",
       "1  0xPolygon  2022-11-04  I knew MATIC is gonna shoot UP! these past mon...   \n",
       "2  0xPolygon  2022-11-05  Polygon (MATIC) Onboards First Ever US-Complia...   \n",
       "3  0xPolygon  2022-11-06  Polygon zkvm tps less than pos? Hi all, I rece...   \n",
       "4  0xPolygon  2022-11-07  why does Matic utilisation is at about 50% whe...   \n",
       "\n",
       "   sum  \n",
       "0    2  \n",
       "1   15  \n",
       "2   14  \n",
       "3   10  \n",
       "4   20  "
      ]
     },
     "execution_count": 14,
     "metadata": {},
     "output_type": "execute_result"
    }
   ],
   "source": [
    "# used_df_1 = used_df.copy()\n",
    "used_df_1['sum']=1\n",
    "used_df_2=used_df_1.groupby(['subreddit','Date'],as_index=False).agg({'Date':'first','text':' '.join,'sum':'sum'})\n",
    "used_df_2.head()"
   ]
  },
  {
   "cell_type": "code",
   "execution_count": 15,
   "id": "fcca1d46",
   "metadata": {
    "scrolled": true
   },
   "outputs": [
    {
     "data": {
      "text/plain": [
       "1336"
      ]
     },
     "execution_count": 15,
     "metadata": {},
     "output_type": "execute_result"
    }
   ],
   "source": [
    "len(used_df_2)"
   ]
  },
  {
   "cell_type": "code",
   "execution_count": 16,
   "id": "7f5c2121",
   "metadata": {},
   "outputs": [],
   "source": [
    "used_df_3 = used_df_2[used_df_2.subreddit != 'u_Own-Bitcoin']\n",
    "used_df_3 = used_df_3[used_df_3.subreddit != 'u_mix-bitcoin']"
   ]
  },
  {
   "cell_type": "code",
   "execution_count": 17,
   "id": "6b507c5c",
   "metadata": {},
   "outputs": [
    {
     "data": {
      "text/plain": [
       "0xPolygon           140\n",
       "Bitcoin             140\n",
       "XRP                 140\n",
       "cardano             140\n",
       "ethtrader           140\n",
       "solana              140\n",
       "bnbchainofficial    137\n",
       "binance             136\n",
       "dogecoin            129\n",
       "USDC                 92\n",
       "Name: subreddit, dtype: int64"
      ]
     },
     "execution_count": 17,
     "metadata": {},
     "output_type": "execute_result"
    }
   ],
   "source": [
    "used_df_3.subreddit.value_counts()"
   ]
  },
  {
   "cell_type": "code",
   "execution_count": 18,
   "id": "56bdd543",
   "metadata": {},
   "outputs": [],
   "source": [
    "# 0xPolygon           140\n",
    "# Bitcoin             140\n",
    "# XRP                 140\n",
    "# cardano             140\n",
    "# ethtrader           140\n",
    "# solana              140\n",
    "# bnbchainofficial    137\n",
    "# binance             136\n",
    "# dogecoin            129\n",
    "# USDC \n",
    "df0xPolygon = pd.read_csv('financial data/MATIC-USD.csv')\n",
    "df0xPolygon['name'] = '0xPolygon'\n",
    "dfBitcoin = pd.read_csv('financial data/BTC-USD.csv')\n",
    "dfBitcoin['name'] = 'Bitcoin'\n",
    "dfXRP = pd.read_csv('financial data/XRP-USD.csv')\n",
    "dfXRP['name'] = 'XRP'\n",
    "dfcardano = pd.read_csv('financial data/ADA-USD.csv')\n",
    "dfcardano['name'] = 'cardano'\n",
    "dfethtrader = pd.read_csv('financial data/ETH-USD.csv')\n",
    "dfethtrader['name'] = 'ethtrader'\n",
    "dfsolana = pd.read_csv('financial data/SOL-USD.csv')\n",
    "dfsolana['name'] = 'solana'\n",
    "dfbnbchainofficial = pd.read_csv('financial data/BNB-USD.csv')\n",
    "dfbnbchainofficial['name'] = 'bnbchainofficial'\n",
    "dfbinance = pd.read_csv('financial data/BUSD-USD.csv')\n",
    "dfbinance['name'] = 'binance'\n",
    "dfdoge = pd.read_csv('financial data/DOGE-USD.csv')\n",
    "dfdoge['name'] = 'dogecoin'\n",
    "dfUSDC = pd.read_csv('financial data/USDC-USD.csv')\n",
    "dfUSDC['name'] = 'USDC'\n",
    "\n",
    "# Dogecoin USD (DOGE-USD)\n",
    "# https://finance.yahoo.com/quote/DOGE-USD/history/?guccounter=1&guce_referrer=aHR0cHM6Ly93d3cuZ29vZ2xlLmNvbS8&guce_referrer_sig=AQAAAJUXWFkoZM01xEqZasOI7go5M3foWA6704Lrdjeg8myfFFlmyXbkiS-ZxfeN5QiQKKncFaDG7Od61Qph1TZF99x8l5aarVNzOHIrP_Uxgfok-OO1e0SmB-fAWHsKIe5HMz3rWJ463XXjEx98CrO8_u2QMjlPZrMT_hkfRf-58_MS"
   ]
  },
  {
   "cell_type": "code",
   "execution_count": 19,
   "id": "91f8667a",
   "metadata": {},
   "outputs": [
    {
     "name": "stdout",
     "output_type": "stream",
     "text": [
      "(1430, 8)\n",
      "(1430, 8)\n"
     ]
    }
   ],
   "source": [
    "fin = pd.concat([df0xPolygon, dfBitcoin, dfXRP, dfcardano, dfethtrader, dfsolana, dfbnbchainofficial, dfbinance, dfdoge, dfUSDC])\n",
    "print(fin.shape)\n",
    "fin = fin.drop_duplicates()\n",
    "print(fin.shape)"
   ]
  },
  {
   "cell_type": "code",
   "execution_count": 20,
   "id": "533c4a2b",
   "metadata": {},
   "outputs": [
    {
     "data": {
      "text/html": [
       "<div>\n",
       "<style scoped>\n",
       "    .dataframe tbody tr th:only-of-type {\n",
       "        vertical-align: middle;\n",
       "    }\n",
       "\n",
       "    .dataframe tbody tr th {\n",
       "        vertical-align: top;\n",
       "    }\n",
       "\n",
       "    .dataframe thead th {\n",
       "        text-align: right;\n",
       "    }\n",
       "</style>\n",
       "<table border=\"1\" class=\"dataframe\">\n",
       "  <thead>\n",
       "    <tr style=\"text-align: right;\">\n",
       "      <th></th>\n",
       "      <th>Date</th>\n",
       "      <th>Open</th>\n",
       "      <th>High</th>\n",
       "      <th>Low</th>\n",
       "      <th>Close</th>\n",
       "      <th>Adj Close</th>\n",
       "      <th>Volume</th>\n",
       "      <th>name</th>\n",
       "    </tr>\n",
       "  </thead>\n",
       "  <tbody>\n",
       "    <tr>\n",
       "      <th>0</th>\n",
       "      <td>2022-11-02</td>\n",
       "      <td>0.875238</td>\n",
       "      <td>0.888779</td>\n",
       "      <td>0.840319</td>\n",
       "      <td>0.871718</td>\n",
       "      <td>0.871718</td>\n",
       "      <td>596962768</td>\n",
       "      <td>0xPolygon</td>\n",
       "    </tr>\n",
       "    <tr>\n",
       "      <th>1</th>\n",
       "      <td>2022-11-03</td>\n",
       "      <td>0.871787</td>\n",
       "      <td>0.981326</td>\n",
       "      <td>0.870410</td>\n",
       "      <td>0.952122</td>\n",
       "      <td>0.952122</td>\n",
       "      <td>1002654774</td>\n",
       "      <td>0xPolygon</td>\n",
       "    </tr>\n",
       "    <tr>\n",
       "      <th>2</th>\n",
       "      <td>2022-11-04</td>\n",
       "      <td>0.952053</td>\n",
       "      <td>1.189451</td>\n",
       "      <td>0.951667</td>\n",
       "      <td>1.169746</td>\n",
       "      <td>1.169746</td>\n",
       "      <td>2150586683</td>\n",
       "      <td>0xPolygon</td>\n",
       "    </tr>\n",
       "    <tr>\n",
       "      <th>3</th>\n",
       "      <td>2022-11-05</td>\n",
       "      <td>1.169277</td>\n",
       "      <td>1.275244</td>\n",
       "      <td>1.164355</td>\n",
       "      <td>1.183722</td>\n",
       "      <td>1.183722</td>\n",
       "      <td>1364033580</td>\n",
       "      <td>0xPolygon</td>\n",
       "    </tr>\n",
       "    <tr>\n",
       "      <th>4</th>\n",
       "      <td>2022-11-06</td>\n",
       "      <td>1.183831</td>\n",
       "      <td>1.210463</td>\n",
       "      <td>1.136698</td>\n",
       "      <td>1.137968</td>\n",
       "      <td>1.137968</td>\n",
       "      <td>806605557</td>\n",
       "      <td>0xPolygon</td>\n",
       "    </tr>\n",
       "  </tbody>\n",
       "</table>\n",
       "</div>"
      ],
      "text/plain": [
       "         Date      Open      High       Low     Close  Adj Close      Volume  \\\n",
       "0  2022-11-02  0.875238  0.888779  0.840319  0.871718   0.871718   596962768   \n",
       "1  2022-11-03  0.871787  0.981326  0.870410  0.952122   0.952122  1002654774   \n",
       "2  2022-11-04  0.952053  1.189451  0.951667  1.169746   1.169746  2150586683   \n",
       "3  2022-11-05  1.169277  1.275244  1.164355  1.183722   1.183722  1364033580   \n",
       "4  2022-11-06  1.183831  1.210463  1.136698  1.137968   1.137968   806605557   \n",
       "\n",
       "        name  \n",
       "0  0xPolygon  \n",
       "1  0xPolygon  \n",
       "2  0xPolygon  \n",
       "3  0xPolygon  \n",
       "4  0xPolygon  "
      ]
     },
     "execution_count": 20,
     "metadata": {},
     "output_type": "execute_result"
    }
   ],
   "source": [
    "fin.head()"
   ]
  },
  {
   "cell_type": "code",
   "execution_count": 21,
   "id": "88950550",
   "metadata": {},
   "outputs": [
    {
     "data": {
      "text/html": [
       "<div>\n",
       "<style scoped>\n",
       "    .dataframe tbody tr th:only-of-type {\n",
       "        vertical-align: middle;\n",
       "    }\n",
       "\n",
       "    .dataframe tbody tr th {\n",
       "        vertical-align: top;\n",
       "    }\n",
       "\n",
       "    .dataframe thead th {\n",
       "        text-align: right;\n",
       "    }\n",
       "</style>\n",
       "<table border=\"1\" class=\"dataframe\">\n",
       "  <thead>\n",
       "    <tr style=\"text-align: right;\">\n",
       "      <th></th>\n",
       "      <th>subreddit</th>\n",
       "      <th>Date</th>\n",
       "      <th>text</th>\n",
       "      <th>sum</th>\n",
       "    </tr>\n",
       "  </thead>\n",
       "  <tbody>\n",
       "    <tr>\n",
       "      <th>0</th>\n",
       "      <td>0xPolygon</td>\n",
       "      <td>2022-11-03</td>\n",
       "      <td>Unique Chance to Own a Top Web3 Domain! nan In...</td>\n",
       "      <td>2</td>\n",
       "    </tr>\n",
       "    <tr>\n",
       "      <th>1</th>\n",
       "      <td>0xPolygon</td>\n",
       "      <td>2022-11-04</td>\n",
       "      <td>I knew MATIC is gonna shoot UP! these past mon...</td>\n",
       "      <td>15</td>\n",
       "    </tr>\n",
       "    <tr>\n",
       "      <th>2</th>\n",
       "      <td>0xPolygon</td>\n",
       "      <td>2022-11-05</td>\n",
       "      <td>Polygon (MATIC) Onboards First Ever US-Complia...</td>\n",
       "      <td>14</td>\n",
       "    </tr>\n",
       "    <tr>\n",
       "      <th>3</th>\n",
       "      <td>0xPolygon</td>\n",
       "      <td>2022-11-06</td>\n",
       "      <td>Polygon zkvm tps less than pos? Hi all, I rece...</td>\n",
       "      <td>10</td>\n",
       "    </tr>\n",
       "    <tr>\n",
       "      <th>4</th>\n",
       "      <td>0xPolygon</td>\n",
       "      <td>2022-11-07</td>\n",
       "      <td>why does Matic utilisation is at about 50% whe...</td>\n",
       "      <td>20</td>\n",
       "    </tr>\n",
       "  </tbody>\n",
       "</table>\n",
       "</div>"
      ],
      "text/plain": [
       "   subreddit        Date                                               text  \\\n",
       "0  0xPolygon  2022-11-03  Unique Chance to Own a Top Web3 Domain! nan In...   \n",
       "1  0xPolygon  2022-11-04  I knew MATIC is gonna shoot UP! these past mon...   \n",
       "2  0xPolygon  2022-11-05  Polygon (MATIC) Onboards First Ever US-Complia...   \n",
       "3  0xPolygon  2022-11-06  Polygon zkvm tps less than pos? Hi all, I rece...   \n",
       "4  0xPolygon  2022-11-07  why does Matic utilisation is at about 50% whe...   \n",
       "\n",
       "   sum  \n",
       "0    2  \n",
       "1   15  \n",
       "2   14  \n",
       "3   10  \n",
       "4   20  "
      ]
     },
     "execution_count": 21,
     "metadata": {},
     "output_type": "execute_result"
    }
   ],
   "source": [
    "used_df_3.head()"
   ]
  },
  {
   "cell_type": "code",
   "execution_count": 22,
   "id": "3c4444ee",
   "metadata": {},
   "outputs": [],
   "source": [
    "df = pd.merge(used_df_3,fin,left_on=['subreddit', 'Date'], right_on=['name', 'Date'], how='right')"
   ]
  },
  {
   "cell_type": "code",
   "execution_count": 382,
   "id": "1446a3d5",
   "metadata": {},
   "outputs": [
    {
     "ename": "NameError",
     "evalue": "name 'df' is not defined",
     "output_type": "error",
     "traceback": [
      "\u001b[0;31m---------------------------------------------------------------------------\u001b[0m",
      "\u001b[0;31mNameError\u001b[0m                                 Traceback (most recent call last)",
      "\u001b[0;32m/var/folders/qq/qvd9bqkj5n519mqym_bxjblc0000gn/T/ipykernel_38018/857714779.py\u001b[0m in \u001b[0;36m<module>\u001b[0;34m\u001b[0m\n\u001b[0;32m----> 1\u001b[0;31m \u001b[0mdf\u001b[0m\u001b[0;34m.\u001b[0m\u001b[0mshape\u001b[0m\u001b[0;34m\u001b[0m\u001b[0;34m\u001b[0m\u001b[0m\n\u001b[0m",
      "\u001b[0;31mNameError\u001b[0m: name 'df' is not defined"
     ]
    }
   ],
   "source": [
    "df.shape"
   ]
  },
  {
   "cell_type": "markdown",
   "id": "1affa113",
   "metadata": {},
   "source": [
    "# Data Cleaning"
   ]
  },
  {
   "cell_type": "code",
   "execution_count": 8,
   "id": "ca2a9973",
   "metadata": {},
   "outputs": [
    {
     "data": {
      "text/plain": [
       "(1430, 20)"
      ]
     },
     "execution_count": 8,
     "metadata": {},
     "output_type": "execute_result"
    }
   ],
   "source": [
    "new_df.shape"
   ]
  },
  {
   "cell_type": "code",
   "execution_count": 22,
   "id": "cbd24d1f",
   "metadata": {},
   "outputs": [
    {
     "data": {
      "text/plain": [
       "0       0xPolygon\n",
       "1       0xPolygon\n",
       "2       0xPolygon\n",
       "3       0xPolygon\n",
       "4       0xPolygon\n",
       "          ...    \n",
       "1425         USDC\n",
       "1426         USDC\n",
       "1427         USDC\n",
       "1428         USDC\n",
       "1429         USDC\n",
       "Name: name, Length: 1430, dtype: object"
      ]
     },
     "execution_count": 22,
     "metadata": {},
     "output_type": "execute_result"
    }
   ],
   "source": [
    "test.name"
   ]
  },
  {
   "cell_type": "code",
   "execution_count": 26,
   "id": "28303e5a",
   "metadata": {},
   "outputs": [],
   "source": [
    "test = new_df[new_df.name == '0xPolygon'].copy()\n",
    "test['Return'] = test['Close'].pct_change()\n",
    "test['Volatility'] = test['Return'].std()\n",
    "\n",
    "test['Gain'] = [1 if x > 2 * test['Volatility'].iloc[i] else 0 for i, x in enumerate(test['Return'])]\n",
    "test['Loss'] = [1 if x < -2 * test['Volatility'].iloc[i] else 0 for i, x in enumerate(test['Return'])]\n",
    "test['NoGainNoLoss'] = [1 if x >= -2 * test['Volatility'].iloc[i] and x <= 2 * test['Volatility'].iloc[i] else 0 for i, x in enumerate(test['Return'])]"
   ]
  },
  {
   "cell_type": "code",
   "execution_count": 29,
   "id": "e1782f9d",
   "metadata": {},
   "outputs": [
    {
     "data": {
      "text/plain": [
       "0.013986013986013986"
      ]
     },
     "execution_count": 29,
     "metadata": {},
     "output_type": "execute_result"
    }
   ],
   "source": [
    "test['Loss'].mean()"
   ]
  },
  {
   "cell_type": "code",
   "execution_count": 24,
   "id": "9ba2118c",
   "metadata": {},
   "outputs": [],
   "source": [
    "def genefina(test):\n",
    "    test['Return'] = test['Close'].pct_change()\n",
    "    test['Two_Day_Return'] = (test['Close'] / test['Close'].shift(2)) - 1\n",
    "    test['Three_Day_Return'] = (test['Close'] / test['Close'].shift(3)) - 1\n",
    "    test['Four_Day_Return'] = (test['Close'] / test['Close'].shift(4)) - 1\n",
    "    test['Five_Day_Return'] = (test['Close'] / test['Close'].shift(5)) - 1\n",
    "    test['Six_Day_Return'] = (test['Close'] / test['Close'].shift(6)) - 1\n",
    "    test['Seven_Day_Return'] = (test['Close'] / test['Close'].shift(7)) - 1\n",
    "    \n",
    "    test['gain'] = [1 if x>0 else 0 for x in test['Return']] # whether people are more sensitive towards gain or lost\n",
    "    test['Two_Day_Gain'] = [1 if x>0 else 0 for x in test['Two_Day_return']]\n",
    "    test['Three_Day_Gain'] = [1 if x>0 else 0 for x in test['Three_Day_Return']]\n",
    "    test['Four_Day_Gain'] = [1 if x>0 else 0 for x in test['Four_Day_Return']]\n",
    "    test['Five_Day_Gain'] = [1 if x>0 else 0 for x in test['Five_Day_Return']]\n",
    "    test['Six_Day_Gain'] = [1 if x>0 else 0 for x in test['Six_Day_Return']]\n",
    "    test['Seven_Day_Gain'] = [1 if x>0 else 0 for x in test['Seven_Day_Return']]\n",
    "    \n",
    "    test['Three_Day_Volatility'] = test['Return'].rolling(window=2).std()\n",
    "    test['Four_Day_Volatility'] = test['Return'].rolling(window=2).std()\n",
    "    test['Five_Day_Volatility'] = test['Return'].rolling(window=2).std()\n",
    "    test['Six_Day_Volatility'] = test['Return'].rolling(window=2).std()\n",
    "    test['Seven_Day_Volatility'] = test['Return'].rolling(window=7).std()"
   ]
  },
  {
   "cell_type": "code",
   "execution_count": 25,
   "id": "c2fb427d",
   "metadata": {
    "scrolled": true
   },
   "outputs": [
    {
     "name": "stderr",
     "output_type": "stream",
     "text": [
      "/Users/buluo/anaconda3/lib/python3.7/site-packages/ipykernel_launcher.py:2: SettingWithCopyWarning: \n",
      "A value is trying to be set on a copy of a slice from a DataFrame.\n",
      "Try using .loc[row_indexer,col_indexer] = value instead\n",
      "\n",
      "See the caveats in the documentation: https://pandas.pydata.org/pandas-docs/stable/user_guide/indexing.html#returning-a-view-versus-a-copy\n",
      "  \n",
      "/Users/buluo/anaconda3/lib/python3.7/site-packages/ipykernel_launcher.py:3: SettingWithCopyWarning: \n",
      "A value is trying to be set on a copy of a slice from a DataFrame.\n",
      "Try using .loc[row_indexer,col_indexer] = value instead\n",
      "\n",
      "See the caveats in the documentation: https://pandas.pydata.org/pandas-docs/stable/user_guide/indexing.html#returning-a-view-versus-a-copy\n",
      "  This is separate from the ipykernel package so we can avoid doing imports until\n",
      "/Users/buluo/anaconda3/lib/python3.7/site-packages/ipykernel_launcher.py:4: SettingWithCopyWarning: \n",
      "A value is trying to be set on a copy of a slice from a DataFrame.\n",
      "Try using .loc[row_indexer,col_indexer] = value instead\n",
      "\n",
      "See the caveats in the documentation: https://pandas.pydata.org/pandas-docs/stable/user_guide/indexing.html#returning-a-view-versus-a-copy\n",
      "  after removing the cwd from sys.path.\n",
      "/Users/buluo/anaconda3/lib/python3.7/site-packages/ipykernel_launcher.py:5: SettingWithCopyWarning: \n",
      "A value is trying to be set on a copy of a slice from a DataFrame.\n",
      "Try using .loc[row_indexer,col_indexer] = value instead\n",
      "\n",
      "See the caveats in the documentation: https://pandas.pydata.org/pandas-docs/stable/user_guide/indexing.html#returning-a-view-versus-a-copy\n",
      "  \"\"\"\n",
      "/Users/buluo/anaconda3/lib/python3.7/site-packages/ipykernel_launcher.py:6: SettingWithCopyWarning: \n",
      "A value is trying to be set on a copy of a slice from a DataFrame.\n",
      "Try using .loc[row_indexer,col_indexer] = value instead\n",
      "\n",
      "See the caveats in the documentation: https://pandas.pydata.org/pandas-docs/stable/user_guide/indexing.html#returning-a-view-versus-a-copy\n",
      "  \n",
      "/Users/buluo/anaconda3/lib/python3.7/site-packages/ipykernel_launcher.py:7: SettingWithCopyWarning: \n",
      "A value is trying to be set on a copy of a slice from a DataFrame.\n",
      "Try using .loc[row_indexer,col_indexer] = value instead\n",
      "\n",
      "See the caveats in the documentation: https://pandas.pydata.org/pandas-docs/stable/user_guide/indexing.html#returning-a-view-versus-a-copy\n",
      "  import sys\n",
      "/Users/buluo/anaconda3/lib/python3.7/site-packages/ipykernel_launcher.py:8: SettingWithCopyWarning: \n",
      "A value is trying to be set on a copy of a slice from a DataFrame.\n",
      "Try using .loc[row_indexer,col_indexer] = value instead\n",
      "\n",
      "See the caveats in the documentation: https://pandas.pydata.org/pandas-docs/stable/user_guide/indexing.html#returning-a-view-versus-a-copy\n",
      "  \n",
      "/Users/buluo/anaconda3/lib/python3.7/site-packages/ipykernel_launcher.py:9: SettingWithCopyWarning: \n",
      "A value is trying to be set on a copy of a slice from a DataFrame.\n",
      "Try using .loc[row_indexer,col_indexer] = value instead\n",
      "\n",
      "See the caveats in the documentation: https://pandas.pydata.org/pandas-docs/stable/user_guide/indexing.html#returning-a-view-versus-a-copy\n",
      "  if __name__ == '__main__':\n",
      "/Users/buluo/anaconda3/lib/python3.7/site-packages/ipykernel_launcher.py:11: SettingWithCopyWarning: \n",
      "A value is trying to be set on a copy of a slice from a DataFrame.\n",
      "Try using .loc[row_indexer,col_indexer] = value instead\n",
      "\n",
      "See the caveats in the documentation: https://pandas.pydata.org/pandas-docs/stable/user_guide/indexing.html#returning-a-view-versus-a-copy\n",
      "  # This is added back by InteractiveShellApp.init_path()\n"
     ]
    }
   ],
   "source": [
    "new_df = pd.DataFrame()\n",
    "\n",
    "for i in df.name.unique():\n",
    "    test = df[df['name'] == i]\n",
    "    genefina(test)\n",
    "    new_df = pd.concat([new_df, test])"
   ]
  },
  {
   "cell_type": "code",
   "execution_count": 26,
   "id": "42211ad4",
   "metadata": {
    "collapsed": true
   },
   "outputs": [
    {
     "data": {
      "text/plain": [
       "(1430, 20)"
      ]
     },
     "execution_count": 26,
     "metadata": {},
     "output_type": "execute_result"
    }
   ],
   "source": [
    "new_df.shape"
   ]
  },
  {
   "cell_type": "code",
   "execution_count": 62,
   "id": "4facd3da",
   "metadata": {},
   "outputs": [],
   "source": [
    "new_df.to_csv('new_df.csv',index=False)"
   ]
  },
  {
   "cell_type": "markdown",
   "id": "77fb615c",
   "metadata": {},
   "source": [
    "# Sentiment Analysis"
   ]
  },
  {
   "cell_type": "code",
   "execution_count": 6,
   "id": "f30ae7fa",
   "metadata": {},
   "outputs": [],
   "source": [
    "new_df = pd.read_csv('new_df.csv')"
   ]
  },
  {
   "cell_type": "code",
   "execution_count": 7,
   "id": "70889980",
   "metadata": {},
   "outputs": [
    {
     "data": {
      "text/html": [
       "<div>\n",
       "<style scoped>\n",
       "    .dataframe tbody tr th:only-of-type {\n",
       "        vertical-align: middle;\n",
       "    }\n",
       "\n",
       "    .dataframe tbody tr th {\n",
       "        vertical-align: top;\n",
       "    }\n",
       "\n",
       "    .dataframe thead th {\n",
       "        text-align: right;\n",
       "    }\n",
       "</style>\n",
       "<table border=\"1\" class=\"dataframe\">\n",
       "  <thead>\n",
       "    <tr style=\"text-align: right;\">\n",
       "      <th></th>\n",
       "      <th>subreddit</th>\n",
       "      <th>Date</th>\n",
       "      <th>text</th>\n",
       "      <th>sum</th>\n",
       "      <th>Open</th>\n",
       "      <th>High</th>\n",
       "      <th>Low</th>\n",
       "      <th>Close</th>\n",
       "      <th>Adj Close</th>\n",
       "      <th>Volume</th>\n",
       "      <th>name</th>\n",
       "      <th>returns</th>\n",
       "      <th>Yesterday_returns</th>\n",
       "      <th>gain</th>\n",
       "      <th>Yesterday_gain</th>\n",
       "      <th>three_day_returns</th>\n",
       "      <th>seven_day_returns</th>\n",
       "      <th>three_day_volatility</th>\n",
       "      <th>seven_day_volatility</th>\n",
       "      <th>frequency_log</th>\n",
       "    </tr>\n",
       "  </thead>\n",
       "  <tbody>\n",
       "    <tr>\n",
       "      <th>0</th>\n",
       "      <td>NaN</td>\n",
       "      <td>2022-11-02</td>\n",
       "      <td>NaN</td>\n",
       "      <td>NaN</td>\n",
       "      <td>0.875238</td>\n",
       "      <td>0.888779</td>\n",
       "      <td>0.840319</td>\n",
       "      <td>0.871718</td>\n",
       "      <td>0.871718</td>\n",
       "      <td>596962768</td>\n",
       "      <td>0xPolygon</td>\n",
       "      <td>NaN</td>\n",
       "      <td>NaN</td>\n",
       "      <td>0</td>\n",
       "      <td>NaN</td>\n",
       "      <td>NaN</td>\n",
       "      <td>NaN</td>\n",
       "      <td>NaN</td>\n",
       "      <td>NaN</td>\n",
       "      <td>NaN</td>\n",
       "    </tr>\n",
       "    <tr>\n",
       "      <th>1</th>\n",
       "      <td>0xPolygon</td>\n",
       "      <td>2022-11-03</td>\n",
       "      <td>Unique Chance to Own a Top Web3 Domain! nan In...</td>\n",
       "      <td>2.0</td>\n",
       "      <td>0.871787</td>\n",
       "      <td>0.981326</td>\n",
       "      <td>0.870410</td>\n",
       "      <td>0.952122</td>\n",
       "      <td>0.952122</td>\n",
       "      <td>1002654774</td>\n",
       "      <td>0xPolygon</td>\n",
       "      <td>0.092236</td>\n",
       "      <td>NaN</td>\n",
       "      <td>1</td>\n",
       "      <td>0.0</td>\n",
       "      <td>NaN</td>\n",
       "      <td>NaN</td>\n",
       "      <td>NaN</td>\n",
       "      <td>NaN</td>\n",
       "      <td>0.693147</td>\n",
       "    </tr>\n",
       "  </tbody>\n",
       "</table>\n",
       "</div>"
      ],
      "text/plain": [
       "   subreddit        Date                                               text  \\\n",
       "0        NaN  2022-11-02                                                NaN   \n",
       "1  0xPolygon  2022-11-03  Unique Chance to Own a Top Web3 Domain! nan In...   \n",
       "\n",
       "   sum      Open      High       Low     Close  Adj Close      Volume  \\\n",
       "0  NaN  0.875238  0.888779  0.840319  0.871718   0.871718   596962768   \n",
       "1  2.0  0.871787  0.981326  0.870410  0.952122   0.952122  1002654774   \n",
       "\n",
       "        name   returns  Yesterday_returns  gain  Yesterday_gain  \\\n",
       "0  0xPolygon       NaN                NaN     0             NaN   \n",
       "1  0xPolygon  0.092236                NaN     1             0.0   \n",
       "\n",
       "   three_day_returns  seven_day_returns  three_day_volatility  \\\n",
       "0                NaN                NaN                   NaN   \n",
       "1                NaN                NaN                   NaN   \n",
       "\n",
       "   seven_day_volatility  frequency_log  \n",
       "0                   NaN            NaN  \n",
       "1                   NaN       0.693147  "
      ]
     },
     "execution_count": 7,
     "metadata": {},
     "output_type": "execute_result"
    }
   ],
   "source": [
    "new_df.head(2)"
   ]
  },
  {
   "cell_type": "markdown",
   "id": "767a348d",
   "metadata": {},
   "source": [
    "## Text Preprocessing"
   ]
  },
  {
   "cell_type": "code",
   "execution_count": 125,
   "id": "01f113c5",
   "metadata": {},
   "outputs": [],
   "source": [
    "new_text = []\n",
    "count=0\n",
    "for x in title_data.text:\n",
    "    if type(x) == str:\n",
    "        x = x.lower()\n",
    "        x = re.sub('@[^\\s]+','',x)\n",
    "        x = re.sub(r\"http\\S+\", \"\", x)\n",
    "        x = ' '.join(re.findall(r'\\w+', x))\n",
    "        x = re.sub(r'\\s+[a-zA-Z]\\s+', '', x)\n",
    "        x = re.sub(r'\\s+', ' ', x, flags=re.I)\n",
    "        new_text.append(x)\n",
    "    else:\n",
    "        new_text.append(x)\n",
    "        count += 1"
   ]
  },
  {
   "cell_type": "code",
   "execution_count": 126,
   "id": "fc084ef5",
   "metadata": {},
   "outputs": [
    {
     "data": {
      "text/plain": [
       "96"
      ]
     },
     "execution_count": 126,
     "metadata": {},
     "output_type": "execute_result"
    }
   ],
   "source": [
    "count"
   ]
  },
  {
   "cell_type": "markdown",
   "id": "8293c032",
   "metadata": {},
   "source": [
    "## Feature Engineering"
   ]
  },
  {
   "cell_type": "code",
   "execution_count": 127,
   "id": "ceb213a2",
   "metadata": {
    "scrolled": true
   },
   "outputs": [
    {
     "name": "stderr",
     "output_type": "stream",
     "text": [
      "[nltk_data] Downloading package vader_lexicon to\n",
      "[nltk_data]     /Users/buluo/nltk_data...\n",
      "[nltk_data]   Package vader_lexicon is already up-to-date!\n"
     ]
    },
    {
     "data": {
      "text/plain": [
       "True"
      ]
     },
     "execution_count": 127,
     "metadata": {},
     "output_type": "execute_result"
    }
   ],
   "source": [
    "from nltk.sentiment.vader import SentimentIntensityAnalyzer as SIA\n",
    "import nltk\n",
    "nltk.download('vader_lexicon')"
   ]
  },
  {
   "cell_type": "code",
   "execution_count": 142,
   "id": "674823cb",
   "metadata": {},
   "outputs": [],
   "source": [
    "sid = SIA()\n",
    "\n",
    "# sentiments = []\n",
    "Positive = []\n",
    "Neutral = []\n",
    "Negative = []\n",
    "compound = []\n",
    "\n",
    "for x in new_text:\n",
    "    if type(x) == str:\n",
    "        x = sid.polarity_scores(x)\n",
    "#         sentiments.append(x)\n",
    "        Positive.append(x['pos'])\n",
    "        Neutral.append(x['neu'])\n",
    "        Negative.append(x['neg'])\n",
    "        compound.append(x['compound'])\n",
    "    else:\n",
    "#         sentiments.append(np.nan)\n",
    "        Positive.append(np.nan)\n",
    "        Neutral.append(np.nan)\n",
    "        Negative.append(np.nan)\n",
    "        compound.append(np.nan)"
   ]
  },
  {
   "cell_type": "code",
   "execution_count": 145,
   "id": "5765ddbc",
   "metadata": {},
   "outputs": [],
   "source": [
    "new_df['new_text'] = new_text\n",
    "new_df['Positive'] = Positive\n",
    "new_df['Neutral'] = Neutral\n",
    "new_df['Negative'] = Negative\n",
    "new_df['compound'] = compound"
   ]
  },
  {
   "cell_type": "code",
   "execution_count": 92,
   "id": "263a8f87",
   "metadata": {
    "scrolled": true
   },
   "outputs": [
    {
     "data": {
      "image/png": "[encoded data removed]",
      "text/plain": [
       "<Figure size 576x720 with 2 Axes>"
      ]
     },
     "metadata": {
      "needs_background": "light"
     },
     "output_type": "display_data"
    }
   ],
   "source": [
    "with plt.style.context(['science']):\n",
    "    fig, axs = plt.subplots(2, 1, figsize=(8, 10))\n",
    "    \n",
    "    axs[0].set_title('Distribution of Sentiments Across all Posts', fontsize=19, fontweight='bold')\n",
    "    sns.kdeplot(Negative, bw_method=0.1, ax=axs[0], label='Negative')\n",
    "    sns.kdeplot(Positive, bw_method=0.1, ax=axs[0], label='Positive')\n",
    "    sns.kdeplot(Neutral, bw_method=0.1, ax=axs[0], label='Neutral')\n",
    "    axs[0].legend(fontsize=12)\n",
    "    \n",
    "    axs[1].set_title('CDF of Sentiments Across all Posts', fontsize=19, fontweight='bold')\n",
    "    sns.kdeplot(Negative, bw_method=0.1, cumulative=True, ax=axs[1], label='Negative')\n",
    "    sns.kdeplot(Positive, bw_method=0.1, cumulative=True, ax=axs[1], label='Positive')\n",
    "    sns.kdeplot(Neutral, bw_method=0.1, cumulative=True, ax=axs[1], label='Neutral')\n",
    "    axs[1].set_xlabel('Sentiment Value', fontsize=19)\n",
    "    axs[1].legend(fontsize=12)\n",
    "    \n",
    "    plt.tight_layout()\n",
    "    plt.show()\n",
    "    fig.savefig('graph/Distribution & CDF.png', dpi=300)\n",
    "    fig.savefig('graph/Distribution & CDF.jpg', dpi=300)"
   ]
  },
  {
   "cell_type": "code",
   "execution_count": 94,
   "id": "82b123d2",
   "metadata": {},
   "outputs": [],
   "source": [
    "ft_data = new_df.copy()\n",
    "ft_data['Positive Sentiment'] = Positive\n",
    "ft_data['Negative Sentiment']= Negative\n",
    "# ft_data[''"
   ]
  },
  {
   "cell_type": "code",
   "execution_count": 109,
   "id": "e9906a6a",
   "metadata": {},
   "outputs": [
    {
     "name": "stdout",
     "output_type": "stream",
     "text": [
      "done first\n",
      "done first\n"
     ]
    },
    {
     "data": {
      "image/png": "[encoded data removed]",
      "text/plain": [
       "<Figure size 648x864 with 2 Axes>"
      ]
     },
     "metadata": {
      "needs_background": "light"
     },
     "output_type": "display_data"
    }
   ],
   "source": [
    "with plt.style.context(['science']):\n",
    "    fig, axs = plt.subplots(2, 1, figsize=(9, 12))\n",
    "    \n",
    "    axs[0].set_title('Daily Average Positive Sentiment', fontsize=19, fontweight='bold')\n",
    "    axs[0].plot(b_date_mean['Date'], b_date_mean['Positive Sentiment'], color='blue', label='Positive Sentiment Mean')\n",
    "    axs[0].axhline(y=b_date_mean['Positive Sentiment'].mean(), color='black', linestyle='dashdot', linewidth=2, label='Mean')\n",
    "    axs[0].set_ylabel('Sentiment Score', fontsize=18)\n",
    "    axs[0].tick_params(axis='both', labelsize=16)\n",
    "    axs[0].legend(fontsize=12)\n",
    "    print('done first')\n",
    "    \n",
    "    axs[1].set_title('Daily Average Negative Sentiment', fontsize=19, fontweight='bold')\n",
    "    axs[1].plot(b_date_mean['Date'], b_date_mean['Negative Sentiment'], color='red', label='Negative Sentiment Mean')\n",
    "    axs[1].axhline(y=b_date_mean['Negative Sentiment'].mean(), color='black', linestyle='dashdot', linewidth=2, label='Mean')\n",
    "    axs[1].set_xlabel('Date', fontsize=18)\n",
    "    axs[1].set_ylabel('Sentiment Score', fontsize=18)\n",
    "    axs[1].tick_params(axis='both', labelsize=16)\n",
    "    axs[1].legend(fontsize=12)\n",
    "    print('done first')\n",
    "\n",
    "#         # Set the x-axis to show 10 days per point   \n",
    "    axs[0].xaxis.set_major_locator(mdates.DayLocator(interval=20))\n",
    "    axs[0].xaxis.set_major_formatter(mdates.DateFormatter('%m-%d'))\n",
    "    plt.setp(axs[0].xaxis.get_majorticklabels(), rotation=15)\n",
    "#         fig.savefig('fig1.png', dpi=300)\n",
    "    axs[1].xaxis.set_major_locator(mdates.DayLocator(interval=20))\n",
    "    axs[1].xaxis.set_major_formatter(mdates.DateFormatter('%m-%d'))\n",
    "    plt.setp(axs[1].xaxis.get_majorticklabels(), rotation=15)\n",
    "    \n",
    "    plt.suptitle(\"Sentiment Average Change With Time\", fontsize=20, fontweight='bold')\n",
    "    plt.tight_layout(rect=[0, 0, 1, 0.97])\n",
    "    \n",
    "    plt.savefig('graph/sentiment_ave_change.png', dpi=300)\n",
    "    plt.savefig('graph/sentiment_ave_change.jpg', dpi=300)\n",
    "    plt.show()\n"
   ]
  },
  {
   "cell_type": "markdown",
   "id": "543d5035",
   "metadata": {},
   "source": [
    "# Visualization"
   ]
  },
  {
   "cell_type": "code",
   "execution_count": 146,
   "id": "92cad476",
   "metadata": {},
   "outputs": [
    {
     "data": {
      "text/html": [
       "<div>\n",
       "<style scoped>\n",
       "    .dataframe tbody tr th:only-of-type {\n",
       "        vertical-align: middle;\n",
       "    }\n",
       "\n",
       "    .dataframe tbody tr th {\n",
       "        vertical-align: top;\n",
       "    }\n",
       "\n",
       "    .dataframe thead th {\n",
       "        text-align: right;\n",
       "    }\n",
       "</style>\n",
       "<table border=\"1\" class=\"dataframe\">\n",
       "  <thead>\n",
       "    <tr style=\"text-align: right;\">\n",
       "      <th></th>\n",
       "      <th>subreddit</th>\n",
       "      <th>Date</th>\n",
       "      <th>text</th>\n",
       "      <th>sum</th>\n",
       "      <th>Open</th>\n",
       "      <th>High</th>\n",
       "      <th>Low</th>\n",
       "      <th>Close</th>\n",
       "      <th>Adj Close</th>\n",
       "      <th>Volume</th>\n",
       "      <th>...</th>\n",
       "      <th>three_day_returns</th>\n",
       "      <th>seven_day_returns</th>\n",
       "      <th>three_day_volatility</th>\n",
       "      <th>seven_day_volatility</th>\n",
       "      <th>frequency_log</th>\n",
       "      <th>new_text</th>\n",
       "      <th>Positive</th>\n",
       "      <th>Neutral</th>\n",
       "      <th>Negative</th>\n",
       "      <th>compound</th>\n",
       "    </tr>\n",
       "  </thead>\n",
       "  <tbody>\n",
       "    <tr>\n",
       "      <th>0</th>\n",
       "      <td>NaN</td>\n",
       "      <td>2022-11-02</td>\n",
       "      <td>NaN</td>\n",
       "      <td>NaN</td>\n",
       "      <td>0.875238</td>\n",
       "      <td>0.888779</td>\n",
       "      <td>0.840319</td>\n",
       "      <td>0.871718</td>\n",
       "      <td>0.871718</td>\n",
       "      <td>596962768</td>\n",
       "      <td>...</td>\n",
       "      <td>NaN</td>\n",
       "      <td>NaN</td>\n",
       "      <td>NaN</td>\n",
       "      <td>NaN</td>\n",
       "      <td>NaN</td>\n",
       "      <td>NaN</td>\n",
       "      <td>NaN</td>\n",
       "      <td>NaN</td>\n",
       "      <td>NaN</td>\n",
       "      <td>NaN</td>\n",
       "    </tr>\n",
       "    <tr>\n",
       "      <th>1</th>\n",
       "      <td>0xPolygon</td>\n",
       "      <td>2022-11-03</td>\n",
       "      <td>Unique Chance to Own a Top Web3 Domain! nan In...</td>\n",
       "      <td>2.0</td>\n",
       "      <td>0.871787</td>\n",
       "      <td>0.981326</td>\n",
       "      <td>0.870410</td>\n",
       "      <td>0.952122</td>\n",
       "      <td>0.952122</td>\n",
       "      <td>1002654774</td>\n",
       "      <td>...</td>\n",
       "      <td>NaN</td>\n",
       "      <td>NaN</td>\n",
       "      <td>NaN</td>\n",
       "      <td>NaN</td>\n",
       "      <td>0.693147</td>\n",
       "      <td>unique chance to owntop web3 domain nan instag...</td>\n",
       "      <td>0.1</td>\n",
       "      <td>0.9</td>\n",
       "      <td>0.0</td>\n",
       "      <td>0.25</td>\n",
       "    </tr>\n",
       "  </tbody>\n",
       "</table>\n",
       "<p>2 rows × 25 columns</p>\n",
       "</div>"
      ],
      "text/plain": [
       "   subreddit        Date                                               text  \\\n",
       "0        NaN  2022-11-02                                                NaN   \n",
       "1  0xPolygon  2022-11-03  Unique Chance to Own a Top Web3 Domain! nan In...   \n",
       "\n",
       "   sum      Open      High       Low     Close  Adj Close      Volume  ...  \\\n",
       "0  NaN  0.875238  0.888779  0.840319  0.871718   0.871718   596962768  ...   \n",
       "1  2.0  0.871787  0.981326  0.870410  0.952122   0.952122  1002654774  ...   \n",
       "\n",
       "  three_day_returns  seven_day_returns  three_day_volatility  \\\n",
       "0               NaN                NaN                   NaN   \n",
       "1               NaN                NaN                   NaN   \n",
       "\n",
       "   seven_day_volatility  frequency_log  \\\n",
       "0                   NaN            NaN   \n",
       "1                   NaN       0.693147   \n",
       "\n",
       "                                            new_text  Positive  Neutral  \\\n",
       "0                                                NaN       NaN      NaN   \n",
       "1  unique chance to owntop web3 domain nan instag...       0.1      0.9   \n",
       "\n",
       "   Negative  compound  \n",
       "0       NaN       NaN  \n",
       "1       0.0      0.25  \n",
       "\n",
       "[2 rows x 25 columns]"
      ]
     },
     "execution_count": 146,
     "metadata": {},
     "output_type": "execute_result"
    }
   ],
   "source": [
    "new_df.head(2)"
   ]
  },
  {
   "cell_type": "code",
   "execution_count": 147,
   "id": "e4282281",
   "metadata": {},
   "outputs": [
    {
     "data": {
      "text/plain": [
       "(1430, 25)"
      ]
     },
     "execution_count": 147,
     "metadata": {},
     "output_type": "execute_result"
    }
   ],
   "source": [
    "new_df.shape"
   ]
  },
  {
   "cell_type": "code",
   "execution_count": 150,
   "id": "18102025",
   "metadata": {},
   "outputs": [
    {
     "data": {
      "text/plain": [
       "Index(['subreddit', 'Date', 'text', 'sum', 'Open', 'High', 'Low', 'Close',\n",
       "       'Adj Close', 'Volume', 'name', 'returns', 'Yesterday_returns', 'gain',\n",
       "       'Yesterday_gain', 'three_day_returns', 'seven_day_returns',\n",
       "       'three_day_volatility', 'seven_day_volatility', 'frequency_log',\n",
       "       'new_text', 'Positive', 'Neutral', 'Negative', 'compound'],\n",
       "      dtype='object')"
      ]
     },
     "execution_count": 150,
     "metadata": {},
     "output_type": "execute_result"
    }
   ],
   "source": [
    "new_df.columns"
   ]
  },
  {
   "cell_type": "code",
   "execution_count": 158,
   "id": "b34c20a2",
   "metadata": {},
   "outputs": [
    {
     "data": {
      "image/png": "[encoded data removed]",
      "text/plain": [
       "<Figure size 720x1440 with 20 Axes>"
      ]
     },
     "metadata": {
      "needs_background": "light"
     },
     "output_type": "display_data"
    }
   ],
   "source": [
    "with plt.style.context(['science']):\n",
    "    fig, axs = plt.subplots(5, 2, figsize=(10,20),sharex=True, gridspec_kw={'wspace': 0.5})\n",
    "    for ax, pic in zip(axs.flat, new_df['name'].unique()):\n",
    "        ax.set_title(f'daily return and Frequency ({pic})')\n",
    "        ax.plot(new_df[new_df.name == pic]['Date'], new_df[new_df.name == pic]['returns'])\n",
    "        ax.set_ylabel('daily return')\n",
    "        ax2 = ax.twinx()\n",
    "        ax2.bar(new_df[new_df.name == pic]['Date'], new_df[new_df.name == pic]['sum'], alpha=0.2)\n",
    "        ax2.set_ylabel('Frequency')\n",
    "#         # Set the x-axis to show 10 days per point   \n",
    "        ax.xaxis.set_major_locator(mdates.DayLocator(interval=20))\n",
    "        ax.xaxis.set_major_formatter(mdates.DateFormatter('%m-%d'))\n",
    "        plt.setp(ax.xaxis.get_majorticklabels(), rotation=15)\n",
    "        fig.savefig('graph/daily return.png', dpi=300)"
   ]
  },
  {
   "cell_type": "code",
   "execution_count": 161,
   "id": "5ca69e75",
   "metadata": {
    "scrolled": true
   },
   "outputs": [
    {
     "data": {
      "image/png": "[encoded data removed]",
      "text/plain": [
       "<Figure size 720x1440 with 20 Axes>"
      ]
     },
     "metadata": {
      "needs_background": "light"
     },
     "output_type": "display_data"
    }
   ],
   "source": [
    "with plt.style.context(['science']):\n",
    "    fig, axs = plt.subplots(5, 2, figsize=(10,20),sharex=True, gridspec_kw={'wspace': 0.5})\n",
    "    for ax, pic in zip(axs.flat, new_df['name'].unique()):\n",
    "        ax.set_title(f'Close Price and Frequency ({pic})')\n",
    "        ax.plot(new_df[new_df.name == pic]['Date'], new_df[new_df.name == pic]['Close'])\n",
    "        ax.set_ylabel('Close Price')\n",
    "        ax2 = ax.twinx()\n",
    "        ax2.bar(new_df[new_df.name == pic]['Date'], new_df[new_df.name == pic]['sum'], alpha=0.2)\n",
    "        ax2.set_ylabel('Frequency')\n",
    "#         # Set the x-axis to show 10 days per point   \n",
    "        ax.xaxis.set_major_locator(mdates.DayLocator(interval=20))\n",
    "        ax.xaxis.set_major_formatter(mdates.DateFormatter('%m-%d'))\n",
    "        plt.setp(ax.xaxis.get_majorticklabels(), rotation=15)\n",
    "        fig.savefig('graph/Close.png', dpi=300)"
   ]
  },
  {
   "cell_type": "code",
   "execution_count": 368,
   "id": "bf4b4426",
   "metadata": {
    "collapsed": true
   },
   "outputs": [
    {
     "data": {
      "text/html": [
       "<div>\n",
       "<style scoped>\n",
       "    .dataframe tbody tr th:only-of-type {\n",
       "        vertical-align: middle;\n",
       "    }\n",
       "\n",
       "    .dataframe tbody tr th {\n",
       "        vertical-align: top;\n",
       "    }\n",
       "\n",
       "    .dataframe thead th {\n",
       "        text-align: right;\n",
       "    }\n",
       "</style>\n",
       "<table border=\"1\" class=\"dataframe\">\n",
       "  <thead>\n",
       "    <tr style=\"text-align: right;\">\n",
       "      <th></th>\n",
       "      <th>Yesterday_gain</th>\n",
       "      <th>three_day_returns</th>\n",
       "      <th>seven_day_returns</th>\n",
       "      <th>three_day_volatility</th>\n",
       "      <th>seven_day_volatility</th>\n",
       "      <th>frequency_log</th>\n",
       "      <th>Positive</th>\n",
       "      <th>Neutral</th>\n",
       "      <th>Negative</th>\n",
       "      <th>sentiment</th>\n",
       "      <th>Weekday</th>\n",
       "      <th>Stable_Coin</th>\n",
       "    </tr>\n",
       "  </thead>\n",
       "  <tbody>\n",
       "    <tr>\n",
       "      <th>count</th>\n",
       "      <td>1420.000000</td>\n",
       "      <td>1400.000000</td>\n",
       "      <td>1360.000000</td>\n",
       "      <td>1410.000000</td>\n",
       "      <td>1360.000000</td>\n",
       "      <td>1334.000000</td>\n",
       "      <td>1334.000000</td>\n",
       "      <td>1334.000000</td>\n",
       "      <td>1334.000000</td>\n",
       "      <td>1334.000000</td>\n",
       "      <td>1430.000000</td>\n",
       "      <td>1430.000000</td>\n",
       "    </tr>\n",
       "    <tr>\n",
       "      <th>mean</th>\n",
       "      <td>0.487324</td>\n",
       "      <td>0.001218</td>\n",
       "      <td>0.002896</td>\n",
       "      <td>0.025962</td>\n",
       "      <td>0.030600</td>\n",
       "      <td>3.068649</td>\n",
       "      <td>0.133831</td>\n",
       "      <td>0.811755</td>\n",
       "      <td>0.054407</td>\n",
       "      <td>0.834178</td>\n",
       "      <td>3.000000</td>\n",
       "      <td>0.100000</td>\n",
       "    </tr>\n",
       "    <tr>\n",
       "      <th>std</th>\n",
       "      <td>0.500015</td>\n",
       "      <td>0.068340</td>\n",
       "      <td>0.105068</td>\n",
       "      <td>0.036759</td>\n",
       "      <td>0.030589</td>\n",
       "      <td>1.327224</td>\n",
       "      <td>0.049460</td>\n",
       "      <td>0.056905</td>\n",
       "      <td>0.038492</td>\n",
       "      <td>0.408568</td>\n",
       "      <td>1.983134</td>\n",
       "      <td>0.300105</td>\n",
       "    </tr>\n",
       "    <tr>\n",
       "      <th>min</th>\n",
       "      <td>0.000000</td>\n",
       "      <td>-0.573460</td>\n",
       "      <td>-0.604551</td>\n",
       "      <td>0.000001</td>\n",
       "      <td>0.000036</td>\n",
       "      <td>0.000000</td>\n",
       "      <td>0.000000</td>\n",
       "      <td>0.499000</td>\n",
       "      <td>0.000000</td>\n",
       "      <td>-1.000000</td>\n",
       "      <td>0.000000</td>\n",
       "      <td>0.000000</td>\n",
       "    </tr>\n",
       "    <tr>\n",
       "      <th>25%</th>\n",
       "      <td>0.000000</td>\n",
       "      <td>-0.025494</td>\n",
       "      <td>-0.040145</td>\n",
       "      <td>0.002394</td>\n",
       "      <td>0.014000</td>\n",
       "      <td>2.197225</td>\n",
       "      <td>0.110000</td>\n",
       "      <td>0.785000</td>\n",
       "      <td>0.030250</td>\n",
       "      <td>0.954050</td>\n",
       "      <td>1.000000</td>\n",
       "      <td>0.000000</td>\n",
       "    </tr>\n",
       "    <tr>\n",
       "      <th>50%</th>\n",
       "      <td>0.000000</td>\n",
       "      <td>-0.000028</td>\n",
       "      <td>-0.000047</td>\n",
       "      <td>0.015983</td>\n",
       "      <td>0.024601</td>\n",
       "      <td>3.135494</td>\n",
       "      <td>0.132000</td>\n",
       "      <td>0.812000</td>\n",
       "      <td>0.052000</td>\n",
       "      <td>0.997000</td>\n",
       "      <td>3.000000</td>\n",
       "      <td>0.000000</td>\n",
       "    </tr>\n",
       "    <tr>\n",
       "      <th>75%</th>\n",
       "      <td>1.000000</td>\n",
       "      <td>0.020554</td>\n",
       "      <td>0.042287</td>\n",
       "      <td>0.035758</td>\n",
       "      <td>0.040695</td>\n",
       "      <td>4.077537</td>\n",
       "      <td>0.156000</td>\n",
       "      <td>0.840000</td>\n",
       "      <td>0.072000</td>\n",
       "      <td>0.999600</td>\n",
       "      <td>5.000000</td>\n",
       "      <td>0.000000</td>\n",
       "    </tr>\n",
       "    <tr>\n",
       "      <th>max</th>\n",
       "      <td>1.000000</td>\n",
       "      <td>0.482294</td>\n",
       "      <td>0.852197</td>\n",
       "      <td>0.488699</td>\n",
       "      <td>0.225162</td>\n",
       "      <td>5.746203</td>\n",
       "      <td>0.493000</td>\n",
       "      <td>1.000000</td>\n",
       "      <td>0.441000</td>\n",
       "      <td>1.000000</td>\n",
       "      <td>6.000000</td>\n",
       "      <td>1.000000</td>\n",
       "    </tr>\n",
       "  </tbody>\n",
       "</table>\n",
       "</div>"
      ],
      "text/plain": [
       "       Yesterday_gain  three_day_returns  seven_day_returns  \\\n",
       "count     1420.000000        1400.000000        1360.000000   \n",
       "mean         0.487324           0.001218           0.002896   \n",
       "std          0.500015           0.068340           0.105068   \n",
       "min          0.000000          -0.573460          -0.604551   \n",
       "25%          0.000000          -0.025494          -0.040145   \n",
       "50%          0.000000          -0.000028          -0.000047   \n",
       "75%          1.000000           0.020554           0.042287   \n",
       "max          1.000000           0.482294           0.852197   \n",
       "\n",
       "       three_day_volatility  seven_day_volatility  frequency_log     Positive  \\\n",
       "count           1410.000000           1360.000000    1334.000000  1334.000000   \n",
       "mean               0.025962              0.030600       3.068649     0.133831   \n",
       "std                0.036759              0.030589       1.327224     0.049460   \n",
       "min                0.000001              0.000036       0.000000     0.000000   \n",
       "25%                0.002394              0.014000       2.197225     0.110000   \n",
       "50%                0.015983              0.024601       3.135494     0.132000   \n",
       "75%                0.035758              0.040695       4.077537     0.156000   \n",
       "max                0.488699              0.225162       5.746203     0.493000   \n",
       "\n",
       "           Neutral     Negative    sentiment      Weekday  Stable_Coin  \n",
       "count  1334.000000  1334.000000  1334.000000  1430.000000  1430.000000  \n",
       "mean      0.811755     0.054407     0.834178     3.000000     0.100000  \n",
       "std       0.056905     0.038492     0.408568     1.983134     0.300105  \n",
       "min       0.499000     0.000000    -1.000000     0.000000     0.000000  \n",
       "25%       0.785000     0.030250     0.954050     1.000000     0.000000  \n",
       "50%       0.812000     0.052000     0.997000     3.000000     0.000000  \n",
       "75%       0.840000     0.072000     0.999600     5.000000     0.000000  \n",
       "max       1.000000     0.441000     1.000000     6.000000     1.000000  "
      ]
     },
     "execution_count": 368,
     "metadata": {},
     "output_type": "execute_result"
    }
   ],
   "source": [
    "new_df[['Yesterday_gain', 'three_day_returns', 'seven_day_returns',\n",
    "       'three_day_volatility', 'seven_day_volatility', 'frequency_log', 'Positive', 'Neutral', 'Negative', 'sentiment', 'Weekday',\n",
    "       'Stable_Coin']].describe()"
   ]
  },
  {
   "cell_type": "markdown",
   "id": "2d07ad10",
   "metadata": {},
   "source": [
    "# Summary Statistics"
   ]
  },
  {
   "cell_type": "code",
   "execution_count": 378,
   "id": "180ad24f",
   "metadata": {},
   "outputs": [
    {
     "data": {
      "text/html": [
       "<div>\n",
       "<style scoped>\n",
       "    .dataframe tbody tr th:only-of-type {\n",
       "        vertical-align: middle;\n",
       "    }\n",
       "\n",
       "    .dataframe tbody tr th {\n",
       "        vertical-align: top;\n",
       "    }\n",
       "\n",
       "    .dataframe thead th {\n",
       "        text-align: right;\n",
       "    }\n",
       "</style>\n",
       "<table border=\"1\" class=\"dataframe\">\n",
       "  <thead>\n",
       "    <tr style=\"text-align: right;\">\n",
       "      <th>Statistic</th>\n",
       "      <th>count</th>\n",
       "      <th>mean</th>\n",
       "      <th>std</th>\n",
       "      <th>min</th>\n",
       "      <th>25%</th>\n",
       "      <th>50%</th>\n",
       "      <th>75%</th>\n",
       "      <th>max</th>\n",
       "      <th>Observations</th>\n",
       "    </tr>\n",
       "  </thead>\n",
       "  <tbody>\n",
       "    <tr>\n",
       "      <th>Yesterday_gain</th>\n",
       "      <td>1420.0</td>\n",
       "      <td>0.487324</td>\n",
       "      <td>0.500015</td>\n",
       "      <td>0.000000</td>\n",
       "      <td>0.000000</td>\n",
       "      <td>0.000000</td>\n",
       "      <td>1.000000</td>\n",
       "      <td>1.000000</td>\n",
       "      <td>1430.0</td>\n",
       "    </tr>\n",
       "    <tr>\n",
       "      <th>three_day_returns</th>\n",
       "      <td>1400.0</td>\n",
       "      <td>0.001218</td>\n",
       "      <td>0.068340</td>\n",
       "      <td>-0.573460</td>\n",
       "      <td>-0.025494</td>\n",
       "      <td>-0.000028</td>\n",
       "      <td>0.020554</td>\n",
       "      <td>0.482294</td>\n",
       "      <td>1430.0</td>\n",
       "    </tr>\n",
       "    <tr>\n",
       "      <th>seven_day_returns</th>\n",
       "      <td>1360.0</td>\n",
       "      <td>0.002896</td>\n",
       "      <td>0.105068</td>\n",
       "      <td>-0.604551</td>\n",
       "      <td>-0.040145</td>\n",
       "      <td>-0.000047</td>\n",
       "      <td>0.042287</td>\n",
       "      <td>0.852197</td>\n",
       "      <td>1430.0</td>\n",
       "    </tr>\n",
       "    <tr>\n",
       "      <th>three_day_volatility</th>\n",
       "      <td>1410.0</td>\n",
       "      <td>0.025962</td>\n",
       "      <td>0.036759</td>\n",
       "      <td>0.000001</td>\n",
       "      <td>0.002394</td>\n",
       "      <td>0.015983</td>\n",
       "      <td>0.035758</td>\n",
       "      <td>0.488699</td>\n",
       "      <td>1430.0</td>\n",
       "    </tr>\n",
       "    <tr>\n",
       "      <th>seven_day_volatility</th>\n",
       "      <td>1360.0</td>\n",
       "      <td>0.030600</td>\n",
       "      <td>0.030589</td>\n",
       "      <td>0.000036</td>\n",
       "      <td>0.014000</td>\n",
       "      <td>0.024601</td>\n",
       "      <td>0.040695</td>\n",
       "      <td>0.225162</td>\n",
       "      <td>1430.0</td>\n",
       "    </tr>\n",
       "    <tr>\n",
       "      <th>frequency_log</th>\n",
       "      <td>1334.0</td>\n",
       "      <td>3.068649</td>\n",
       "      <td>1.327224</td>\n",
       "      <td>0.000000</td>\n",
       "      <td>2.197225</td>\n",
       "      <td>3.135494</td>\n",
       "      <td>4.077537</td>\n",
       "      <td>5.746203</td>\n",
       "      <td>1430.0</td>\n",
       "    </tr>\n",
       "    <tr>\n",
       "      <th>Positive</th>\n",
       "      <td>1334.0</td>\n",
       "      <td>0.133831</td>\n",
       "      <td>0.049460</td>\n",
       "      <td>0.000000</td>\n",
       "      <td>0.110000</td>\n",
       "      <td>0.132000</td>\n",
       "      <td>0.156000</td>\n",
       "      <td>0.493000</td>\n",
       "      <td>1430.0</td>\n",
       "    </tr>\n",
       "    <tr>\n",
       "      <th>Neutral</th>\n",
       "      <td>1334.0</td>\n",
       "      <td>0.811755</td>\n",
       "      <td>0.056905</td>\n",
       "      <td>0.499000</td>\n",
       "      <td>0.785000</td>\n",
       "      <td>0.812000</td>\n",
       "      <td>0.840000</td>\n",
       "      <td>1.000000</td>\n",
       "      <td>1430.0</td>\n",
       "    </tr>\n",
       "    <tr>\n",
       "      <th>Negative</th>\n",
       "      <td>1334.0</td>\n",
       "      <td>0.054407</td>\n",
       "      <td>0.038492</td>\n",
       "      <td>0.000000</td>\n",
       "      <td>0.030250</td>\n",
       "      <td>0.052000</td>\n",
       "      <td>0.072000</td>\n",
       "      <td>0.441000</td>\n",
       "      <td>1430.0</td>\n",
       "    </tr>\n",
       "    <tr>\n",
       "      <th>sentiment</th>\n",
       "      <td>1334.0</td>\n",
       "      <td>0.834178</td>\n",
       "      <td>0.408568</td>\n",
       "      <td>-1.000000</td>\n",
       "      <td>0.954050</td>\n",
       "      <td>0.997000</td>\n",
       "      <td>0.999600</td>\n",
       "      <td>1.000000</td>\n",
       "      <td>1430.0</td>\n",
       "    </tr>\n",
       "    <tr>\n",
       "      <th>Weekday</th>\n",
       "      <td>1430.0</td>\n",
       "      <td>3.000000</td>\n",
       "      <td>1.983134</td>\n",
       "      <td>0.000000</td>\n",
       "      <td>1.000000</td>\n",
       "      <td>3.000000</td>\n",
       "      <td>5.000000</td>\n",
       "      <td>6.000000</td>\n",
       "      <td>1430.0</td>\n",
       "    </tr>\n",
       "    <tr>\n",
       "      <th>Stable_Coin</th>\n",
       "      <td>1430.0</td>\n",
       "      <td>0.100000</td>\n",
       "      <td>0.300105</td>\n",
       "      <td>0.000000</td>\n",
       "      <td>0.000000</td>\n",
       "      <td>0.000000</td>\n",
       "      <td>0.000000</td>\n",
       "      <td>1.000000</td>\n",
       "      <td>1430.0</td>\n",
       "    </tr>\n",
       "  </tbody>\n",
       "</table>\n",
       "</div>"
      ],
      "text/plain": [
       "Statistic              count      mean       std       min       25%  \\\n",
       "Yesterday_gain        1420.0  0.487324  0.500015  0.000000  0.000000   \n",
       "three_day_returns     1400.0  0.001218  0.068340 -0.573460 -0.025494   \n",
       "seven_day_returns     1360.0  0.002896  0.105068 -0.604551 -0.040145   \n",
       "three_day_volatility  1410.0  0.025962  0.036759  0.000001  0.002394   \n",
       "seven_day_volatility  1360.0  0.030600  0.030589  0.000036  0.014000   \n",
       "frequency_log         1334.0  3.068649  1.327224  0.000000  2.197225   \n",
       "Positive              1334.0  0.133831  0.049460  0.000000  0.110000   \n",
       "Neutral               1334.0  0.811755  0.056905  0.499000  0.785000   \n",
       "Negative              1334.0  0.054407  0.038492  0.000000  0.030250   \n",
       "sentiment             1334.0  0.834178  0.408568 -1.000000  0.954050   \n",
       "Weekday               1430.0  3.000000  1.983134  0.000000  1.000000   \n",
       "Stable_Coin           1430.0  0.100000  0.300105  0.000000  0.000000   \n",
       "\n",
       "Statistic                  50%       75%       max  Observations  \n",
       "Yesterday_gain        0.000000  1.000000  1.000000        1430.0  \n",
       "three_day_returns    -0.000028  0.020554  0.482294        1430.0  \n",
       "seven_day_returns    -0.000047  0.042287  0.852197        1430.0  \n",
       "three_day_volatility  0.015983  0.035758  0.488699        1430.0  \n",
       "seven_day_volatility  0.024601  0.040695  0.225162        1430.0  \n",
       "frequency_log         3.135494  4.077537  5.746203        1430.0  \n",
       "Positive              0.132000  0.156000  0.493000        1430.0  \n",
       "Neutral               0.812000  0.840000  1.000000        1430.0  \n",
       "Negative              0.052000  0.072000  0.441000        1430.0  \n",
       "sentiment             0.997000  0.999600  1.000000        1430.0  \n",
       "Weekday               3.000000  5.000000  6.000000        1430.0  \n",
       "Stable_Coin           0.000000  0.000000  1.000000        1430.0  "
      ]
     },
     "execution_count": 378,
     "metadata": {},
     "output_type": "execute_result"
    }
   ],
   "source": [
    "summary_stats"
   ]
  },
  {
   "cell_type": "code",
   "execution_count": 381,
   "id": "795deb55",
   "metadata": {},
   "outputs": [
    {
     "name": "stdout",
     "output_type": "stream",
     "text": [
      "\\begin{tabular}{lrrrrr}\n",
      "\\toprule\n",
      "{} &  Observations &   Mean &     SD &    Min &    Max \\\\\n",
      "\\midrule\n",
      "Yesterday\\_gain       &        1430.0 &  0.487 &  0.500 &  0.000 &  1.000 \\\\\n",
      "three\\_day\\_returns    &        1430.0 &  0.001 &  0.068 & -0.573 &  0.482 \\\\\n",
      "seven\\_day\\_returns    &        1430.0 &  0.003 &  0.105 & -0.605 &  0.852 \\\\\n",
      "three\\_day\\_volatility &        1430.0 &  0.026 &  0.037 &  0.000 &  0.489 \\\\\n",
      "seven\\_day\\_volatility &        1430.0 &  0.031 &  0.031 &  0.000 &  0.225 \\\\\n",
      "frequency\\_log        &        1430.0 &  3.069 &  1.327 &  0.000 &  5.746 \\\\\n",
      "Positive             &        1430.0 &  0.134 &  0.049 &  0.000 &  0.493 \\\\\n",
      "Neutral              &        1430.0 &  0.812 &  0.057 &  0.499 &  1.000 \\\\\n",
      "Negative             &        1430.0 &  0.054 &  0.038 &  0.000 &  0.441 \\\\\n",
      "sentiment            &        1430.0 &  0.834 &  0.409 & -1.000 &  1.000 \\\\\n",
      "Weekday              &        1430.0 &  3.000 &  1.983 &  0.000 &  6.000 \\\\\n",
      "Stable\\_Coin          &        1430.0 &  0.100 &  0.300 &  0.000 &  1.000 \\\\\n",
      "\\bottomrule\n",
      "\\end{tabular}\n",
      "\n"
     ]
    }
   ],
   "source": [
    "# Calculate summary statistics using pandas describe() function\n",
    "summary_stats = new_df[['Yesterday_gain', 'three_day_returns', 'seven_day_returns',\n",
    "       'three_day_volatility', 'seven_day_volatility', 'frequency_log',\n",
    "       'new_text', 'Positive', 'Neutral', 'Negative', 'sentiment', 'Weekday',\n",
    "       'Stable_Coin']].describe()\n",
    "\n",
    "# Add a column for the number of observations\n",
    "summary_stats.loc['Observations'] = new_df[['Yesterday_gain', 'three_day_returns', 'seven_day_returns',\n",
    "       'three_day_volatility', 'seven_day_volatility', 'frequency_log',\n",
    "       'new_text', 'Positive', 'Neutral', 'Negative', 'sentiment', 'Weekday',\n",
    "       'Stable_Coin']].shape[0]\n",
    "\n",
    "# Rename the index for the summary statistics table\n",
    "summary_stats.index.name = 'Statistic'\n",
    "\n",
    "# Transpose the summary statistics table\n",
    "summary_stats = summary_stats.transpose()\n",
    "\n",
    "# Set the desired column order\n",
    "column_order = ['Observations', 'mean', 'std', 'min', 'max']\n",
    "\n",
    "# Reorder the columns\n",
    "summary_stats = summary_stats[column_order]\n",
    "\n",
    "# Rename the columns\n",
    "summary_stats.columns = ['Observations', 'Mean', 'SD', 'Min', 'Max']\n",
    "summary_stats = summary_stats.round(3)\n",
    "\n",
    "# Export the summary statistics table as LaTeX\n",
    "latex_table = summary_stats.to_latex(index=True)\n",
    "\n",
    "# # Print the LaTeX table\n",
    "print(latex_table)\n",
    "\n"
   ]
  },
  {
   "cell_type": "code",
   "execution_count": 373,
   "id": "c7d39a18",
   "metadata": {},
   "outputs": [
    {
     "ename": "ModuleNotFoundError",
     "evalue": "No module named 'stargazer.stats'",
     "output_type": "error",
     "traceback": [
      "\u001b[0;31m---------------------------------------------------------------------------\u001b[0m",
      "\u001b[0;31mModuleNotFoundError\u001b[0m                       Traceback (most recent call last)",
      "\u001b[0;32m/var/folders/qq/qvd9bqkj5n519mqym_bxjblc0000gn/T/ipykernel_38018/3821514385.py\u001b[0m in \u001b[0;36m<module>\u001b[0;34m\u001b[0m\n\u001b[0;32m----> 1\u001b[0;31m \u001b[0;32mfrom\u001b[0m \u001b[0mstargazer\u001b[0m\u001b[0;34m.\u001b[0m\u001b[0mstats\u001b[0m \u001b[0;32mimport\u001b[0m \u001b[0mStatArray\u001b[0m\u001b[0;34m\u001b[0m\u001b[0;34m\u001b[0m\u001b[0m\n\u001b[0m\u001b[1;32m      2\u001b[0m \u001b[0;34m\u001b[0m\u001b[0m\n\u001b[1;32m      3\u001b[0m \u001b[0;31m# Create a DataFrame with your summary statistics\u001b[0m\u001b[0;34m\u001b[0m\u001b[0;34m\u001b[0m\u001b[0;34m\u001b[0m\u001b[0m\n\u001b[1;32m      4\u001b[0m summary_data = new_df[['Yesterday_gain', 'three_day_returns', 'seven_day_returns',\n\u001b[1;32m      5\u001b[0m        \u001b[0;34m'three_day_volatility'\u001b[0m\u001b[0;34m,\u001b[0m \u001b[0;34m'seven_day_volatility'\u001b[0m\u001b[0;34m,\u001b[0m \u001b[0;34m'frequency_log'\u001b[0m\u001b[0;34m,\u001b[0m\u001b[0;34m\u001b[0m\u001b[0;34m\u001b[0m\u001b[0m\n",
      "\u001b[0;31mModuleNotFoundError\u001b[0m: No module named 'stargazer.stats'"
     ]
    }
   ],
   "source": [
    "# Create a DataFrame with your summary statistics\n",
    "summary_data = new_df[['Yesterday_gain', 'three_day_returns', 'seven_day_returns',\n",
    "       'three_day_volatility', 'seven_day_volatility', 'frequency_log',\n",
    "       'new_text', 'Positive', 'Neutral', 'Negative', 'sentiment', 'Weekday',\n",
    "       'Stable_Coin']]\n",
    "\n",
    "# Create a Stargazer object\n",
    "stargazer = Stargazer()\n",
    "\n",
    "# Create StatArray objects for each column of summary statistics\n",
    "observations = StatArray(summary_data['Observations'].values)\n",
    "mean = StatArray(summary_data['Mean'].values)\n",
    "std_dev = StatArray(summary_data['Std. Dev.'].values)\n",
    "min_val = StatArray(summary_data['Min'].values)\n",
    "max_val = StatArray(summary_data['Max'].values)\n",
    "\n",
    "# Add the statistics to the Stargazer object\n",
    "stargazer.add_line(observations)\n",
    "stargazer.add_line(mean)\n",
    "stargazer.add_line(std_dev)\n",
    "stargazer.add_line(min_val)\n",
    "stargazer.add_line(max_val)\n",
    "\n",
    "# Set the column labels\n",
    "stargazer.set_column_labels(['Observations','Mean', 'Std. Dev.', 'Min', 'Max'])\n",
    "\n",
    "# Set the row labels\n",
    "stargazer.set_row_labels(summary_data['Variable'].values)\n",
    "stargazer\n",
    "# # Export the summary statistics table as LaTeX\n",
    "# latex_table = stargazer.render_latex()\n",
    "\n",
    "# # Print the LaTeX table\n",
    "# print(latex_table)\n"
   ]
  },
  {
   "cell_type": "markdown",
   "id": "d9e56a38",
   "metadata": {},
   "source": [
    "# Regression"
   ]
  },
  {
   "cell_type": "code",
   "execution_count": 299,
   "id": "1fed349d",
   "metadata": {},
   "outputs": [],
   "source": [
    "new_df['Date'] = pd.to_datetime(new_df['Date'])\n",
    "new_df['Weekday'] = new_df['Date'].dt.weekday"
   ]
  },
  {
   "cell_type": "code",
   "execution_count": 312,
   "id": "399280a5",
   "metadata": {
    "scrolled": true
   },
   "outputs": [
    {
     "data": {
      "text/plain": [
       "Index(['subreddit', 'Date', 'text', 'sum', 'Open', 'High', 'Low', 'Close',\n",
       "       'Adj Close', 'Volume', 'name', 'returns', 'Yesterday_returns', 'gain',\n",
       "       'Yesterday_gain', 'three_day_returns', 'seven_day_returns',\n",
       "       'three_day_volatility', 'seven_day_volatility', 'frequency_log',\n",
       "       'new_text', 'Positive', 'Neutral', 'Negative', 'sentiment', 'Weekday'],\n",
       "      dtype='object')"
      ]
     },
     "execution_count": 312,
     "metadata": {},
     "output_type": "execute_result"
    }
   ],
   "source": [
    "new_df.columns"
   ]
  },
  {
   "cell_type": "code",
   "execution_count": 30,
   "id": "33c888cc",
   "metadata": {},
   "outputs": [],
   "source": [
    "mod1 = ols(formula='frequency_log ~ Yesterday_returns', data = new_df).fit(cov_type='HC0') \n",
    "mod2 = ols(formula='frequency_log ~ Yesterday_gain', data = new_df).fit(cov_type='HC0') \n",
    "mod3 = ols(formula='frequency_log ~ returns', data = new_df).fit(cov_type='HC0') \n",
    "mod4 = ols(formula='frequency_log ~ gain', data = new_df).fit(cov_type='HC0') \n",
    "mod5 = ols(formula='frequency_log ~ three_day_returns', data = new_df).fit(cov_type='HC0') \n",
    "mod6 = ols(formula='frequency_log ~ three_day_volatility', data = new_df).fit(cov_type='HC0') \n",
    "mod7 = ols(formula='frequency_log ~ seven_day_returns', data = new_df).fit(cov_type='HC0') \n",
    "mod8 = ols(formula='frequency_log ~ seven_day_volatility', data = new_df).fit(cov_type='HC0') "
   ]
  },
  {
   "cell_type": "code",
   "execution_count": 32,
   "id": "31e1a30f",
   "metadata": {},
   "outputs": [
    {
     "data": {
      "text/html": [
       "<table style=\"text-align:center\"><tr><td colspan=\"9\" style=\"border-bottom: 1px solid black\"></td></tr><tr><td style=\"text-align:left\"></td><td colspan=\"8\"><em>Dependent variable:frequency_log</em></td></tr><tr><td style=\"text-align:left\"></td><tr><td style=\"text-align:left\"></td><td>(1)</td><td>(2)</td><td>(3)</td><td>(4)</td><td>(5)</td><td>(6)</td><td>(7)</td><td>(8)</td></tr><tr><td colspan=\"9\" style=\"border-bottom: 1px solid black\"></td></tr><tr><td style=\"text-align:left\">Intercept</td><td>3.100<sup>***</sup></td><td>3.077<sup>***</sup></td><td>3.134<sup>***</sup></td><td>3.069<sup>***</sup></td><td>3.077<sup>***</sup></td><td>2.993<sup>***</sup></td><td>2.895<sup>***</sup></td><td>3.071<sup>***</sup></td></tr><tr><td style=\"text-align:left\"></td><td>(0.051)</td><td>(0.036)</td><td>(0.049)</td><td>(0.036)</td><td>(0.036)</td><td>(0.047)</td><td>(0.058)</td><td>(0.037)</td></tr><tr><td style=\"text-align:left\">Yesterday_gain</td><td>-0.064<sup></sup></td><td></td><td></td><td></td><td></td><td></td><td></td><td></td></tr><tr><td style=\"text-align:left\"></td><td>(0.073)</td><td></td><td></td><td></td><td></td><td></td><td></td><td></td></tr><tr><td style=\"text-align:left\">Yesterday_returns</td><td></td><td>0.201<sup></sup></td><td></td><td></td><td></td><td></td><td></td><td></td></tr><tr><td style=\"text-align:left\"></td><td></td><td>(0.675)</td><td></td><td></td><td></td><td></td><td></td><td></td></tr><tr><td style=\"text-align:left\">gain</td><td></td><td></td><td>-0.134<sup>*</sup></td><td></td><td></td><td></td><td></td><td></td></tr><tr><td style=\"text-align:left\"></td><td></td><td></td><td>(0.073)</td><td></td><td></td><td></td><td></td><td></td></tr><tr><td style=\"text-align:left\">returns</td><td></td><td></td><td></td><td>-0.344<sup></sup></td><td></td><td></td><td></td><td></td></tr><tr><td style=\"text-align:left\"></td><td></td><td></td><td></td><td>(0.691)</td><td></td><td></td><td></td><td></td></tr><tr><td style=\"text-align:left\">seven_day_returns</td><td></td><td></td><td></td><td></td><td></td><td></td><td></td><td>0.009<sup></sup></td></tr><tr><td style=\"text-align:left\"></td><td></td><td></td><td></td><td></td><td></td><td></td><td></td><td>(0.295)</td></tr><tr><td style=\"text-align:left\">seven_day_volatility</td><td></td><td></td><td></td><td></td><td></td><td></td><td>5.581<sup>***</sup></td><td></td></tr><tr><td style=\"text-align:left\"></td><td></td><td></td><td></td><td></td><td></td><td></td><td>(1.123)</td><td></td></tr><tr><td style=\"text-align:left\">three_day_returns</td><td></td><td></td><td></td><td></td><td>-0.090<sup></sup></td><td></td><td></td><td></td></tr><tr><td style=\"text-align:left\"></td><td></td><td></td><td></td><td></td><td>(0.458)</td><td></td><td></td><td></td></tr><tr><td style=\"text-align:left\">three_day_volatility</td><td></td><td></td><td></td><td></td><td></td><td>3.175<sup>***</sup></td><td></td><td></td></tr><tr><td style=\"text-align:left\"></td><td></td><td></td><td></td><td></td><td></td><td>(0.886)</td><td></td><td></td></tr><td colspan=\"9\" style=\"border-bottom: 1px solid black\"></td></tr><tr><td style=\"text-align: left\">Observations</td><td>1,334</td><td>1,325</td><td>1,334</td><td>1,334</td><td>1,315</td><td>1,325</td><td>1,278</td><td>1,278</td></tr><tr><td style=\"text-align: left\">R<sup>2</sup></td><td>0.001</td><td>0.000</td><td>0.003</td><td>0.000</td><td>0.000</td><td>0.008</td><td>0.017</td><td>0.000</td></tr><tr><td style=\"text-align: left\">Adjusted R<sup>2</sup></td><td>-0.000</td><td>-0.001</td><td>0.002</td><td>-0.001</td><td>-0.001</td><td>0.007</td><td>0.016</td><td>-0.001</td></tr><tr><td style=\"text-align: left\">Residual Std. Error</td><td>1.327 (df=1332)</td><td>1.324 (df=1323)</td><td>1.326 (df=1332)</td><td>1.328 (df=1332)</td><td>1.324 (df=1313)</td><td>1.319 (df=1323)</td><td>1.317 (df=1276)</td><td>1.328 (df=1276)</td></tr><tr><td style=\"text-align: left\">F Statistic</td><td>0.774<sup></sup> (df=1; 1332)</td><td>0.089<sup></sup> (df=1; 1323)</td><td>3.409<sup>*</sup> (df=1; 1332)</td><td>0.248<sup></sup> (df=1; 1332)</td><td>0.039<sup></sup> (df=1; 1313)</td><td>12.836<sup>***</sup> (df=1; 1323)</td><td>24.712<sup>***</sup> (df=1; 1276)</td><td>0.001<sup></sup> (df=1; 1276)</td></tr><tr><td colspan=\"9\" style=\"border-bottom: 1px solid black\"></td></tr><tr><td style=\"text-align: left\">Note:</td>\n",
       " <td colspan=\"8\" style=\"text-align: right\">\n",
       "  <sup>*</sup>p&lt;0.1;\n",
       "  <sup>**</sup>p&lt;0.05;\n",
       "  <sup>***</sup>p&lt;0.01\n",
       " </td></tr></table>"
      ],
      "text/plain": [
       "<stargazer.stargazer.Stargazer at 0x7fd4f6c415c0>"
      ]
     },
     "execution_count": 32,
     "metadata": {},
     "output_type": "execute_result"
    }
   ],
   "source": [
    "stargazer = Stargazer([mod2,mod1,mod4,mod3,mod5,mod6,mod8,mod7])\n",
    "stargazer\n",
    "\n",
    "# Render the table in the desired format\n",
    "# table = stargazer.render_latex()\n",
    "\n",
    "# Print the table\n",
    "# print(table)"
   ]
  },
  {
   "cell_type": "code",
   "execution_count": 301,
   "id": "498bb514",
   "metadata": {},
   "outputs": [],
   "source": [
    "mod1 = ols(formula='frequency_log ~ Yesterday_returns+C(Weekday)', data = new_df).fit(cov_type='HC0') \n",
    "mod2 = ols(formula='frequency_log ~ Yesterday_gain+C(Weekday)', data = new_df).fit(cov_type='HC0') \n",
    "mod3 = ols(formula='frequency_log ~ returns+C(Weekday)', data = new_df).fit(cov_type='HC0') \n",
    "mod4 = ols(formula='frequency_log ~ gain+C(Weekday)', data = new_df).fit(cov_type='HC0') \n",
    "mod5 = ols(formula='frequency_log ~ three_day_returns+C(Weekday)', data = new_df).fit(cov_type='HC0') \n",
    "mod6 = ols(formula='frequency_log ~ three_day_volatility+C(Weekday)', data = new_df).fit(cov_type='HC0') \n",
    "mod7 = ols(formula='frequency_log ~ seven_day_returns+C(Weekday)', data = new_df).fit(cov_type='HC0') \n",
    "mod8 = ols(formula='frequency_log ~ seven_day_volatility+C(Weekday)', data = new_df).fit(cov_type='HC0') "
   ]
  },
  {
   "cell_type": "code",
   "execution_count": 311,
   "id": "4ba6c22a",
   "metadata": {},
   "outputs": [],
   "source": [
    "stargazer = Stargazer([mod2,mod1,mod4,mod3,mod5,mod6,mod7,mod8])\n",
    "stargazer\n",
    "\n",
    "# Render the table in the desired format\n",
    "table = stargazer.render_latex()\n",
    "# table\n",
    "# Print the table\n",
    "# print(table)"
   ]
  },
  {
   "cell_type": "code",
   "execution_count": 313,
   "id": "167b0a5f",
   "metadata": {},
   "outputs": [],
   "source": [
    "new_df['Stable_Coin'] = [1 if i == 'USDC' else 0 for i in new_df.name]"
   ]
  },
  {
   "cell_type": "code",
   "execution_count": 314,
   "id": "ca204aec",
   "metadata": {},
   "outputs": [],
   "source": [
    "mod1 = ols(formula='frequency_log ~ Yesterday_returns+C(Weekday)+C(Stable_Coin)', data = new_df).fit(cov_type='HC0') \n",
    "mod2 = ols(formula='frequency_log ~ Yesterday_gain+C(Weekday)+C(Stable_Coin)', data = new_df).fit(cov_type='HC0') \n",
    "mod3 = ols(formula='frequency_log ~ returns+C(Weekday)+C(Stable_Coin)', data = new_df).fit(cov_type='HC0') \n",
    "mod4 = ols(formula='frequency_log ~ gain+C(Weekday)+C(Stable_Coin)', data = new_df).fit(cov_type='HC0') \n",
    "mod5 = ols(formula='frequency_log ~ three_day_returns+C(Weekday)+C(Stable_Coin)', data = new_df).fit(cov_type='HC0') \n",
    "mod6 = ols(formula='frequency_log ~ three_day_volatility+C(Weekday)+C(Stable_Coin)', data = new_df).fit(cov_type='HC0') \n",
    "mod7 = ols(formula='frequency_log ~ seven_day_returns+C(Weekday)+C(Stable_Coin)', data = new_df).fit(cov_type='HC0') \n",
    "mod8 = ols(formula='frequency_log ~ seven_day_volatility+C(Weekday)+C(Stable_Coin)', data = new_df).fit(cov_type='HC0') "
   ]
  },
  {
   "cell_type": "code",
   "execution_count": 317,
   "id": "74e2a107",
   "metadata": {
    "scrolled": true
   },
   "outputs": [],
   "source": [
    "stargazer = Stargazer([mod2,mod1,mod4,mod3,mod5,mod6,mod7,mod8])\n",
    "stargazer\n",
    "\n",
    "# Render the table in the desired format\n",
    "table = stargazer.render_latex()\n",
    "# table\n",
    "# Print the table\n",
    "# print(table)"
   ]
  },
  {
   "cell_type": "code",
   "execution_count": 328,
   "id": "ebdca089",
   "metadata": {
    "scrolled": true
   },
   "outputs": [],
   "source": [
    "mod1 = ols(formula='frequency_log ~ Yesterday_returns+C(Weekday)', data = new_df[new_df.name != 'USDC']).fit(cov_type='HC0') \n",
    "mod2 = ols(formula='frequency_log ~ Yesterday_gain+C(Weekday)', data = new_df[new_df.name != 'USDC']).fit(cov_type='HC0') \n",
    "mod3 = ols(formula='frequency_log ~ returns+C(Weekday)', data = new_df[new_df.name != 'USDC']).fit(cov_type='HC0') \n",
    "mod4 = ols(formula='frequency_log ~ gain+C(Weekday)', data = new_df[new_df.name != 'USDC']).fit(cov_type='HC0') \n",
    "mod5 = ols(formula='frequency_log ~ three_day_returns+C(Weekday)', data = new_df[new_df.name != 'USDC']).fit(cov_type='HC0') \n",
    "mod6 = ols(formula='frequency_log ~ three_day_volatility+C(Weekday)', data = new_df[new_df.name != 'USDC']).fit(cov_type='HC0') \n",
    "mod7 = ols(formula='frequency_log ~ seven_day_returns+C(Weekday)', data = new_df[new_df.name != 'USDC']).fit(cov_type='HC0') \n",
    "mod8 = ols(formula='frequency_log ~ seven_day_volatility+C(Weekday)', data = new_df[new_df.name != 'USDC']).fit(cov_type='HC0') "
   ]
  },
  {
   "cell_type": "code",
   "execution_count": 334,
   "id": "00946f55",
   "metadata": {},
   "outputs": [],
   "source": [
    "stargazer = Stargazer([mod2,mod1,mod4,mod3,mod5,mod6,mod7,mod8])\n",
    "stargazer\n",
    "stargazer.title('OLS Regression with Price')\n",
    "# table = stargazer.render_latex()\n",
    "# print(table)"
   ]
  },
  {
   "cell_type": "code",
   "execution_count": 331,
   "id": "d3c8a568",
   "metadata": {},
   "outputs": [],
   "source": [
    "mod1 = ols(formula='frequency_log ~ Yesterday_returns+C(Weekday)', data = new_df[new_df.name == 'USDC']).fit(cov_type='HC0') \n",
    "mod2 = ols(formula='frequency_log ~ Yesterday_gain+C(Weekday)', data = new_df[new_df.name == 'USDC']).fit(cov_type='HC0') \n",
    "mod3 = ols(formula='frequency_log ~ returns+C(Weekday)', data = new_df[new_df.name == 'USDC']).fit(cov_type='HC0') \n",
    "mod4 = ols(formula='frequency_log ~ gain+C(Weekday)', data = new_df[new_df.name != 'USDC']).fit(cov_type='HC0') \n",
    "mod5 = ols(formula='frequency_log ~ three_day_returns+C(Weekday)', data = new_df[new_df.name == 'USDC']).fit(cov_type='HC0') \n",
    "mod6 = ols(formula='frequency_log ~ three_day_volatility+C(Weekday)', data = new_df[new_df.name == 'USDC']).fit(cov_type='HC0') \n",
    "mod7 = ols(formula='frequency_log ~ seven_day_returns+C(Weekday)', data = new_df[new_df.name == 'USDC']).fit(cov_type='HC0') \n",
    "mod8 = ols(formula='frequency_log ~ seven_day_volatility+C(Weekday)', data = new_df[new_df.name == 'USDC']).fit(cov_type='HC0') "
   ]
  },
  {
   "cell_type": "code",
   "execution_count": 335,
   "id": "4b5cd92d",
   "metadata": {},
   "outputs": [],
   "source": [
    "stargazer = Stargazer([mod2,mod1,mod4,mod3,mod5,mod6,mod7,mod8])\n",
    "# stargazer\n",
    "table = stargazer.render_latex()\n",
    "# print(table)"
   ]
  },
  {
   "cell_type": "code",
   "execution_count": 337,
   "id": "6d6cb57b",
   "metadata": {},
   "outputs": [],
   "source": [
    "# new_df"
   ]
  },
  {
   "cell_type": "code",
   "execution_count": 191,
   "id": "b0076585",
   "metadata": {},
   "outputs": [],
   "source": [
    "new_df.rename(columns={'compound':'sentiment'},inplace=True)"
   ]
  },
  {
   "cell_type": "code",
   "execution_count": 339,
   "id": "0210004a",
   "metadata": {},
   "outputs": [],
   "source": [
    "mod1 = ols(formula='sentiment ~ Yesterday_returns', data = new_df).fit(cov_type='HC0') \n",
    "mod2 = ols(formula='sentiment ~ Yesterday_gain', data = new_df).fit(cov_type='HC0') \n",
    "mod3 = ols(formula='sentiment ~ returns', data = new_df).fit(cov_type='HC0') \n",
    "mod4 = ols(formula='sentiment ~ gain', data = new_df).fit(cov_type='HC0') \n",
    "mod5 = ols(formula='sentiment ~ three_day_returns', data = new_df).fit(cov_type='HC0') \n",
    "mod6 = ols(formula='sentiment ~ three_day_volatility', data = new_df).fit(cov_type='HC0') \n",
    "mod7 = ols(formula='sentiment ~ seven_day_returns', data = new_df).fit(cov_type='HC0') \n",
    "mod8 = ols(formula='sentiment ~ seven_day_volatility', data = new_df).fit(cov_type='HC0') "
   ]
  },
  {
   "cell_type": "code",
   "execution_count": 342,
   "id": "e5ddb89b",
   "metadata": {},
   "outputs": [],
   "source": [
    "stargazer = Stargazer([mod2,mod1,mod4,mod3,mod5,mod6,mod7,mod8])\n",
    "stargazer.title('OLS Regression')\n",
    "stargazer\n",
    "table = stargazer.render_latex()\n",
    "# print(table)"
   ]
  },
  {
   "cell_type": "code",
   "execution_count": 345,
   "id": "f2826594",
   "metadata": {},
   "outputs": [],
   "source": [
    "mod1 = ols(formula='sentiment ~ Yesterday_returns+C(Weekday)', data = new_df).fit(cov_type='HC0') \n",
    "mod2 = ols(formula='sentiment ~ Yesterday_gain+C(Weekday)', data = new_df).fit(cov_type='HC0') \n",
    "mod3 = ols(formula='sentiment ~ returns+C(Weekday)', data = new_df).fit(cov_type='HC0') \n",
    "mod4 = ols(formula='sentiment ~ gain+C(Weekday)', data = new_df).fit(cov_type='HC0') \n",
    "mod5 = ols(formula='sentiment ~ three_day_returns+C(Weekday)', data = new_df).fit(cov_type='HC0') \n",
    "mod6 = ols(formula='sentiment ~ three_day_volatility+C(Weekday)', data = new_df).fit(cov_type='HC0') \n",
    "mod7 = ols(formula='sentiment ~ seven_day_returns+C(Weekday)', data = new_df).fit(cov_type='HC0') \n",
    "mod8 = ols(formula='sentiment ~ seven_day_volatility+C(Weekday)', data = new_df).fit(cov_type='HC0') "
   ]
  },
  {
   "cell_type": "code",
   "execution_count": 347,
   "id": "a3f7fc76",
   "metadata": {},
   "outputs": [],
   "source": [
    "stargazer = Stargazer([mod2,mod1,mod4,mod3,mod5,mod6,mod7,mod8])\n",
    "stargazer.title('OLS Regression controlling weekday')\n",
    "stargazer\n",
    "table = stargazer.render_latex()\n",
    "# print(table)"
   ]
  },
  {
   "cell_type": "code",
   "execution_count": 348,
   "id": "a81c7f29",
   "metadata": {},
   "outputs": [],
   "source": [
    "mod1 = ols(formula='sentiment ~ Yesterday_returns+C(Weekday)+C(Stable_Coin)', data = new_df).fit(cov_type='HC0') \n",
    "mod2 = ols(formula='sentiment ~ Yesterday_gain+C(Weekday)+C(Stable_Coin)', data = new_df).fit(cov_type='HC0') \n",
    "mod3 = ols(formula='sentiment ~ returns+C(Weekday)+C(Stable_Coin)', data = new_df).fit(cov_type='HC0') \n",
    "mod4 = ols(formula='sentiment ~ gain+C(Weekday)+C(Stable_Coin)', data = new_df).fit(cov_type='HC0') \n",
    "mod5 = ols(formula='sentiment ~ three_day_returns+C(Weekday)+C(Stable_Coin)', data = new_df).fit(cov_type='HC0') \n",
    "mod6 = ols(formula='sentiment ~ three_day_volatility+C(Weekday)+C(Stable_Coin)', data = new_df).fit(cov_type='HC0') \n",
    "mod7 = ols(formula='sentiment ~ seven_day_returns+C(Weekday)+C(Stable_Coin)', data = new_df).fit(cov_type='HC0') \n",
    "mod8 = ols(formula='sentiment ~ seven_day_volatility+C(Weekday)+C(Stable_Coin)', data = new_df).fit(cov_type='HC0') "
   ]
  },
  {
   "cell_type": "code",
   "execution_count": 350,
   "id": "7760313f",
   "metadata": {},
   "outputs": [],
   "source": [
    "stargazer = Stargazer([mod2,mod1,mod4,mod3,mod5,mod6,mod7,mod8])\n",
    "stargazer.title('OLS Regression controlling weekday and stable Coin')\n",
    "stargazer\n",
    "table = stargazer.render_latex()\n",
    "# print(table)"
   ]
  },
  {
   "cell_type": "code",
   "execution_count": 351,
   "id": "a1f536ab",
   "metadata": {},
   "outputs": [],
   "source": [
    "mod1 = ols(formula='sentiment ~ Yesterday_returns+C(Weekday)', data = new_df[new_df.name != 'USDC']).fit(cov_type='HC0') \n",
    "mod2 = ols(formula='sentiment ~ Yesterday_gain+C(Weekday)', data = new_df[new_df.name != 'USDC']).fit(cov_type='HC0') \n",
    "mod3 = ols(formula='sentiment ~ returns+C(Weekday)', data = new_df[new_df.name != 'USDC']).fit(cov_type='HC0') \n",
    "mod4 = ols(formula='sentiment ~ gain+C(Weekday)', data = new_df[new_df.name != 'USDC']).fit(cov_type='HC0') \n",
    "mod5 = ols(formula='sentiment ~ three_day_returns+C(Weekday)', data = new_df[new_df.name != 'USDC']).fit(cov_type='HC0') \n",
    "mod6 = ols(formula='sentiment ~ three_day_volatility+C(Weekday)', data = new_df[new_df.name != 'USDC']).fit(cov_type='HC0') \n",
    "mod7 = ols(formula='sentiment ~ seven_day_returns+C(Weekday)', data = new_df[new_df.name != 'USDC']).fit(cov_type='HC0') \n",
    "mod8 = ols(formula='sentiment ~ seven_day_volatility+C(Weekday)', data = new_df[new_df.name != 'USDC']).fit(cov_type='HC0') "
   ]
  },
  {
   "cell_type": "code",
   "execution_count": 353,
   "id": "026a7a6e",
   "metadata": {},
   "outputs": [],
   "source": [
    "stargazer = Stargazer([mod2,mod1,mod4,mod3,mod5,mod6,mod7,mod8])\n",
    "stargazer.title('OLS Regression without stable coin')\n",
    "stargazer\n",
    "table = stargazer.render_latex()\n",
    "# print(table)"
   ]
  },
  {
   "cell_type": "code",
   "execution_count": 354,
   "id": "3be59913",
   "metadata": {},
   "outputs": [],
   "source": [
    "mod1 = ols(formula='sentiment ~ Yesterday_returns+C(Weekday)', data = new_df[new_df.name == 'USDC']).fit(cov_type='HC0') \n",
    "mod2 = ols(formula='sentiment ~ Yesterday_gain+C(Weekday)', data = new_df[new_df.name == 'USDC']).fit(cov_type='HC0') \n",
    "mod3 = ols(formula='sentiment ~ returns+C(Weekday)', data = new_df[new_df.name == 'USDC']).fit(cov_type='HC0') \n",
    "mod4 = ols(formula='sentiment ~ gain+C(Weekday)', data = new_df[new_df.name == 'USDC']).fit(cov_type='HC0') \n",
    "mod5 = ols(formula='sentiment ~ three_day_returns+C(Weekday)', data = new_df[new_df.name == 'USDC']).fit(cov_type='HC0') \n",
    "mod6 = ols(formula='sentiment ~ three_day_volatility+C(Weekday)', data = new_df[new_df.name == 'USDC']).fit(cov_type='HC0') \n",
    "mod7 = ols(formula='sentiment ~ seven_day_returns+C(Weekday)', data = new_df[new_df.name == 'USDC']).fit(cov_type='HC0') \n",
    "mod8 = ols(formula='sentiment ~ seven_day_volatility+C(Weekday)', data = new_df[new_df.name == 'USDC']).fit(cov_type='HC0') "
   ]
  },
  {
   "cell_type": "code",
   "execution_count": 355,
   "id": "8c02e732",
   "metadata": {
    "scrolled": true
   },
   "outputs": [
    {
     "name": "stdout",
     "output_type": "stream",
     "text": [
      "\\begin{table}[!htbp] \\centering\n",
      "  \\caption{OLS Regression only stable coin}\n",
      "\\begin{tabular}{@{\\extracolsep{5pt}}lcccccccc}\n",
      "\\\\[-1.8ex]\\hline\n",
      "\\hline \\\\[-1.8ex]\n",
      "& \\multicolumn{8}{c}{\\textit{Dependent variable:}} \\\n",
      "\\cr \\cline{8-9}\n",
      "\\\\[-1.8ex] & (1) & (2) & (3) & (4) & (5) & (6) & (7) & (8) \\\\\n",
      "\\hline \\\\[-1.8ex]\n",
      " C(Weekday)[T.1] & -0.159$^{}$ & -0.138$^{}$ & -0.137$^{}$ & -0.129$^{}$ & -0.201$^{}$ & -0.143$^{}$ & -0.173$^{}$ & -0.176$^{}$ \\\\\n",
      "  & (0.158) & (0.158) & (0.161) & (0.159) & (0.155) & (0.160) & (0.164) & (0.159) \\\\\n",
      " C(Weekday)[T.2] & -0.195$^{}$ & -0.176$^{}$ & -0.183$^{}$ & -0.173$^{}$ & -0.201$^{}$ & -0.186$^{}$ & -0.184$^{}$ & -0.184$^{}$ \\\\\n",
      "  & (0.195) & (0.196) & (0.196) & (0.195) & (0.201) & (0.195) & (0.196) & (0.197) \\\\\n",
      " C(Weekday)[T.3] & -0.043$^{}$ & -0.024$^{}$ & -0.027$^{}$ & -0.016$^{}$ & -0.035$^{}$ & -0.033$^{}$ & -0.032$^{}$ & -0.031$^{}$ \\\\\n",
      "  & (0.164) & (0.166) & (0.163) & (0.164) & (0.164) & (0.166) & (0.165) & (0.162) \\\\\n",
      " C(Weekday)[T.4] & -0.261$^{}$ & -0.257$^{}$ & -0.259$^{}$ & -0.250$^{}$ & -0.230$^{}$ & -0.268$^{}$ & -0.227$^{}$ & -0.224$^{}$ \\\\\n",
      "  & (0.183) & (0.184) & (0.180) & (0.182) & (0.186) & (0.184) & (0.187) & (0.184) \\\\\n",
      " C(Weekday)[T.5] & -0.294$^{}$ & -0.278$^{}$ & -0.276$^{}$ & -0.203$^{}$ & -0.240$^{}$ & -0.282$^{}$ & -0.289$^{*}$ & -0.287$^{}$ \\\\\n",
      "  & (0.192) & (0.192) & (0.191) & (0.178) & (0.177) & (0.187) & (0.174) & (0.191) \\\\\n",
      " C(Weekday)[T.6] & 0.116$^{}$ & 0.128$^{}$ & 0.106$^{}$ & 0.056$^{}$ & 0.122$^{}$ & 0.118$^{}$ & 0.104$^{}$ & 0.104$^{}$ \\\\\n",
      "  & (0.182) & (0.200) & (0.191) & (0.189) & (0.191) & (0.195) & (0.189) & (0.185) \\\\\n",
      " Intercept & 0.463$^{***}$ & 0.496$^{***}$ & 0.472$^{***}$ & 0.489$^{***}$ & 0.507$^{***}$ & 0.507$^{***}$ & 0.506$^{***}$ & 0.494$^{***}$ \\\\\n",
      "  & (0.126) & (0.115) & (0.123) & (0.113) & (0.114) & (0.115) & (0.114) & (0.116) \\\\\n",
      " Yesterday_gain & 0.085$^{}$ & & & & & & & \\\\\n",
      "  & (0.104) & & & & & & & \\\\\n",
      " Yesterday_returns & & 4.993$^{}$ & & & & & & \\\\\n",
      "  & & (10.955) & & & & & & \\\\\n",
      " gain & & & 0.051$^{}$ & & & & & \\\\\n",
      "  & & & (0.100) & & & & & \\\\\n",
      " returns & & & & 33.231$^{***}$ & & & & \\\\\n",
      "  & & & & (9.616) & & & & \\\\\n",
      " seven_day_returns & & & & & & & 25.221$^{***}$ & \\\\\n",
      "  & & & & & & & (8.515) & \\\\\n",
      " seven_day_volatility & & & & & & & & 7.355$^{}$ \\\\\n",
      "  & & & & & & & & (19.748) \\\\\n",
      " three_day_returns & & & & & 23.612$^{**}$ & & & \\\\\n",
      "  & & & & & (11.600) & & & \\\\\n",
      " three_day_volatility & & & & & & -4.323$^{}$ & & \\\\\n",
      "  & & & & & & (15.754) & & \\\\\n",
      "\\hline \\\\[-1.8ex]\n",
      " Observations & 92 & 92 & 92 & 92 & 91 & 92 & 90 & 90 \\\\\n",
      " $R^2$ & 0.073 & 0.068 & 0.069 & 0.121 & 0.099 & 0.068 & 0.111 & 0.066 \\\\\n",
      " Adjusted $R^2$ & -0.004 & -0.010 & -0.008 & 0.047 & 0.023 & -0.010 & 0.035 & -0.014 \\\\\n",
      " Residual Std. Error & 0.518(df = 84) & 0.519(df = 84) & 0.519(df = 84) & 0.504(df = 84) & 0.508(df = 83) & 0.519(df = 84) & 0.507(df = 82) & 0.520(df = 82)  \\\\\n",
      " F Statistic & 1.084$^{}$ (df = 7.0; 84.0) & 0.913$^{}$ (df = 7.0; 84.0) & 0.904$^{}$ (df = 7.0; 84.0) & 3.433$^{***}$ (df = 7.0; 84.0) & 1.578$^{}$ (df = 7.0; 83.0) & 0.897$^{}$ (df = 7.0; 84.0) & 2.103$^{*}$ (df = 7.0; 82.0) & 1.042$^{}$ (df = 7.0; 82.0) \\\\\n",
      "\\hline\n",
      "\\hline \\\\[-1.8ex]\n",
      "\\textit{Note:} & \\multicolumn{8}{r}{$^{*}$p$<$0.1; $^{**}$p$<$0.05; $^{***}$p$<$0.01} \\\\\n",
      "\\end{tabular}\n",
      "\\end{table}\n"
     ]
    }
   ],
   "source": [
    "stargazer = Stargazer([mod2,mod1,mod4,mod3,mod5,mod6,mod7,mod8])\n",
    "stargazer.title('OLS Regression only stable coin')\n",
    "stargazer\n",
    "table = stargazer.render_latex()\n",
    "print(table)"
   ]
  },
  {
   "cell_type": "code",
   "execution_count": null,
   "id": "c4db98c3",
   "metadata": {},
   "outputs": [],
   "source": [
    "models_fre = []\n",
    "for var in DV_1w:\n",
    "    \n",
    "    # Define the model\n",
    "#     mod = ols(formula=f'{var} ~ frequency', data = test).fit(cov_type='HC0') \n",
    "    mod = ols(formula=f'{dep_var} ~ {var}', data = new_df).fit(cov_type='HC0') \n",
    "    print(var)\n",
    "\n",
    "    models.append(mod)"
   ]
  },
  {
   "cell_type": "code",
   "execution_count": null,
   "id": "7ddfd490",
   "metadata": {},
   "outputs": [],
   "source": [
    "DV_1w"
   ]
  },
  {
   "cell_type": "code",
   "execution_count": 248,
   "id": "02d8201a",
   "metadata": {},
   "outputs": [],
   "source": [
    "#Defining a list of dependent variables\n",
    "DV_1w = new_df.columns[11:19].tolist()\n",
    "dep_var = new_df.columns[19]\n",
    "sen_var = new_df.columns[24]"
   ]
  },
  {
   "cell_type": "code",
   "execution_count": 252,
   "id": "ca8e1a07",
   "metadata": {
    "scrolled": false
   },
   "outputs": [
    {
     "name": "stdout",
     "output_type": "stream",
     "text": [
      "returns\n",
      "Yesterday_returns\n",
      "gain\n",
      "Yesterday_gain\n",
      "three_day_returns\n",
      "seven_day_returns\n",
      "three_day_volatility\n",
      "seven_day_volatility\n"
     ]
    }
   ],
   "source": [
    "models = []\n",
    "for var in DV_1w:\n",
    "    \n",
    "    # Define the model\n",
    "#     mod = ols(formula=f'{var} ~ frequency', data = test).fit(cov_type='HC0') \n",
    "    mod = ols(formula=f'{dep_var} ~ {var}', data = new_df).fit(cov_type='HC0') \n",
    "    print(var)\n",
    "\n",
    "    models.append(mod)"
   ]
  },
  {
   "cell_type": "code",
   "execution_count": 250,
   "id": "7b562abd",
   "metadata": {
    "scrolled": false
   },
   "outputs": [
    {
     "data": {
      "text/plain": [
       "[<statsmodels.regression.linear_model.RegressionResultsWrapper at 0x7fae6d016eb8>,\n",
       " <statsmodels.regression.linear_model.RegressionResultsWrapper at 0x7fae6d016cc0>,\n",
       " <statsmodels.regression.linear_model.RegressionResultsWrapper at 0x7fae99571e10>,\n",
       " <statsmodels.regression.linear_model.RegressionResultsWrapper at 0x7fae99560908>,\n",
       " <statsmodels.regression.linear_model.RegressionResultsWrapper at 0x7fae87a71da0>,\n",
       " <statsmodels.regression.linear_model.RegressionResultsWrapper at 0x7fae87a71748>,\n",
       " <statsmodels.regression.linear_model.RegressionResultsWrapper at 0x7fae87a8d9e8>,\n",
       " <statsmodels.regression.linear_model.RegressionResultsWrapper at 0x7fae87a8d6d8>]"
      ]
     },
     "execution_count": 250,
     "metadata": {},
     "output_type": "execute_result"
    }
   ],
   "source": [
    "models"
   ]
  },
  {
   "cell_type": "code",
   "execution_count": 255,
   "id": "40caeb2a",
   "metadata": {},
   "outputs": [
    {
     "data": {
      "text/html": [
       "<table style=\"text-align:center\"><tr><td colspan=\"9\" style=\"border-bottom: 1px solid black\"></td></tr><tr><td style=\"text-align:left\"></td><td colspan=\"8\"><em>Dependent variable:frequency_log</em></td></tr><tr><td style=\"text-align:left\"></td><tr><td style=\"text-align:left\"></td><td>(1)</td><td>(2)</td><td>(3)</td><td>(4)</td><td>(5)</td><td>(6)</td><td>(7)</td><td>(8)</td></tr><tr><td colspan=\"9\" style=\"border-bottom: 1px solid black\"></td></tr><tr><td style=\"text-align:left\">Intercept</td><td>3.069<sup>***</sup></td><td>3.077<sup>***</sup></td><td>3.134<sup>***</sup></td><td>3.100<sup>***</sup></td><td>3.077<sup>***</sup></td><td>3.071<sup>***</sup></td><td>2.993<sup>***</sup></td><td>2.895<sup>***</sup></td></tr><tr><td style=\"text-align:left\"></td><td>(0.036)</td><td>(0.036)</td><td>(0.049)</td><td>(0.051)</td><td>(0.036)</td><td>(0.037)</td><td>(0.047)</td><td>(0.058)</td></tr><tr><td style=\"text-align:left\">Yesterday_gain</td><td></td><td></td><td></td><td>-0.064<sup></sup></td><td></td><td></td><td></td><td></td></tr><tr><td style=\"text-align:left\"></td><td></td><td></td><td></td><td>(0.073)</td><td></td><td></td><td></td><td></td></tr><tr><td style=\"text-align:left\">Yesterday_returns</td><td></td><td>0.201<sup></sup></td><td></td><td></td><td></td><td></td><td></td><td></td></tr><tr><td style=\"text-align:left\"></td><td></td><td>(0.675)</td><td></td><td></td><td></td><td></td><td></td><td></td></tr><tr><td style=\"text-align:left\">gain</td><td></td><td></td><td>-0.134<sup>*</sup></td><td></td><td></td><td></td><td></td><td></td></tr><tr><td style=\"text-align:left\"></td><td></td><td></td><td>(0.073)</td><td></td><td></td><td></td><td></td><td></td></tr><tr><td style=\"text-align:left\">returns</td><td>-0.344<sup></sup></td><td></td><td></td><td></td><td></td><td></td><td></td><td></td></tr><tr><td style=\"text-align:left\"></td><td>(0.691)</td><td></td><td></td><td></td><td></td><td></td><td></td><td></td></tr><tr><td style=\"text-align:left\">seven_day_returns</td><td></td><td></td><td></td><td></td><td></td><td>0.009<sup></sup></td><td></td><td></td></tr><tr><td style=\"text-align:left\"></td><td></td><td></td><td></td><td></td><td></td><td>(0.295)</td><td></td><td></td></tr><tr><td style=\"text-align:left\">seven_day_volatility</td><td></td><td></td><td></td><td></td><td></td><td></td><td></td><td>5.581<sup>***</sup></td></tr><tr><td style=\"text-align:left\"></td><td></td><td></td><td></td><td></td><td></td><td></td><td></td><td>(1.123)</td></tr><tr><td style=\"text-align:left\">three_day_returns</td><td></td><td></td><td></td><td></td><td>-0.090<sup></sup></td><td></td><td></td><td></td></tr><tr><td style=\"text-align:left\"></td><td></td><td></td><td></td><td></td><td>(0.458)</td><td></td><td></td><td></td></tr><tr><td style=\"text-align:left\">three_day_volatility</td><td></td><td></td><td></td><td></td><td></td><td></td><td>3.175<sup>***</sup></td><td></td></tr><tr><td style=\"text-align:left\"></td><td></td><td></td><td></td><td></td><td></td><td></td><td>(0.886)</td><td></td></tr><td colspan=\"9\" style=\"border-bottom: 1px solid black\"></td></tr><tr><td style=\"text-align: left\">Observations</td><td>1,334</td><td>1,325</td><td>1,334</td><td>1,334</td><td>1,315</td><td>1,278</td><td>1,325</td><td>1,278</td></tr><tr><td style=\"text-align: left\">R<sup>2</sup></td><td>0.000</td><td>0.000</td><td>0.003</td><td>0.001</td><td>0.000</td><td>0.000</td><td>0.008</td><td>0.017</td></tr><tr><td style=\"text-align: left\">Adjusted R<sup>2</sup></td><td>-0.001</td><td>-0.001</td><td>0.002</td><td>-0.000</td><td>-0.001</td><td>-0.001</td><td>0.007</td><td>0.016</td></tr><tr><td style=\"text-align: left\">Residual Std. Error</td><td>1.328 (df=1332)</td><td>1.324 (df=1323)</td><td>1.326 (df=1332)</td><td>1.327 (df=1332)</td><td>1.324 (df=1313)</td><td>1.328 (df=1276)</td><td>1.319 (df=1323)</td><td>1.317 (df=1276)</td></tr><tr><td style=\"text-align: left\">F Statistic</td><td>0.248<sup></sup> (df=1; 1332)</td><td>0.089<sup></sup> (df=1; 1323)</td><td>3.409<sup>*</sup> (df=1; 1332)</td><td>0.774<sup></sup> (df=1; 1332)</td><td>0.039<sup></sup> (df=1; 1313)</td><td>0.001<sup></sup> (df=1; 1276)</td><td>12.836<sup>***</sup> (df=1; 1323)</td><td>24.712<sup>***</sup> (df=1; 1276)</td></tr><tr><td colspan=\"9\" style=\"border-bottom: 1px solid black\"></td></tr><tr><td style=\"text-align: left\">Note:</td>\n",
       " <td colspan=\"8\" style=\"text-align: right\">\n",
       "  <sup>*</sup>p&lt;0.1;\n",
       "  <sup>**</sup>p&lt;0.05;\n",
       "  <sup>***</sup>p&lt;0.01\n",
       " </td></tr></table>"
      ],
      "text/plain": [
       "<stargazer.stargazer.Stargazer at 0x7fae610aadd8>"
      ]
     },
     "execution_count": 255,
     "metadata": {},
     "output_type": "execute_result"
    }
   ],
   "source": [
    "# Create an empty list to store the ordered models\n",
    "ordered_models = []\n",
    "\n",
    "# Define the desired order of models (optional if you want to keep the existing order)\n",
    "desired_order = list(range(1, len(models) + 1))\n",
    "\n",
    "# Sort the models based on their position in the desired order\n",
    "sorted_models = [x for _, x in sorted(zip(desired_order, models))]\n",
    "\n",
    "# Iterate over the sorted models and add them to the ordered list\n",
    "for model in sorted_models:\n",
    "    ordered_models.append(model)\n",
    "\n",
    "# Create a Stargazer object with the ordered models\n",
    "stargazer = Stargazer(ordered_models)\n",
    "stargazer"
   ]
  },
  {
   "cell_type": "code",
   "execution_count": 251,
   "id": "ac802ef4",
   "metadata": {},
   "outputs": [
    {
     "data": {
      "text/html": [
       "<table style=\"text-align:center\"><tr><td colspan=\"9\" style=\"border-bottom: 1px solid black\"></td></tr><tr><td style=\"text-align:left\"></td><td colspan=\"8\"><em>Dependent variable:frequency_log</em></td></tr><tr><td style=\"text-align:left\"></td><tr><td style=\"text-align:left\"></td><td>(1)</td><td>(2)</td><td>(3)</td><td>(4)</td><td>(5)</td><td>(6)</td><td>(7)</td><td>(8)</td></tr><tr><td colspan=\"9\" style=\"border-bottom: 1px solid black\"></td></tr><tr><td style=\"text-align:left\">Intercept</td><td>3.069<sup>***</sup></td><td>3.077<sup>***</sup></td><td>3.134<sup>***</sup></td><td>3.100<sup>***</sup></td><td>3.077<sup>***</sup></td><td>3.071<sup>***</sup></td><td>2.993<sup>***</sup></td><td>2.895<sup>***</sup></td></tr><tr><td style=\"text-align:left\"></td><td>(0.036)</td><td>(0.036)</td><td>(0.049)</td><td>(0.051)</td><td>(0.036)</td><td>(0.037)</td><td>(0.047)</td><td>(0.058)</td></tr><tr><td style=\"text-align:left\">Yesterday_gain</td><td></td><td></td><td></td><td>-0.064<sup></sup></td><td></td><td></td><td></td><td></td></tr><tr><td style=\"text-align:left\"></td><td></td><td></td><td></td><td>(0.073)</td><td></td><td></td><td></td><td></td></tr><tr><td style=\"text-align:left\">Yesterday_returns</td><td></td><td>0.201<sup></sup></td><td></td><td></td><td></td><td></td><td></td><td></td></tr><tr><td style=\"text-align:left\"></td><td></td><td>(0.675)</td><td></td><td></td><td></td><td></td><td></td><td></td></tr><tr><td style=\"text-align:left\">gain</td><td></td><td></td><td>-0.134<sup>*</sup></td><td></td><td></td><td></td><td></td><td></td></tr><tr><td style=\"text-align:left\"></td><td></td><td></td><td>(0.073)</td><td></td><td></td><td></td><td></td><td></td></tr><tr><td style=\"text-align:left\">returns</td><td>-0.344<sup></sup></td><td></td><td></td><td></td><td></td><td></td><td></td><td></td></tr><tr><td style=\"text-align:left\"></td><td>(0.691)</td><td></td><td></td><td></td><td></td><td></td><td></td><td></td></tr><tr><td style=\"text-align:left\">seven_day_returns</td><td></td><td></td><td></td><td></td><td></td><td>0.009<sup></sup></td><td></td><td></td></tr><tr><td style=\"text-align:left\"></td><td></td><td></td><td></td><td></td><td></td><td>(0.295)</td><td></td><td></td></tr><tr><td style=\"text-align:left\">seven_day_volatility</td><td></td><td></td><td></td><td></td><td></td><td></td><td></td><td>5.581<sup>***</sup></td></tr><tr><td style=\"text-align:left\"></td><td></td><td></td><td></td><td></td><td></td><td></td><td></td><td>(1.123)</td></tr><tr><td style=\"text-align:left\">three_day_returns</td><td></td><td></td><td></td><td></td><td>-0.090<sup></sup></td><td></td><td></td><td></td></tr><tr><td style=\"text-align:left\"></td><td></td><td></td><td></td><td></td><td>(0.458)</td><td></td><td></td><td></td></tr><tr><td style=\"text-align:left\">three_day_volatility</td><td></td><td></td><td></td><td></td><td></td><td></td><td>3.175<sup>***</sup></td><td></td></tr><tr><td style=\"text-align:left\"></td><td></td><td></td><td></td><td></td><td></td><td></td><td>(0.886)</td><td></td></tr><td colspan=\"9\" style=\"border-bottom: 1px solid black\"></td></tr><tr><td style=\"text-align: left\">Observations</td><td>1,334</td><td>1,325</td><td>1,334</td><td>1,334</td><td>1,315</td><td>1,278</td><td>1,325</td><td>1,278</td></tr><tr><td style=\"text-align: left\">R<sup>2</sup></td><td>0.000</td><td>0.000</td><td>0.003</td><td>0.001</td><td>0.000</td><td>0.000</td><td>0.008</td><td>0.017</td></tr><tr><td style=\"text-align: left\">Adjusted R<sup>2</sup></td><td>-0.001</td><td>-0.001</td><td>0.002</td><td>-0.000</td><td>-0.001</td><td>-0.001</td><td>0.007</td><td>0.016</td></tr><tr><td style=\"text-align: left\">Residual Std. Error</td><td>1.328 (df=1332)</td><td>1.324 (df=1323)</td><td>1.326 (df=1332)</td><td>1.327 (df=1332)</td><td>1.324 (df=1313)</td><td>1.328 (df=1276)</td><td>1.319 (df=1323)</td><td>1.317 (df=1276)</td></tr><tr><td style=\"text-align: left\">F Statistic</td><td>0.248<sup></sup> (df=1; 1332)</td><td>0.089<sup></sup> (df=1; 1323)</td><td>3.409<sup>*</sup> (df=1; 1332)</td><td>0.774<sup></sup> (df=1; 1332)</td><td>0.039<sup></sup> (df=1; 1313)</td><td>0.001<sup></sup> (df=1; 1276)</td><td>12.836<sup>***</sup> (df=1; 1323)</td><td>24.712<sup>***</sup> (df=1; 1276)</td></tr><tr><td colspan=\"9\" style=\"border-bottom: 1px solid black\"></td></tr><tr><td style=\"text-align: left\">Note:</td>\n",
       " <td colspan=\"8\" style=\"text-align: right\">\n",
       "  <sup>*</sup>p&lt;0.1;\n",
       "  <sup>**</sup>p&lt;0.05;\n",
       "  <sup>***</sup>p&lt;0.01\n",
       " </td></tr></table>"
      ],
      "text/plain": [
       "<stargazer.stargazer.Stargazer at 0x7fae995722b0>"
      ]
     },
     "execution_count": 251,
     "metadata": {},
     "output_type": "execute_result"
    }
   ],
   "source": [
    "Stargazer(models)"
   ]
  },
  {
   "cell_type": "code",
   "execution_count": null,
   "id": "14016448",
   "metadata": {},
   "outputs": [],
   "source": [
    "#Looking at the results\n",
    "table_result = Stargazer(models)\n",
    "\n",
    "#Adding the variable names to each model\n",
    "# table_result.custom_columns(DV_1w, [1 for i in range(len(DV_1w))])\n",
    "table_result"
   ]
  },
  {
   "cell_type": "code",
   "execution_count": 245,
   "id": "2ff942b5",
   "metadata": {},
   "outputs": [
    {
     "ename": "ValueError",
     "evalue": "Please use trained OLS models as inputs",
     "output_type": "error",
     "traceback": [
      "\u001b[0;31m---------------------------------------------------------------------------\u001b[0m",
      "\u001b[0;31mValueError\u001b[0m                                Traceback (most recent call last)",
      "\u001b[0;32m/var/folders/qq/qvd9bqkj5n519mqym_bxjblc0000gn/T/ipykernel_38018/747157920.py\u001b[0m in \u001b[0;36m<module>\u001b[0;34m\u001b[0m\n\u001b[1;32m     11\u001b[0m \u001b[0;34m\u001b[0m\u001b[0m\n\u001b[1;32m     12\u001b[0m \u001b[0;31m# Looking at the results\u001b[0m\u001b[0;34m\u001b[0m\u001b[0;34m\u001b[0m\u001b[0;34m\u001b[0m\u001b[0m\n\u001b[0;32m---> 13\u001b[0;31m \u001b[0mtable_result\u001b[0m \u001b[0;34m=\u001b[0m \u001b[0mStargazer\u001b[0m\u001b[0;34m(\u001b[0m\u001b[0mmodels\u001b[0m\u001b[0;34m)\u001b[0m\u001b[0;34m\u001b[0m\u001b[0;34m\u001b[0m\u001b[0m\n\u001b[0m\u001b[1;32m     14\u001b[0m \u001b[0;34m\u001b[0m\u001b[0m\n\u001b[1;32m     15\u001b[0m \u001b[0;31m# Adding the variable names to each model\u001b[0m\u001b[0;34m\u001b[0m\u001b[0;34m\u001b[0m\u001b[0;34m\u001b[0m\u001b[0m\n",
      "\u001b[0;32m~/anaconda3/lib/python3.7/site-packages/stargazer/stargazer.py\u001b[0m in \u001b[0;36m__init__\u001b[0;34m(self, models)\u001b[0m\n\u001b[1;32m     38\u001b[0m         \u001b[0mself\u001b[0m\u001b[0;34m.\u001b[0m\u001b[0mnum_models\u001b[0m \u001b[0;34m=\u001b[0m \u001b[0mlen\u001b[0m\u001b[0;34m(\u001b[0m\u001b[0mmodels\u001b[0m\u001b[0;34m)\u001b[0m\u001b[0;34m\u001b[0m\u001b[0;34m\u001b[0m\u001b[0m\n\u001b[1;32m     39\u001b[0m         \u001b[0mself\u001b[0m\u001b[0;34m.\u001b[0m\u001b[0mreset_params\u001b[0m\u001b[0;34m(\u001b[0m\u001b[0;34m)\u001b[0m\u001b[0;34m\u001b[0m\u001b[0;34m\u001b[0m\u001b[0m\n\u001b[0;32m---> 40\u001b[0;31m         \u001b[0mself\u001b[0m\u001b[0;34m.\u001b[0m\u001b[0mextract_data\u001b[0m\u001b[0;34m(\u001b[0m\u001b[0;34m)\u001b[0m\u001b[0;34m\u001b[0m\u001b[0;34m\u001b[0m\u001b[0m\n\u001b[0m\u001b[1;32m     41\u001b[0m \u001b[0;34m\u001b[0m\u001b[0m\n\u001b[1;32m     42\u001b[0m     \u001b[0;32mdef\u001b[0m \u001b[0mvalidate_input\u001b[0m\u001b[0;34m(\u001b[0m\u001b[0mself\u001b[0m\u001b[0;34m)\u001b[0m\u001b[0;34m:\u001b[0m\u001b[0;34m\u001b[0m\u001b[0;34m\u001b[0m\u001b[0m\n",
      "\u001b[0;32m~/anaconda3/lib/python3.7/site-packages/stargazer/stargazer.py\u001b[0m in \u001b[0;36mextract_data\u001b[0;34m(self)\u001b[0m\n\u001b[1;32m    102\u001b[0m         \u001b[0mbe\u001b[0m \u001b[0mmodified\u001b[0m \u001b[0mby\u001b[0m \u001b[0many\u001b[0m \u001b[0mrendering\u001b[0m \u001b[0mparameters\u001b[0m\u001b[0;34m.\u001b[0m\u001b[0;34m\u001b[0m\u001b[0;34m\u001b[0m\u001b[0m\n\u001b[1;32m    103\u001b[0m         \"\"\"\n\u001b[0;32m--> 104\u001b[0;31m         \u001b[0mself\u001b[0m\u001b[0;34m.\u001b[0m\u001b[0mvalidate_input\u001b[0m\u001b[0;34m(\u001b[0m\u001b[0;34m)\u001b[0m\u001b[0;34m\u001b[0m\u001b[0;34m\u001b[0m\u001b[0m\n\u001b[0m\u001b[1;32m    105\u001b[0m         \u001b[0mself\u001b[0m\u001b[0;34m.\u001b[0m\u001b[0mmodel_data\u001b[0m \u001b[0;34m=\u001b[0m \u001b[0;34m[\u001b[0m\u001b[0;34m]\u001b[0m\u001b[0;34m\u001b[0m\u001b[0;34m\u001b[0m\u001b[0m\n\u001b[1;32m    106\u001b[0m         \u001b[0;32mfor\u001b[0m \u001b[0mm\u001b[0m \u001b[0;32min\u001b[0m \u001b[0mself\u001b[0m\u001b[0;34m.\u001b[0m\u001b[0mmodels\u001b[0m\u001b[0;34m:\u001b[0m\u001b[0;34m\u001b[0m\u001b[0;34m\u001b[0m\u001b[0m\n",
      "\u001b[0;32m~/anaconda3/lib/python3.7/site-packages/stargazer/stargazer.py\u001b[0m in \u001b[0;36mvalidate_input\u001b[0;34m(self)\u001b[0m\n\u001b[1;32m     51\u001b[0m         \u001b[0;32mfor\u001b[0m \u001b[0mm\u001b[0m \u001b[0;32min\u001b[0m \u001b[0mself\u001b[0m\u001b[0;34m.\u001b[0m\u001b[0mmodels\u001b[0m\u001b[0;34m:\u001b[0m\u001b[0;34m\u001b[0m\u001b[0;34m\u001b[0m\u001b[0m\n\u001b[1;32m     52\u001b[0m             \u001b[0;32mif\u001b[0m \u001b[0;32mnot\u001b[0m \u001b[0misinstance\u001b[0m\u001b[0;34m(\u001b[0m\u001b[0mm\u001b[0m\u001b[0;34m,\u001b[0m \u001b[0mRegressionResultsWrapper\u001b[0m\u001b[0;34m)\u001b[0m\u001b[0;34m:\u001b[0m\u001b[0;34m\u001b[0m\u001b[0;34m\u001b[0m\u001b[0m\n\u001b[0;32m---> 53\u001b[0;31m                 \u001b[0;32mraise\u001b[0m \u001b[0mValueError\u001b[0m\u001b[0;34m(\u001b[0m\u001b[0;34m'Please use trained OLS models as inputs'\u001b[0m\u001b[0;34m)\u001b[0m\u001b[0;34m\u001b[0m\u001b[0;34m\u001b[0m\u001b[0m\n\u001b[0m\u001b[1;32m     54\u001b[0m             \u001b[0mtargets\u001b[0m\u001b[0;34m.\u001b[0m\u001b[0mappend\u001b[0m\u001b[0;34m(\u001b[0m\u001b[0mm\u001b[0m\u001b[0;34m.\u001b[0m\u001b[0mmodel\u001b[0m\u001b[0;34m.\u001b[0m\u001b[0mendog_names\u001b[0m\u001b[0;34m)\u001b[0m\u001b[0;34m\u001b[0m\u001b[0;34m\u001b[0m\u001b[0m\n\u001b[1;32m     55\u001b[0m \u001b[0;34m\u001b[0m\u001b[0m\n",
      "\u001b[0;31mValueError\u001b[0m: Please use trained OLS models as inputs"
     ]
    }
   ],
   "source": [
    "models = []\n",
    "n = len(DV_1w)\n",
    "\n",
    "for i, var in enumerate(DV_1w):\n",
    "    row = []\n",
    "    for j in range(i):\n",
    "        row.append(np.nan)\n",
    "    mod = ols(formula=f'{sen_var} ~ {var}', data=new_df).fit(cov_type='HC0')\n",
    "    row.append(mod)\n",
    "    models.append(row)\n",
    "\n",
    "# Looking at the results\n",
    "table_result = Stargazer(models)\n",
    "\n",
    "# Adding the variable names to each model\n",
    "table_result.custom_columns(DV_1w, [1 for _ in range(n)])\n",
    "\n",
    "# Render the LaTeX table\n",
    "latex_table = table_result.render_latex()\n",
    "\n",
    "print(latex_table)"
   ]
  },
  {
   "cell_type": "code",
   "execution_count": 244,
   "id": "bd6ddf96",
   "metadata": {},
   "outputs": [
    {
     "name": "stdout",
     "output_type": "stream",
     "text": [
      "\\begin{table}[!htbp] \\centering\n",
      "\\begin{tabular}{@{\\extracolsep{5pt}}lcccccccc}\n",
      "\\\\[-1.8ex]\\hline\n",
      "\\hline \\\\[-1.8ex]\n",
      "& \\multicolumn{8}{c}{\\textit{Dependent variable:}} \\\n",
      "\\cr \\cline{8-9}\n",
      "\\\\[-1.8ex] & (1) & (2) & (3) & (4) & (5) & (6) & (7) & (8) \\\\\n",
      "\\hline \\\\[-1.8ex]\n",
      " Intercept & 0.834$^{***}$ & 0.836$^{***}$ & 0.833$^{***}$ & 0.830$^{***}$ & 0.835$^{***}$ & 0.836$^{***}$ & 0.825$^{***}$ & 0.784$^{***}$ \\\\\n",
      "  & (0.011) & (0.011) & (0.016) & (0.016) & (0.011) & (0.011) & (0.017) & (0.019) \\\\\n",
      " Yesterday_gain & & & & 0.009$^{}$ & & & & \\\\\n",
      "  & & & & (0.022) & & & & \\\\\n",
      " Yesterday_returns & & 0.028$^{}$ & & & & & & \\\\\n",
      "  & & (0.276) & & & & & & \\\\\n",
      " gain & & & 0.002$^{}$ & & & & & \\\\\n",
      "  & & & (0.022) & & & & & \\\\\n",
      " returns & 0.048$^{}$ & & & & & & & \\\\\n",
      "  & (0.312) & & & & & & & \\\\\n",
      " seven_day_returns & & & & & & 0.007$^{}$ & & \\\\\n",
      "  & & & & & & (0.081) & & \\\\\n",
      " seven_day_volatility & & & & & & & & 1.662$^{***}$ \\\\\n",
      "  & & & & & & & & (0.429) \\\\\n",
      " three_day_returns & & & & & 0.074$^{}$ & & & \\\\\n",
      "  & & & & & (0.131) & & & \\\\\n",
      " three_day_volatility & & & & & & & 0.387$^{}$ & \\\\\n",
      "  & & & & & & & (0.487) & \\\\\n",
      "\\hline \\\\[-1.8ex]\n",
      " Observations & 1,334 & 1,325 & 1,334 & 1,334 & 1,315 & 1,278 & 1,325 & 1,278 \\\\\n",
      " $R^2$ & 0.000 & 0.000 & 0.000 & 0.000 & 0.000 & 0.000 & 0.001 & 0.016 \\\\\n",
      " Adjusted $R^2$ & -0.001 & -0.001 & -0.001 & -0.001 & -0.001 & -0.001 & 0.000 & 0.015 \\\\\n",
      " Residual Std. Error & 0.409(df = 1332) & 0.408(df = 1323) & 0.409(df = 1332) & 0.409(df = 1332) & 0.408(df = 1313) & 0.407(df = 1276) & 0.408(df = 1323) & 0.404(df = 1276)  \\\\\n",
      " F Statistic & 0.023$^{}$ (df = 1.0; 1332.0) & 0.011$^{}$ (df = 1.0; 1323.0) & 0.006$^{}$ (df = 1.0; 1332.0) & 0.159$^{}$ (df = 1.0; 1332.0) & 0.323$^{}$ (df = 1.0; 1313.0) & 0.008$^{}$ (df = 1.0; 1276.0) & 0.631$^{}$ (df = 1.0; 1323.0) & 14.980$^{***}$ (df = 1.0; 1276.0) \\\\\n",
      "\\hline\n",
      "\\hline \\\\[-1.8ex]\n",
      "\\textit{Note:} & \\multicolumn{8}{r}{$^{*}$p$<$0.1; $^{**}$p$<$0.05; $^{***}$p$<$0.01} \\\\\n",
      "\\end{tabular}\n",
      "\\end{table}\n"
     ]
    }
   ],
   "source": [
    "models = []\n",
    "for var in DV_1w:\n",
    "    \n",
    "    # Define the model\n",
    "#     mod = ols(formula=f'{var} ~ frequency', data = test).fit(cov_type='HC0') \n",
    "    mod = ols(formula=f'{sen_var} ~ {var}', data = new_df).fit(cov_type='HC0') \n",
    "\n",
    "    models.append(mod)\n",
    "    \n",
    "#Looking at the results\n",
    "table_result = Stargazer(models)\n",
    "\n",
    "#Adding the variable names to each model\n",
    "# table_result.custom_columns(DV_1w, [1 for i in range(len(DV_1w))])\n",
    "table_result\n",
    "print(table_result.render_latex())"
   ]
  },
  {
   "cell_type": "code",
   "execution_count": 207,
   "id": "75bd1ff6",
   "metadata": {},
   "outputs": [
    {
     "name": "stdout",
     "output_type": "stream",
     "text": [
      "\\begin{table}[!htbp] \\centering\n",
      "  \\caption{OLS Regression with Sentiment}\n",
      "\\begin{tabular}{@{\\extracolsep{5pt}}lcccccccc}\n",
      "\\\\[-1.8ex]\\hline\n",
      "\\hline \\\\[-1.8ex]\n",
      "& \\multicolumn{8}{c}{\\textit{Dependent variable:}} \\\n",
      "\\cr \\cline{8-9}\n",
      "\\\\[-1.8ex] & (1) & (2) & (3) & (4) & (5) & (6) & (7) & (8) \\\\\n",
      "\\hline \\\\[-1.8ex]\n",
      " Intercept & 0.834$^{***}$ & 0.836$^{***}$ & 0.833$^{***}$ & 0.830$^{***}$ & 0.835$^{***}$ & 0.836$^{***}$ & 0.825$^{***}$ & 0.784$^{***}$ \\\\\n",
      "  & (0.011) & (0.011) & (0.016) & (0.016) & (0.011) & (0.011) & (0.017) & (0.019) \\\\\n",
      " Yesterday_gain & & & & 0.009$^{}$ & & & & \\\\\n",
      "  & & & & (0.022) & & & & \\\\\n",
      " Yesterday_returns & & 0.028$^{}$ & & & & & & \\\\\n",
      "  & & (0.276) & & & & & & \\\\\n",
      " gain & & & 0.002$^{}$ & & & & & \\\\\n",
      "  & & & (0.022) & & & & & \\\\\n",
      " returns & 0.048$^{}$ & & & & & & & \\\\\n",
      "  & (0.312) & & & & & & & \\\\\n",
      " seven_day_returns & & & & & & 0.007$^{}$ & & \\\\\n",
      "  & & & & & & (0.081) & & \\\\\n",
      " seven_day_volatility & & & & & & & & 1.662$^{***}$ \\\\\n",
      "  & & & & & & & & (0.429) \\\\\n",
      " three_day_returns & & & & & 0.074$^{}$ & & & \\\\\n",
      "  & & & & & (0.131) & & & \\\\\n",
      " three_day_volatility & & & & & & & 0.387$^{}$ & \\\\\n",
      "  & & & & & & & (0.487) & \\\\\n",
      "\\hline \\\\[-1.8ex]\n",
      " Observations & 1,334 & 1,325 & 1,334 & 1,334 & 1,315 & 1,278 & 1,325 & 1,278 \\\\\n",
      " $R^2$ & 0.000 & 0.000 & 0.000 & 0.000 & 0.000 & 0.000 & 0.001 & 0.016 \\\\\n",
      " Adjusted $R^2$ & -0.001 & -0.001 & -0.001 & -0.001 & -0.001 & -0.001 & 0.000 & 0.015 \\\\\n",
      " Residual Std. Error & 0.409(df = 1332) & 0.408(df = 1323) & 0.409(df = 1332) & 0.409(df = 1332) & 0.408(df = 1313) & 0.407(df = 1276) & 0.408(df = 1323) & 0.404(df = 1276)  \\\\\n",
      " F Statistic & 0.023$^{}$ (df = 1.0; 1332.0) & 0.011$^{}$ (df = 1.0; 1323.0) & 0.006$^{}$ (df = 1.0; 1332.0) & 0.159$^{}$ (df = 1.0; 1332.0) & 0.323$^{}$ (df = 1.0; 1313.0) & 0.008$^{}$ (df = 1.0; 1276.0) & 0.631$^{}$ (df = 1.0; 1323.0) & 14.980$^{***}$ (df = 1.0; 1276.0) \\\\\n",
      "\\hline\n",
      "\\hline \\\\[-1.8ex]\n",
      "\\textit{Note:} & \\multicolumn{8}{r}{$^{*}$p$<$0.1; $^{**}$p$<$0.05; $^{***}$p$<$0.01} \\\\\n",
      "\\end{tabular}\n",
      "\\end{table}\n"
     ]
    }
   ],
   "source": [
    "table_result.title('OLS Regression with Sentiment')\n",
    "# table_result.dependent_variable_name('Dependent Variable')\n",
    "table_result\n",
    "# stargazer.column_separators(7,1)\n",
    "# print(table_result.render_latex())"
   ]
  },
  {
   "cell_type": "code",
   "execution_count": 208,
   "id": "06541e11",
   "metadata": {},
   "outputs": [
    {
     "data": {
      "text/html": [
       "<div>\n",
       "<style scoped>\n",
       "    .dataframe tbody tr th:only-of-type {\n",
       "        vertical-align: middle;\n",
       "    }\n",
       "\n",
       "    .dataframe tbody tr th {\n",
       "        vertical-align: top;\n",
       "    }\n",
       "\n",
       "    .dataframe thead th {\n",
       "        text-align: right;\n",
       "    }\n",
       "</style>\n",
       "<table border=\"1\" class=\"dataframe\">\n",
       "  <thead>\n",
       "    <tr style=\"text-align: right;\">\n",
       "      <th></th>\n",
       "      <th>subreddit</th>\n",
       "      <th>Date</th>\n",
       "      <th>text</th>\n",
       "      <th>sum</th>\n",
       "      <th>Open</th>\n",
       "      <th>High</th>\n",
       "      <th>Low</th>\n",
       "      <th>Close</th>\n",
       "      <th>Adj Close</th>\n",
       "      <th>Volume</th>\n",
       "      <th>...</th>\n",
       "      <th>three_day_returns</th>\n",
       "      <th>seven_day_returns</th>\n",
       "      <th>three_day_volatility</th>\n",
       "      <th>seven_day_volatility</th>\n",
       "      <th>frequency_log</th>\n",
       "      <th>new_text</th>\n",
       "      <th>Positive</th>\n",
       "      <th>Neutral</th>\n",
       "      <th>Negative</th>\n",
       "      <th>sentiment</th>\n",
       "    </tr>\n",
       "  </thead>\n",
       "  <tbody>\n",
       "    <tr>\n",
       "      <th>0</th>\n",
       "      <td>NaN</td>\n",
       "      <td>2022-11-02</td>\n",
       "      <td>NaN</td>\n",
       "      <td>NaN</td>\n",
       "      <td>0.875238</td>\n",
       "      <td>0.888779</td>\n",
       "      <td>0.840319</td>\n",
       "      <td>0.871718</td>\n",
       "      <td>0.871718</td>\n",
       "      <td>596962768</td>\n",
       "      <td>...</td>\n",
       "      <td>NaN</td>\n",
       "      <td>NaN</td>\n",
       "      <td>NaN</td>\n",
       "      <td>NaN</td>\n",
       "      <td>NaN</td>\n",
       "      <td>NaN</td>\n",
       "      <td>NaN</td>\n",
       "      <td>NaN</td>\n",
       "      <td>NaN</td>\n",
       "      <td>NaN</td>\n",
       "    </tr>\n",
       "    <tr>\n",
       "      <th>1</th>\n",
       "      <td>0xPolygon</td>\n",
       "      <td>2022-11-03</td>\n",
       "      <td>Unique Chance to Own a Top Web3 Domain! nan In...</td>\n",
       "      <td>2.0</td>\n",
       "      <td>0.871787</td>\n",
       "      <td>0.981326</td>\n",
       "      <td>0.870410</td>\n",
       "      <td>0.952122</td>\n",
       "      <td>0.952122</td>\n",
       "      <td>1002654774</td>\n",
       "      <td>...</td>\n",
       "      <td>NaN</td>\n",
       "      <td>NaN</td>\n",
       "      <td>NaN</td>\n",
       "      <td>NaN</td>\n",
       "      <td>0.693147</td>\n",
       "      <td>unique chance to owntop web3 domain nan instag...</td>\n",
       "      <td>0.1</td>\n",
       "      <td>0.9</td>\n",
       "      <td>0.0</td>\n",
       "      <td>0.25</td>\n",
       "    </tr>\n",
       "  </tbody>\n",
       "</table>\n",
       "<p>2 rows × 25 columns</p>\n",
       "</div>"
      ],
      "text/plain": [
       "   subreddit        Date                                               text  \\\n",
       "0        NaN  2022-11-02                                                NaN   \n",
       "1  0xPolygon  2022-11-03  Unique Chance to Own a Top Web3 Domain! nan In...   \n",
       "\n",
       "   sum      Open      High       Low     Close  Adj Close      Volume  ...  \\\n",
       "0  NaN  0.875238  0.888779  0.840319  0.871718   0.871718   596962768  ...   \n",
       "1  2.0  0.871787  0.981326  0.870410  0.952122   0.952122  1002654774  ...   \n",
       "\n",
       "  three_day_returns  seven_day_returns  three_day_volatility  \\\n",
       "0               NaN                NaN                   NaN   \n",
       "1               NaN                NaN                   NaN   \n",
       "\n",
       "   seven_day_volatility  frequency_log  \\\n",
       "0                   NaN            NaN   \n",
       "1                   NaN       0.693147   \n",
       "\n",
       "                                            new_text  Positive  Neutral  \\\n",
       "0                                                NaN       NaN      NaN   \n",
       "1  unique chance to owntop web3 domain nan instag...       0.1      0.9   \n",
       "\n",
       "   Negative  sentiment  \n",
       "0       NaN        NaN  \n",
       "1       0.0       0.25  \n",
       "\n",
       "[2 rows x 25 columns]"
      ]
     },
     "execution_count": 208,
     "metadata": {},
     "output_type": "execute_result"
    }
   ],
   "source": [
    "new_df.head(2)"
   ]
  },
  {
   "cell_type": "code",
   "execution_count": 215,
   "id": "9b1ae4cb",
   "metadata": {},
   "outputs": [],
   "source": [
    "test = new_df.copy()\n",
    "test['Date'] = pd.to_datetime(test['Date'])\n",
    "test['Weekday'] = test['Date'].dt.weekday\n",
    "# test\n",
    "# Create dummy variables for each day of the week\n",
    "weekday_dummies = pd.get_dummies(test['Weekday'], prefix='Weekday', drop_first=True)\n",
    "\n",
    "# Concatenate the weekday dummies with the original DataFrame\n",
    "test = pd.concat([test, weekday_dummies], axis=1)"
   ]
  },
  {
   "cell_type": "code",
   "execution_count": 232,
   "id": "bdd014fe",
   "metadata": {},
   "outputs": [],
   "source": [
    "test['Stable_Coin'] = [1 if i == 'USDC' else 0 for i in test.name]"
   ]
  },
  {
   "cell_type": "code",
   "execution_count": 237,
   "id": "28d42813",
   "metadata": {},
   "outputs": [],
   "source": [
    "itest = test[test['Stable_Coin'] == 1]"
   ]
  },
  {
   "cell_type": "code",
   "execution_count": 238,
   "id": "20302b91",
   "metadata": {
    "scrolled": false
   },
   "outputs": [
    {
     "data": {
      "text/html": [
       "<table style=\"text-align:center\"><tr><td colspan=\"9\" style=\"border-bottom: 1px solid black\"></td></tr><tr><td style=\"text-align:left\"></td><td colspan=\"8\"><em>Dependent variable:frequency_log</em></td></tr><tr><td style=\"text-align:left\"></td><tr><td style=\"text-align:left\"></td><td>(1)</td><td>(2)</td><td>(3)</td><td>(4)</td><td>(5)</td><td>(6)</td><td>(7)</td><td>(8)</td></tr><tr><td colspan=\"9\" style=\"border-bottom: 1px solid black\"></td></tr><tr><td style=\"text-align:left\">C(Weekday)[T.1]</td><td>-0.152<sup></sup></td><td>-0.148<sup></sup></td><td>-0.138<sup></sup></td><td>-0.150<sup></sup></td><td>-0.068<sup></sup></td><td>-0.091<sup></sup></td><td>-0.130<sup></sup></td><td>-0.136<sup></sup></td></tr><tr><td style=\"text-align:left\"></td><td>(0.313)</td><td>(0.306)</td><td>(0.309)</td><td>(0.313)</td><td>(0.324)</td><td>(0.311)</td><td>(0.287)</td><td>(0.297)</td></tr><tr><td style=\"text-align:left\">C(Weekday)[T.2]</td><td>0.214<sup></sup></td><td>0.216<sup></sup></td><td>0.217<sup></sup></td><td>0.215<sup></sup></td><td>0.243<sup></sup></td><td>0.220<sup></sup></td><td>0.278<sup></sup></td><td>0.198<sup></sup></td></tr><tr><td style=\"text-align:left\"></td><td>(0.460)</td><td>(0.454)</td><td>(0.456)</td><td>(0.465)</td><td>(0.464)</td><td>(0.458)</td><td>(0.445)</td><td>(0.419)</td></tr><tr><td style=\"text-align:left\">C(Weekday)[T.3]</td><td>-0.035<sup></sup></td><td>-0.032<sup></sup></td><td>-0.024<sup></sup></td><td>-0.032<sup></sup></td><td>-0.023<sup></sup></td><td>-0.027<sup></sup></td><td>0.028<sup></sup></td><td>-0.042<sup></sup></td></tr><tr><td style=\"text-align:left\"></td><td>(0.360)</td><td>(0.353)</td><td>(0.353)</td><td>(0.357)</td><td>(0.359)</td><td>(0.358)</td><td>(0.341)</td><td>(0.311)</td></tr><tr><td style=\"text-align:left\">C(Weekday)[T.4]</td><td>0.173<sup></sup></td><td>0.176<sup></sup></td><td>0.188<sup></sup></td><td>0.180<sup></sup></td><td>0.259<sup></sup></td><td>0.255<sup></sup></td><td>0.238<sup></sup></td><td>0.234<sup></sup></td></tr><tr><td style=\"text-align:left\"></td><td>(0.405)</td><td>(0.399)</td><td>(0.400)</td><td>(0.405)</td><td>(0.415)</td><td>(0.414)</td><td>(0.390)</td><td>(0.368)</td></tr><tr><td style=\"text-align:left\">C(Weekday)[T.5]</td><td>0.091<sup></sup></td><td>0.120<sup></sup></td><td>0.138<sup></sup></td><td>0.121<sup></sup></td><td>0.062<sup></sup></td><td>0.127<sup></sup></td><td>0.069<sup></sup></td><td>0.087<sup></sup></td></tr><tr><td style=\"text-align:left\"></td><td>(0.327)</td><td>(0.353)</td><td>(0.348)</td><td>(0.360)</td><td>(0.327)</td><td>(0.351)</td><td>(0.304)</td><td>(0.288)</td></tr><tr><td style=\"text-align:left\">C(Weekday)[T.6]</td><td>0.714<sup></sup></td><td>0.687<sup>*</sup></td><td>0.691<sup></sup></td><td>0.696<sup></sup></td><td>0.676<sup></sup></td><td>0.698<sup>*</sup></td><td>0.496<sup></sup></td><td>0.634<sup>*</sup></td></tr><tr><td style=\"text-align:left\"></td><td>(0.438)</td><td>(0.414)</td><td>(0.430)</td><td>(0.430)</td><td>(0.419)</td><td>(0.422)</td><td>(0.402)</td><td>(0.375)</td></tr><tr><td style=\"text-align:left\">Intercept</td><td>0.758<sup>***</sup></td><td>0.755<sup>***</sup></td><td>0.700<sup>***</sup></td><td>0.743<sup>**</sup></td><td>0.747<sup>***</sup></td><td>0.749<sup>***</sup></td><td>0.680<sup>***</sup></td><td>0.609<sup>**</sup></td></tr><tr><td style=\"text-align:left\"></td><td>(0.278)</td><td>(0.269)</td><td>(0.271)</td><td>(0.304)</td><td>(0.276)</td><td>(0.275)</td><td>(0.255)</td><td>(0.246)</td></tr><tr><td style=\"text-align:left\">Yesterday_gain</td><td></td><td></td><td></td><td>0.020<sup></sup></td><td></td><td></td><td></td><td></td></tr><tr><td style=\"text-align:left\"></td><td></td><td></td><td></td><td>(0.224)</td><td></td><td></td><td></td><td></td></tr><tr><td style=\"text-align:left\">Yesterday_returns</td><td></td><td>-1.723<sup></sup></td><td></td><td></td><td></td><td></td><td></td><td></td></tr><tr><td style=\"text-align:left\"></td><td></td><td>(48.108)</td><td></td><td></td><td></td><td></td><td></td><td></td></tr><tr><td style=\"text-align:left\">gain</td><td></td><td></td><td>0.087<sup></sup></td><td></td><td></td><td></td><td></td><td></td></tr><tr><td style=\"text-align:left\"></td><td></td><td></td><td>(0.199)</td><td></td><td></td><td></td><td></td><td></td></tr><tr><td style=\"text-align:left\">returns</td><td>-12.949<sup></sup></td><td></td><td></td><td></td><td></td><td></td><td></td><td></td></tr><tr><td style=\"text-align:left\"></td><td>(54.090)</td><td></td><td></td><td></td><td></td><td></td><td></td><td></td></tr><tr><td style=\"text-align:left\">seven_day_returns</td><td></td><td></td><td></td><td></td><td></td><td>-29.189<sup></sup></td><td></td><td></td></tr><tr><td style=\"text-align:left\"></td><td></td><td></td><td></td><td></td><td></td><td>(37.599)</td><td></td><td></td></tr><tr><td style=\"text-align:left\">seven_day_volatility</td><td></td><td></td><td></td><td></td><td></td><td></td><td></td><td>123.488<sup>***</sup></td></tr><tr><td style=\"text-align:left\"></td><td></td><td></td><td></td><td></td><td></td><td></td><td></td><td>(16.854)</td></tr><tr><td style=\"text-align:left\">three_day_returns</td><td></td><td></td><td></td><td></td><td>-31.582<sup></sup></td><td></td><td></td><td></td></tr><tr><td style=\"text-align:left\"></td><td></td><td></td><td></td><td></td><td>(34.002)</td><td></td><td></td><td></td></tr><tr><td style=\"text-align:left\">three_day_volatility</td><td></td><td></td><td></td><td></td><td></td><td></td><td>80.793<sup>***</sup></td><td></td></tr><tr><td style=\"text-align:left\"></td><td></td><td></td><td></td><td></td><td></td><td></td><td>(23.871)</td><td></td></tr><td colspan=\"9\" style=\"border-bottom: 1px solid black\"></td></tr><tr><td style=\"text-align: left\">Observations</td><td>92</td><td>92</td><td>92</td><td>92</td><td>91</td><td>90</td><td>92</td><td>90</td></tr><tr><td style=\"text-align: left\">R<sup>2</sup></td><td>0.055</td><td>0.053</td><td>0.055</td><td>0.053</td><td>0.072</td><td>0.067</td><td>0.157</td><td>0.257</td></tr><tr><td style=\"text-align: left\">Adjusted R<sup>2</sup></td><td>-0.024</td><td>-0.026</td><td>-0.024</td><td>-0.026</td><td>-0.007</td><td>-0.013</td><td>0.087</td><td>0.193</td></tr><tr><td style=\"text-align: left\">Residual Std. Error</td><td>1.045 (df=84)</td><td>1.046 (df=84)</td><td>1.045 (df=84)</td><td>1.046 (df=84)</td><td>1.037 (df=83)</td><td>1.042 (df=82)</td><td>0.987 (df=84)</td><td>0.930 (df=82)</td></tr><tr><td style=\"text-align: left\">F Statistic</td><td>0.909<sup></sup> (df=7; 84)</td><td>0.939<sup></sup> (df=7; 84)</td><td>0.995<sup></sup> (df=7; 84)</td><td>0.917<sup></sup> (df=7; 84)</td><td>0.915<sup></sup> (df=7; 83)</td><td>0.916<sup></sup> (df=7; 82)</td><td>2.777<sup>**</sup> (df=7; 84)</td><td>15.547<sup>***</sup> (df=7; 82)</td></tr><tr><td colspan=\"9\" style=\"border-bottom: 1px solid black\"></td></tr><tr><td style=\"text-align: left\">Note:</td>\n",
       " <td colspan=\"8\" style=\"text-align: right\">\n",
       "  <sup>*</sup>p&lt;0.1;\n",
       "  <sup>**</sup>p&lt;0.05;\n",
       "  <sup>***</sup>p&lt;0.01\n",
       " </td></tr></table>"
      ],
      "text/plain": [
       "<stargazer.stargazer.Stargazer at 0x7fae873f8be0>"
      ]
     },
     "execution_count": 238,
     "metadata": {},
     "output_type": "execute_result"
    }
   ],
   "source": [
    "models = []\n",
    "for var in DV_1w:\n",
    "    \n",
    "    # Define the model\n",
    "#     mod = ols(formula=f'{var} ~ frequency', data = test).fit(cov_type='HC0') \n",
    "    mod = ols(formula=f'{dep_var} ~ {var}+C(Weekday)', data = itest).fit(cov_type='HC0') \n",
    "\n",
    "    models.append(mod)\n",
    "    \n",
    "#Looking at the results\n",
    "table_result = Stargazer(models)\n",
    "\n",
    "#Adding the variable names to each model\n",
    "# table_result.custom_columns(DV_1w, [1 for i in range(len(DV_1w))])\n",
    "table_result"
   ]
  },
  {
   "cell_type": "code",
   "execution_count": 231,
   "id": "56ae3c0c",
   "metadata": {},
   "outputs": [
    {
     "data": {
      "text/html": [
       "<table style=\"text-align:center\"><tr><td colspan=\"9\" style=\"border-bottom: 1px solid black\"></td></tr><tr><td style=\"text-align:left\"></td><td colspan=\"8\"><em>Dependent variable:frequency_log</em></td></tr><tr><td style=\"text-align:left\"></td><tr><td style=\"text-align:left\"></td><td>(1)</td><td>(2)</td><td>(3)</td><td>(4)</td><td>(5)</td><td>(6)</td><td>(7)</td><td>(8)</td></tr><tr><td colspan=\"9\" style=\"border-bottom: 1px solid black\"></td></tr><tr><td style=\"text-align:left\">C(name)[T.Bitcoin]</td><td>2.633<sup>***</sup></td><td>2.634<sup>***</sup></td><td>2.632<sup>***</sup></td><td>2.633<sup>***</sup></td><td>2.640<sup>***</sup></td><td>2.657<sup>***</sup></td><td>2.676<sup>***</sup></td><td>2.744<sup>***</sup></td></tr><tr><td style=\"text-align:left\"></td><td>(0.052)</td><td>(0.049)</td><td>(0.051)</td><td>(0.052)</td><td>(0.049)</td><td>(0.050)</td><td>(0.050)</td><td>(0.052)</td></tr><tr><td style=\"text-align:left\">C(name)[T.USDC]</td><td>-1.451<sup>***</sup></td><td>-1.461<sup>***</sup></td><td>-1.446<sup>***</sup></td><td>-1.450<sup>***</sup></td><td>-1.451<sup>***</sup></td><td>-1.434<sup>***</sup></td><td>-1.384<sup>***</sup></td><td>-1.249<sup>***</sup></td></tr><tr><td style=\"text-align:left\"></td><td>(0.117)</td><td>(0.117)</td><td>(0.117)</td><td>(0.117)</td><td>(0.118)</td><td>(0.119)</td><td>(0.119)</td><td>(0.122)</td></tr><tr><td style=\"text-align:left\">C(name)[T.XRP]</td><td>0.039<sup></sup></td><td>0.046<sup></sup></td><td>0.040<sup></sup></td><td>0.040<sup></sup></td><td>0.043<sup></sup></td><td>0.049<sup></sup></td><td>0.067<sup></sup></td><td>0.114<sup>*</sup></td></tr><tr><td style=\"text-align:left\"></td><td>(0.064)</td><td>(0.060)</td><td>(0.063)</td><td>(0.064)</td><td>(0.061)</td><td>(0.062)</td><td>(0.061)</td><td>(0.064)</td></tr><tr><td style=\"text-align:left\">C(name)[T.binance]</td><td>1.001<sup>***</sup></td><td>1.000<sup>***</sup></td><td>1.003<sup>***</sup></td><td>1.002<sup>***</sup></td><td>0.997<sup>***</sup></td><td>0.985<sup>***</sup></td><td>1.078<sup>***</sup></td><td>1.174<sup>***</sup></td></tr><tr><td style=\"text-align:left\"></td><td>(0.107)</td><td>(0.107)</td><td>(0.107)</td><td>(0.107)</td><td>(0.107)</td><td>(0.110)</td><td>(0.109)</td><td>(0.113)</td></tr><tr><td style=\"text-align:left\">C(name)[T.bnbchainofficial]</td><td>-0.817<sup>***</sup></td><td>-0.817<sup>***</sup></td><td>-0.817<sup>***</sup></td><td>-0.817<sup>***</sup></td><td>-0.824<sup>***</sup></td><td>-0.834<sup>***</sup></td><td>-0.785<sup>***</sup></td><td>-0.760<sup>***</sup></td></tr><tr><td style=\"text-align:left\"></td><td>(0.083)</td><td>(0.082)</td><td>(0.082)</td><td>(0.083)</td><td>(0.082)</td><td>(0.083)</td><td>(0.082)</td><td>(0.083)</td></tr><tr><td style=\"text-align:left\">C(name)[T.cardano]</td><td>0.759<sup>***</sup></td><td>0.756<sup>***</sup></td><td>0.758<sup>***</sup></td><td>0.760<sup>***</sup></td><td>0.757<sup>***</sup></td><td>0.770<sup>***</sup></td><td>0.779<sup>***</sup></td><td>0.829<sup>***</sup></td></tr><tr><td style=\"text-align:left\"></td><td>(0.055)</td><td>(0.054)</td><td>(0.055)</td><td>(0.056)</td><td>(0.054)</td><td>(0.055)</td><td>(0.055)</td><td>(0.056)</td></tr><tr><td style=\"text-align:left\">C(name)[T.dogecoin]</td><td>2.001<sup>***</sup></td><td>1.999<sup>***</sup></td><td>1.999<sup>***</sup></td><td>2.002<sup>***</sup></td><td>1.993<sup>***</sup></td><td>1.977<sup>***</sup></td><td>2.006<sup>***</sup></td><td>2.011<sup>***</sup></td></tr><tr><td style=\"text-align:left\"></td><td>(0.058)</td><td>(0.057)</td><td>(0.058)</td><td>(0.058)</td><td>(0.057)</td><td>(0.058)</td><td>(0.056)</td><td>(0.057)</td></tr><tr><td style=\"text-align:left\">C(name)[T.ethtrader]</td><td>1.720<sup>***</sup></td><td>1.720<sup>***</sup></td><td>1.720<sup>***</sup></td><td>1.720<sup>***</sup></td><td>1.722<sup>***</sup></td><td>1.730<sup>***</sup></td><td>1.749<sup>***</sup></td><td>1.792<sup>***</sup></td></tr><tr><td style=\"text-align:left\"></td><td>(0.061)</td><td>(0.059)</td><td>(0.061)</td><td>(0.061)</td><td>(0.060)</td><td>(0.061)</td><td>(0.060)</td><td>(0.062)</td></tr><tr><td style=\"text-align:left\">C(name)[T.solana]</td><td>0.744<sup>***</sup></td><td>0.744<sup>***</sup></td><td>0.741<sup>***</sup></td><td>0.744<sup>***</sup></td><td>0.750<sup>***</sup></td><td>0.750<sup>***</sup></td><td>0.729<sup>***</sup></td><td>0.688<sup>***</sup></td></tr><tr><td style=\"text-align:left\"></td><td>(0.065)</td><td>(0.063)</td><td>(0.064)</td><td>(0.065)</td><td>(0.063)</td><td>(0.065)</td><td>(0.062)</td><td>(0.063)</td></tr><tr><td style=\"text-align:left\">Intercept</td><td>2.377<sup>***</sup></td><td>2.378<sup>***</sup></td><td>2.414<sup>***</sup></td><td>2.382<sup>***</sup></td><td>2.377<sup>***</sup></td><td>2.367<sup>***</sup></td><td>2.311<sup>***</sup></td><td>2.179<sup>***</sup></td></tr><tr><td style=\"text-align:left\"></td><td>(0.061)</td><td>(0.060)</td><td>(0.063)</td><td>(0.065)</td><td>(0.061)</td><td>(0.062)</td><td>(0.063)</td><td>(0.069)</td></tr><tr><td style=\"text-align:left\">Weekday_1</td><td>-0.047<sup></sup></td><td>-0.049<sup></sup></td><td>-0.037<sup></sup></td><td>-0.049<sup></sup></td><td>-0.048<sup></sup></td><td>-0.057<sup></sup></td><td>-0.063<sup></sup></td><td>-0.061<sup></sup></td></tr><tr><td style=\"text-align:left\"></td><td>(0.062)</td><td>(0.062)</td><td>(0.063)</td><td>(0.062)</td><td>(0.062)</td><td>(0.064)</td><td>(0.062)</td><td>(0.063)</td></tr><tr><td style=\"text-align:left\">Weekday_2</td><td>0.110<sup></sup></td><td>0.110<sup></sup></td><td>0.114<sup></sup></td><td>0.113<sup></sup></td><td>0.112<sup></sup></td><td>0.122<sup>*</sup></td><td>0.098<sup></sup></td><td>0.113<sup></sup></td></tr><tr><td style=\"text-align:left\"></td><td>(0.071)</td><td>(0.071)</td><td>(0.071)</td><td>(0.071)</td><td>(0.071)</td><td>(0.072)</td><td>(0.071)</td><td>(0.072)</td></tr><tr><td style=\"text-align:left\">Weekday_3</td><td>-0.016<sup></sup></td><td>0.058<sup></sup></td><td>-0.017<sup></sup></td><td>-0.017<sup></sup></td><td>0.056<sup></sup></td><td>0.066<sup></sup></td><td>0.021<sup></sup></td><td>0.064<sup></sup></td></tr><tr><td style=\"text-align:left\"></td><td>(0.063)</td><td>(0.059)</td><td>(0.063)</td><td>(0.063)</td><td>(0.059)</td><td>(0.060)</td><td>(0.059)</td><td>(0.060)</td></tr><tr><td style=\"text-align:left\">Weekday_4</td><td>0.028<sup></sup></td><td>0.025<sup></sup></td><td>0.035<sup></sup></td><td>0.025<sup></sup></td><td>0.023<sup></sup></td><td>0.032<sup></sup></td><td>0.008<sup></sup></td><td>0.032<sup></sup></td></tr><tr><td style=\"text-align:left\"></td><td>(0.065)</td><td>(0.065)</td><td>(0.065)</td><td>(0.065)</td><td>(0.066)</td><td>(0.067)</td><td>(0.065)</td><td>(0.067)</td></tr><tr><td style=\"text-align:left\">Weekday_5</td><td>-0.221<sup>***</sup></td><td>-0.223<sup>***</sup></td><td>-0.224<sup>***</sup></td><td>-0.220<sup>***</sup></td><td>-0.220<sup>***</sup></td><td>-0.222<sup>***</sup></td><td>-0.227<sup>***</sup></td><td>-0.222<sup>***</sup></td></tr><tr><td style=\"text-align:left\"></td><td>(0.065)</td><td>(0.064)</td><td>(0.064)</td><td>(0.065)</td><td>(0.065)</td><td>(0.067)</td><td>(0.064)</td><td>(0.066)</td></tr><tr><td style=\"text-align:left\">Weekday_6</td><td>-0.126<sup>*</sup></td><td>-0.127<sup>*</sup></td><td>-0.125<sup>*</sup></td><td>-0.128<sup>*</sup></td><td>-0.126<sup>*</sup></td><td>-0.117<sup></sup></td><td>-0.128<sup>*</sup></td><td>-0.119<sup></sup></td></tr><tr><td style=\"text-align:left\"></td><td>(0.070)</td><td>(0.070)</td><td>(0.070)</td><td>(0.070)</td><td>(0.070)</td><td>(0.073)</td><td>(0.070)</td><td>(0.072)</td></tr><tr><td style=\"text-align:left\">Yesterday_gain</td><td></td><td></td><td></td><td>-0.011<sup></sup></td><td></td><td></td><td></td><td></td></tr><tr><td style=\"text-align:left\"></td><td></td><td></td><td></td><td>(0.036)</td><td></td><td></td><td></td><td></td></tr><tr><td style=\"text-align:left\">Yesterday_returns</td><td></td><td>0.284<sup></sup></td><td></td><td></td><td></td><td></td><td></td><td></td></tr><tr><td style=\"text-align:left\"></td><td></td><td>(0.383)</td><td></td><td></td><td></td><td></td><td></td><td></td></tr><tr><td style=\"text-align:left\">gain</td><td></td><td></td><td>-0.081<sup>**</sup></td><td></td><td></td><td></td><td></td><td></td></tr><tr><td style=\"text-align:left\"></td><td></td><td></td><td>(0.036)</td><td></td><td></td><td></td><td></td><td></td></tr><tr><td style=\"text-align:left\">returns</td><td>-0.301<sup></sup></td><td></td><td></td><td></td><td></td><td></td><td></td><td></td></tr><tr><td style=\"text-align:left\"></td><td>(0.397)</td><td></td><td></td><td></td><td></td><td></td><td></td><td></td></tr><tr><td style=\"text-align:left\">seven_day_returns</td><td></td><td></td><td></td><td></td><td></td><td>-0.258<sup>*</sup></td><td></td><td></td></tr><tr><td style=\"text-align:left\"></td><td></td><td></td><td></td><td></td><td></td><td>(0.149)</td><td></td><td></td></tr><tr><td style=\"text-align:left\">seven_day_volatility</td><td></td><td></td><td></td><td></td><td></td><td></td><td></td><td>3.953<sup>***</sup></td></tr><tr><td style=\"text-align:left\"></td><td></td><td></td><td></td><td></td><td></td><td></td><td></td><td>(0.523)</td></tr><tr><td style=\"text-align:left\">three_day_returns</td><td></td><td></td><td></td><td></td><td>-0.125<sup></sup></td><td></td><td></td><td></td></tr><tr><td style=\"text-align:left\"></td><td></td><td></td><td></td><td></td><td>(0.253)</td><td></td><td></td><td></td></tr><tr><td style=\"text-align:left\">three_day_volatility</td><td></td><td></td><td></td><td></td><td></td><td></td><td>1.926<sup>***</sup></td><td></td></tr><tr><td style=\"text-align:left\"></td><td></td><td></td><td></td><td></td><td></td><td></td><td>(0.426)</td><td></td></tr><td colspan=\"9\" style=\"border-bottom: 1px solid black\"></td></tr><tr><td style=\"text-align: left\">Observations</td><td>1,334</td><td>1,325</td><td>1,334</td><td>1,334</td><td>1,315</td><td>1,278</td><td>1,325</td><td>1,278</td></tr><tr><td style=\"text-align: left\">R<sup>2</sup></td><td>0.759</td><td>0.766</td><td>0.760</td><td>0.759</td><td>0.766</td><td>0.765</td><td>0.768</td><td>0.770</td></tr><tr><td style=\"text-align: left\">Adjusted R<sup>2</sup></td><td>0.756</td><td>0.763</td><td>0.757</td><td>0.756</td><td>0.763</td><td>0.762</td><td>0.765</td><td>0.767</td></tr><tr><td style=\"text-align: left\">Residual Std. Error</td><td>0.655 (df=1317)</td><td>0.644 (df=1308)</td><td>0.654 (df=1317)</td><td>0.656 (df=1317)</td><td>0.645 (df=1298)</td><td>0.648 (df=1261)</td><td>0.641 (df=1308)</td><td>0.641 (df=1261)</td></tr><tr><td style=\"text-align: left\">F Statistic</td><td>465.657<sup>***</sup> (df=16; 1317)</td><td>542.029<sup>***</sup> (df=16; 1308)</td><td>463.983<sup>***</sup> (df=16; 1317)</td><td>465.398<sup>***</sup> (df=16; 1317)</td><td>542.919<sup>***</sup> (df=16; 1298)</td><td>531.161<sup>***</sup> (df=16; 1261)</td><td>558.648<sup>***</sup> (df=16; 1308)</td><td>577.174<sup>***</sup> (df=16; 1261)</td></tr><tr><td colspan=\"9\" style=\"border-bottom: 1px solid black\"></td></tr><tr><td style=\"text-align: left\">Note:</td>\n",
       " <td colspan=\"8\" style=\"text-align: right\">\n",
       "  <sup>*</sup>p&lt;0.1;\n",
       "  <sup>**</sup>p&lt;0.05;\n",
       "  <sup>***</sup>p&lt;0.01\n",
       " </td></tr></table>"
      ],
      "text/plain": [
       "<stargazer.stargazer.Stargazer at 0x7fae5e0b8f98>"
      ]
     },
     "execution_count": 231,
     "metadata": {},
     "output_type": "execute_result"
    }
   ],
   "source": [
    "mod = ols(formula='sentiment ~ Weekday_1+Weekday_2+Weekday_3+Weekday_4+Weekday_5+Weekday_6', data = test).fit(cov_type='HC0') \n",
    "mod.summary()\n",
    "models = []\n",
    "for var in DV_1w:\n",
    "    \n",
    "    # Define the model\n",
    "#     mod = ols(formula=f'{var} ~ frequency', data = test).fit(cov_type='HC0') \n",
    "    mod = ols(formula=f'{dep_var} ~ {var}+Weekday_1+Weekday_2+Weekday_3+Weekday_4+Weekday_5+Weekday_6+C(name)', data = test).fit(cov_type='HC0') \n",
    "\n",
    "    models.append(mod)\n",
    "    \n",
    "#Looking at the results\n",
    "table_result = Stargazer(models)\n",
    "\n",
    "#Adding the variable names to each model\n",
    "# table_result.custom_columns(DV_1w, [1 for i in range(len(DV_1w))])\n",
    "table_result"
   ]
  },
  {
   "cell_type": "code",
   "execution_count": 224,
   "id": "e56957ef",
   "metadata": {},
   "outputs": [
    {
     "data": {
      "text/plain": [
       "['0xPolygon',\n",
       " 'Bitcoin',\n",
       " 'XRP',\n",
       " 'cardano',\n",
       " 'ethtrader',\n",
       " 'solana',\n",
       " 'bnbchainofficial',\n",
       " 'binance',\n",
       " 'dogecoin',\n",
       " 'USDC']"
      ]
     },
     "execution_count": 224,
     "metadata": {},
     "output_type": "execute_result"
    }
   ],
   "source": [
    "test.name.unique().tolist()"
   ]
  },
  {
   "cell_type": "code",
   "execution_count": 204,
   "id": "8e899a6a",
   "metadata": {},
   "outputs": [],
   "source": [
    "mod = ols(formula='frequency_log ~ returns+Yesterday_returns+gain+Yesterday_gain+three_day_returns+seven_day_returns+three_day_volatility+seven_day_volatility', data = new_df).fit(cov_type='HC0') "
   ]
  },
  {
   "cell_type": "code",
   "execution_count": 205,
   "id": "fff3ce6a",
   "metadata": {},
   "outputs": [
    {
     "data": {
      "text/html": [
       "<table class=\"simpletable\">\n",
       "<caption>OLS Regression Results</caption>\n",
       "<tr>\n",
       "  <th>Dep. Variable:</th>      <td>frequency_log</td>  <th>  R-squared:         </th> <td>   0.023</td>\n",
       "</tr>\n",
       "<tr>\n",
       "  <th>Model:</th>                   <td>OLS</td>       <th>  Adj. R-squared:    </th> <td>   0.017</td>\n",
       "</tr>\n",
       "<tr>\n",
       "  <th>Method:</th>             <td>Least Squares</td>  <th>  F-statistic:       </th> <td>   4.013</td>\n",
       "</tr>\n",
       "<tr>\n",
       "  <th>Date:</th>             <td>Tue, 16 May 2023</td> <th>  Prob (F-statistic):</th> <td>0.000102</td>\n",
       "</tr>\n",
       "<tr>\n",
       "  <th>Time:</th>                 <td>10:58:18</td>     <th>  Log-Likelihood:    </th> <td> -2159.6</td>\n",
       "</tr>\n",
       "<tr>\n",
       "  <th>No. Observations:</th>      <td>  1278</td>      <th>  AIC:               </th> <td>   4337.</td>\n",
       "</tr>\n",
       "<tr>\n",
       "  <th>Df Residuals:</th>          <td>  1269</td>      <th>  BIC:               </th> <td>   4384.</td>\n",
       "</tr>\n",
       "<tr>\n",
       "  <th>Df Model:</th>              <td>     8</td>      <th>                     </th>     <td> </td>   \n",
       "</tr>\n",
       "<tr>\n",
       "  <th>Covariance Type:</th>         <td>HC0</td>       <th>                     </th>     <td> </td>   \n",
       "</tr>\n",
       "</table>\n",
       "<table class=\"simpletable\">\n",
       "<tr>\n",
       "            <td></td>              <th>coef</th>     <th>std err</th>      <th>z</th>      <th>P>|z|</th>  <th>[0.025</th>    <th>0.975]</th>  \n",
       "</tr>\n",
       "<tr>\n",
       "  <th>Intercept</th>            <td>    3.0844</td> <td>    0.092</td> <td>   33.573</td> <td> 0.000</td> <td>    2.904</td> <td>    3.264</td>\n",
       "</tr>\n",
       "<tr>\n",
       "  <th>returns</th>              <td>    0.9759</td> <td>    1.232</td> <td>    0.792</td> <td> 0.428</td> <td>   -1.440</td> <td>    3.391</td>\n",
       "</tr>\n",
       "<tr>\n",
       "  <th>Yesterday_returns</th>    <td>    1.0527</td> <td>    1.190</td> <td>    0.885</td> <td> 0.376</td> <td>   -1.279</td> <td>    3.384</td>\n",
       "</tr>\n",
       "<tr>\n",
       "  <th>gain</th>                 <td>   -0.2143</td> <td>    0.097</td> <td>   -2.211</td> <td> 0.027</td> <td>   -0.404</td> <td>   -0.024</td>\n",
       "</tr>\n",
       "<tr>\n",
       "  <th>Yesterday_gain</th>       <td>   -0.1835</td> <td>    0.096</td> <td>   -1.915</td> <td> 0.055</td> <td>   -0.371</td> <td>    0.004</td>\n",
       "</tr>\n",
       "<tr>\n",
       "  <th>three_day_returns</th>    <td>    0.4568</td> <td>    0.797</td> <td>    0.573</td> <td> 0.567</td> <td>   -1.105</td> <td>    2.019</td>\n",
       "</tr>\n",
       "<tr>\n",
       "  <th>seven_day_returns</th>    <td>    0.1802</td> <td>    0.376</td> <td>    0.479</td> <td> 0.632</td> <td>   -0.557</td> <td>    0.917</td>\n",
       "</tr>\n",
       "<tr>\n",
       "  <th>three_day_volatility</th> <td>    0.1877</td> <td>    1.144</td> <td>    0.164</td> <td> 0.870</td> <td>   -2.054</td> <td>    2.430</td>\n",
       "</tr>\n",
       "<tr>\n",
       "  <th>seven_day_volatility</th> <td>    5.5166</td> <td>    1.359</td> <td>    4.059</td> <td> 0.000</td> <td>    2.853</td> <td>    8.180</td>\n",
       "</tr>\n",
       "</table>\n",
       "<table class=\"simpletable\">\n",
       "<tr>\n",
       "  <th>Omnibus:</th>       <td>51.451</td> <th>  Durbin-Watson:     </th> <td>   0.248</td>\n",
       "</tr>\n",
       "<tr>\n",
       "  <th>Prob(Omnibus):</th> <td> 0.000</td> <th>  Jarque-Bera (JB):  </th> <td>  36.150</td>\n",
       "</tr>\n",
       "<tr>\n",
       "  <th>Skew:</th>          <td>-0.302</td> <th>  Prob(JB):          </th> <td>1.41e-08</td>\n",
       "</tr>\n",
       "<tr>\n",
       "  <th>Kurtosis:</th>      <td> 2.440</td> <th>  Cond. No.          </th> <td>    71.2</td>\n",
       "</tr>\n",
       "</table><br/><br/>Notes:<br/>[1] Standard Errors are heteroscedasticity robust (HC0)"
      ],
      "text/plain": [
       "<class 'statsmodels.iolib.summary.Summary'>\n",
       "\"\"\"\n",
       "                            OLS Regression Results                            \n",
       "==============================================================================\n",
       "Dep. Variable:          frequency_log   R-squared:                       0.023\n",
       "Model:                            OLS   Adj. R-squared:                  0.017\n",
       "Method:                 Least Squares   F-statistic:                     4.013\n",
       "Date:                Tue, 16 May 2023   Prob (F-statistic):           0.000102\n",
       "Time:                        10:58:18   Log-Likelihood:                -2159.6\n",
       "No. Observations:                1278   AIC:                             4337.\n",
       "Df Residuals:                    1269   BIC:                             4384.\n",
       "Df Model:                           8                                         \n",
       "Covariance Type:                  HC0                                         \n",
       "========================================================================================\n",
       "                           coef    std err          z      P>|z|      [0.025      0.975]\n",
       "----------------------------------------------------------------------------------------\n",
       "Intercept                3.0844      0.092     33.573      0.000       2.904       3.264\n",
       "returns                  0.9759      1.232      0.792      0.428      -1.440       3.391\n",
       "Yesterday_returns        1.0527      1.190      0.885      0.376      -1.279       3.384\n",
       "gain                    -0.2143      0.097     -2.211      0.027      -0.404      -0.024\n",
       "Yesterday_gain          -0.1835      0.096     -1.915      0.055      -0.371       0.004\n",
       "three_day_returns        0.4568      0.797      0.573      0.567      -1.105       2.019\n",
       "seven_day_returns        0.1802      0.376      0.479      0.632      -0.557       0.917\n",
       "three_day_volatility     0.1877      1.144      0.164      0.870      -2.054       2.430\n",
       "seven_day_volatility     5.5166      1.359      4.059      0.000       2.853       8.180\n",
       "==============================================================================\n",
       "Omnibus:                       51.451   Durbin-Watson:                   0.248\n",
       "Prob(Omnibus):                  0.000   Jarque-Bera (JB):               36.150\n",
       "Skew:                          -0.302   Prob(JB):                     1.41e-08\n",
       "Kurtosis:                       2.440   Cond. No.                         71.2\n",
       "==============================================================================\n",
       "\n",
       "Notes:\n",
       "[1] Standard Errors are heteroscedasticity robust (HC0)\n",
       "\"\"\""
      ]
     },
     "execution_count": 205,
     "metadata": {},
     "output_type": "execute_result"
    }
   ],
   "source": [
    "mod.summary()"
   ]
  },
  {
   "cell_type": "code",
   "execution_count": null,
   "id": "7a89e19e",
   "metadata": {},
   "outputs": [],
   "source": [
    "stargazer = Stargazer([est_mod1a,est_mod3a,est_mod2a])\n",
    "stargazer.title('OLS Regression with Price')\n",
    "stargazer.dependent_variable_name('Dependent Variable')\n",
    "stargazer\n",
    "# stargazer.column_separators(7,1)\n",
    "# print(stargazer.render_latex())"
   ]
  },
  {
   "cell_type": "markdown",
   "id": "2f459dc0",
   "metadata": {},
   "source": [
    "# 3. Regression Analysis"
   ]
  },
  {
   "cell_type": "code",
   "execution_count": 161,
   "id": "d82013fb",
   "metadata": {},
   "outputs": [
    {
     "data": {
      "text/plain": [
       "Index(['Date', 'text', 'sum', 'postornot', 'relatedornot', 'index', 'Date.1',\n",
       "       'Open', 'High', 'Low', 'Close', 'Adj Close', 'Volume', 'return',\n",
       "       'go up or down', 'Return'],\n",
       "      dtype='object')"
      ]
     },
     "execution_count": 161,
     "metadata": {},
     "output_type": "execute_result"
    }
   ],
   "source": [
    "finaldf.columns"
   ]
  },
  {
   "cell_type": "code",
   "execution_count": 281,
   "id": "605fd6b0",
   "metadata": {},
   "outputs": [
    {
     "data": {
      "text/html": [
       "<table class=\"simpletable\">\n",
       "<tr>\n",
       "      <td></td>         <th>coef</th>     <th>std err</th>      <th>t</th>      <th>P>|t|</th>  <th>[0.025</th>    <th>0.975]</th>  \n",
       "</tr>\n",
       "<tr>\n",
       "  <th>Intercept</th> <td>    0.0636</td> <td>    0.010</td> <td>    6.377</td> <td> 0.000</td> <td>    0.044</td> <td>    0.083</td>\n",
       "</tr>\n",
       "<tr>\n",
       "  <th>postornot</th> <td>    0.0115</td> <td>    0.010</td> <td>    1.138</td> <td> 0.257</td> <td>   -0.008</td> <td>    0.031</td>\n",
       "</tr>\n",
       "</table>"
      ],
      "text/plain": [
       "<class 'statsmodels.iolib.table.SimpleTable'>"
      ]
     },
     "execution_count": 281,
     "metadata": {},
     "output_type": "execute_result"
    }
   ],
   "source": [
    "est_mod1a = ols('Close~postornot',data=finaldf).fit()\n",
    "est_mod1a.summary().tables[1]"
   ]
  },
  {
   "cell_type": "code",
   "execution_count": 282,
   "id": "27471627",
   "metadata": {},
   "outputs": [
    {
     "data": {
      "text/html": [
       "<table class=\"simpletable\">\n",
       "<tr>\n",
       "      <td></td>         <th>coef</th>     <th>std err</th>      <th>t</th>      <th>P>|t|</th>  <th>[0.025</th>    <th>0.975]</th>  \n",
       "</tr>\n",
       "<tr>\n",
       "  <th>Intercept</th> <td>    0.0125</td> <td>    0.035</td> <td>    0.358</td> <td> 0.721</td> <td>   -0.057</td> <td>    0.082</td>\n",
       "</tr>\n",
       "<tr>\n",
       "  <th>postornot</th> <td>   -0.0154</td> <td>    0.035</td> <td>   -0.434</td> <td> 0.665</td> <td>   -0.085</td> <td>    0.055</td>\n",
       "</tr>\n",
       "</table>"
      ],
      "text/plain": [
       "<class 'statsmodels.iolib.table.SimpleTable'>"
      ]
     },
     "execution_count": 282,
     "metadata": {},
     "output_type": "execute_result"
    }
   ],
   "source": [
    "est_mod1b = ols('Return~postornot',data=finaldf).fit()\n",
    "est_mod1b.summary().tables[1]"
   ]
  },
  {
   "cell_type": "code",
   "execution_count": 283,
   "id": "b8851565",
   "metadata": {},
   "outputs": [
    {
     "data": {
      "text/html": [
       "<table class=\"simpletable\">\n",
       "<tr>\n",
       "      <td></td>         <th>coef</th>     <th>std err</th>      <th>t</th>      <th>P>|t|</th>  <th>[0.025</th>    <th>0.975]</th>  \n",
       "</tr>\n",
       "<tr>\n",
       "  <th>Intercept</th> <td>    0.0665</td> <td>    0.002</td> <td>   33.590</td> <td> 0.000</td> <td>    0.063</td> <td>    0.070</td>\n",
       "</tr>\n",
       "<tr>\n",
       "  <th>sum</th>       <td>    0.0005</td> <td> 8.33e-05</td> <td>    5.422</td> <td> 0.000</td> <td>    0.000</td> <td>    0.001</td>\n",
       "</tr>\n",
       "</table>"
      ],
      "text/plain": [
       "<class 'statsmodels.iolib.table.SimpleTable'>"
      ]
     },
     "execution_count": 283,
     "metadata": {},
     "output_type": "execute_result"
    }
   ],
   "source": [
    "est_mod2a = ols('Close~sum',data=finaldf).fit()\n",
    "est_mod2a.summary().tables[1]"
   ]
  },
  {
   "cell_type": "code",
   "execution_count": 286,
   "id": "5212bdf3",
   "metadata": {},
   "outputs": [
    {
     "data": {
      "text/html": [
       "<table class=\"simpletable\">\n",
       "<tr>\n",
       "      <td></td>         <th>coef</th>     <th>std err</th>      <th>t</th>      <th>P>|t|</th>  <th>[0.025</th>    <th>0.975]</th>  \n",
       "</tr>\n",
       "<tr>\n",
       "  <th>Intercept</th> <td>   -0.0111</td> <td>    0.007</td> <td>   -1.493</td> <td> 0.137</td> <td>   -0.026</td> <td>    0.004</td>\n",
       "</tr>\n",
       "<tr>\n",
       "  <th>sum</th>       <td>    0.0005</td> <td>    0.000</td> <td>    1.468</td> <td> 0.144</td> <td>   -0.000</td> <td>    0.001</td>\n",
       "</tr>\n",
       "</table>"
      ],
      "text/plain": [
       "<class 'statsmodels.iolib.table.SimpleTable'>"
      ]
     },
     "execution_count": 286,
     "metadata": {},
     "output_type": "execute_result"
    }
   ],
   "source": [
    "est_mod2b = ols('Return~sum',data=finaldf).fit()\n",
    "est_mod2b.summary().tables[1]"
   ]
  },
  {
   "cell_type": "code",
   "execution_count": 287,
   "id": "17e63718",
   "metadata": {},
   "outputs": [
    {
     "data": {
      "text/html": [
       "<table class=\"simpletable\">\n",
       "<tr>\n",
       "        <td></td>          <th>coef</th>     <th>std err</th>      <th>t</th>      <th>P>|t|</th>  <th>[0.025</th>    <th>0.975]</th>  \n",
       "</tr>\n",
       "<tr>\n",
       "  <th>Intercept</th>    <td>    0.0754</td> <td>    0.002</td> <td>   46.424</td> <td> 0.000</td> <td>    0.072</td> <td>    0.079</td>\n",
       "</tr>\n",
       "<tr>\n",
       "  <th>relatedornot</th> <td>   -0.0015</td> <td>    0.003</td> <td>   -0.517</td> <td> 0.606</td> <td>   -0.007</td> <td>    0.004</td>\n",
       "</tr>\n",
       "</table>"
      ],
      "text/plain": [
       "<class 'statsmodels.iolib.table.SimpleTable'>"
      ]
     },
     "execution_count": 287,
     "metadata": {},
     "output_type": "execute_result"
    }
   ],
   "source": [
    "est_mod3a = ols('Close~relatedornot',data=finaldf).fit()\n",
    "est_mod3a.summary().tables[1]"
   ]
  },
  {
   "cell_type": "code",
   "execution_count": 288,
   "id": "a54f77e1",
   "metadata": {
    "scrolled": true
   },
   "outputs": [
    {
     "data": {
      "text/html": [
       "<table class=\"simpletable\">\n",
       "<tr>\n",
       "        <td></td>          <th>coef</th>     <th>std err</th>      <th>t</th>      <th>P>|t|</th>  <th>[0.025</th>    <th>0.975]</th>  \n",
       "</tr>\n",
       "<tr>\n",
       "  <th>Intercept</th>    <td>   -0.0040</td> <td>    0.006</td> <td>   -0.701</td> <td> 0.485</td> <td>   -0.015</td> <td>    0.007</td>\n",
       "</tr>\n",
       "<tr>\n",
       "  <th>relatedornot</th> <td>    0.0043</td> <td>    0.010</td> <td>    0.441</td> <td> 0.660</td> <td>   -0.015</td> <td>    0.024</td>\n",
       "</tr>\n",
       "</table>"
      ],
      "text/plain": [
       "<class 'statsmodels.iolib.table.SimpleTable'>"
      ]
     },
     "execution_count": 288,
     "metadata": {},
     "output_type": "execute_result"
    }
   ],
   "source": [
    "est_mod3b = ols('Return~relatedornot',data=finaldf).fit()\n",
    "est_mod3b.summary().tables[1]"
   ]
  },
  {
   "cell_type": "code",
   "execution_count": 339,
   "id": "9c84325c",
   "metadata": {},
   "outputs": [
    {
     "data": {
      "text/html": [
       "OLS Regression with Price<br><table style=\"text-align:center\"><tr><td colspan=\"4\" style=\"border-bottom: 1px solid black\"></td></tr><tr><td style=\"text-align:left\"></td><td colspan=\"3\"><em>Dependent VariablesClose</em></td></tr><tr><td style=\"text-align:left\"></td><tr><td style=\"text-align:left\"></td><td>(1)</td><td>(2)</td><td>(3)</td></tr><tr><td colspan=\"4\" style=\"border-bottom: 1px solid black\"></td></tr><tr><td style=\"text-align:left\">Intercept</td><td>0.064<sup>***</sup></td><td>0.075<sup>***</sup></td><td>0.066<sup>***</sup></td></tr><tr><td style=\"text-align:left\"></td><td>(0.010)</td><td>(0.002)</td><td>(0.002)</td></tr><tr><td style=\"text-align:left\">postornot</td><td>0.011<sup></sup></td><td></td><td></td></tr><tr><td style=\"text-align:left\"></td><td>(0.010)</td><td></td><td></td></tr><tr><td style=\"text-align:left\">relatedornot</td><td></td><td>-0.001<sup></sup></td><td></td></tr><tr><td style=\"text-align:left\"></td><td></td><td>(0.003)</td><td></td></tr><tr><td style=\"text-align:left\">sum</td><td></td><td></td><td>0.000<sup>***</sup></td></tr><tr><td style=\"text-align:left\"></td><td></td><td></td><td>(0.000)</td></tr><td colspan=\"4\" style=\"border-bottom: 1px solid black\"></td></tr><tr><td style=\"text-align: left\">Observations</td><td>171</td><td>171</td><td>171</td></tr><tr><td style=\"text-align: left\">R<sup>2</sup></td><td>0.008</td><td>0.002</td><td>0.148</td></tr><tr><td style=\"text-align: left\">Adjusted R<sup>2</sup></td><td>0.002</td><td>-0.004</td><td>0.143</td></tr><tr><td style=\"text-align: left\">Residual Std. Error</td><td>0.017 (df=169)</td><td>0.017 (df=169)</td><td>0.016 (df=169)</td></tr><tr><td style=\"text-align: left\">F Statistic</td><td>1.295<sup></sup> (df=1; 169)</td><td>0.267<sup></sup> (df=1; 169)</td><td>29.394<sup>***</sup> (df=1; 169)</td></tr><tr><td colspan=\"4\" style=\"border-bottom: 1px solid black\"></td></tr><tr><td style=\"text-align: left\">Note:</td>\n",
       " <td colspan=\"3\" style=\"text-align: right\">\n",
       "  <sup>*</sup>p&lt;0.1;\n",
       "  <sup>**</sup>p&lt;0.05;\n",
       "  <sup>***</sup>p&lt;0.01\n",
       " </td></tr></table>"
      ],
      "text/plain": [
       "<stargazer.stargazer.Stargazer at 0x7f8ca81b2438>"
      ]
     },
     "execution_count": 339,
     "metadata": {},
     "output_type": "execute_result"
    }
   ],
   "source": [
    "stargazer = Stargazer([est_mod1a,est_mod3a,est_mod2a])\n",
    "stargazer.title('OLS Regression with Price')\n",
    "stargazer.dependent_variable_name('Dependent Variable')\n",
    "stargazer\n",
    "# stargazer.column_separators(7,1)"
   ]
  },
  {
   "cell_type": "code",
   "execution_count": 368,
   "id": "94422b7e",
   "metadata": {},
   "outputs": [],
   "source": [
    "# print(stargazer.render_latex())"
   ]
  },
  {
   "cell_type": "code",
   "execution_count": 342,
   "id": "e996944b",
   "metadata": {},
   "outputs": [
    {
     "data": {
      "text/html": [
       "OLS Regression with Daily Return<br><table style=\"text-align:center\"><tr><td colspan=\"4\" style=\"border-bottom: 1px solid black\"></td></tr><tr><td style=\"text-align:left\"></td><td colspan=\"3\"><em>Dependent VariableReturn</em></td></tr><tr><td style=\"text-align:left\"></td><tr><td style=\"text-align:left\"></td><td>(1)</td><td>(2)</td><td>(3)</td></tr><tr><td colspan=\"4\" style=\"border-bottom: 1px solid black\"></td></tr><tr><td style=\"text-align:left\">Intercept</td><td>0.013<sup></sup></td><td>-0.004<sup></sup></td><td>-0.011<sup></sup></td></tr><tr><td style=\"text-align:left\"></td><td>(0.035)</td><td>(0.006)</td><td>(0.007)</td></tr><tr><td style=\"text-align:left\">postornot</td><td>-0.015<sup></sup></td><td></td><td></td></tr><tr><td style=\"text-align:left\"></td><td>(0.035)</td><td></td><td></td></tr><tr><td style=\"text-align:left\">relatedornot</td><td></td><td>0.004<sup></sup></td><td></td></tr><tr><td style=\"text-align:left\"></td><td></td><td>(0.010)</td><td></td></tr><tr><td style=\"text-align:left\">sum</td><td></td><td></td><td>0.000<sup></sup></td></tr><tr><td style=\"text-align:left\"></td><td></td><td></td><td>(0.000)</td></tr><td colspan=\"4\" style=\"border-bottom: 1px solid black\"></td></tr><tr><td style=\"text-align: left\">Observations</td><td>171</td><td>171</td><td>171</td></tr><tr><td style=\"text-align: left\">R<sup>2</sup></td><td>0.001</td><td>0.001</td><td>0.013</td></tr><tr><td style=\"text-align: left\">Adjusted R<sup>2</sup></td><td>-0.005</td><td>-0.005</td><td>0.007</td></tr><tr><td style=\"text-align: left\">Residual Std. Error</td><td>0.061 (df=169)</td><td>0.061 (df=169)</td><td>0.060 (df=169)</td></tr><tr><td style=\"text-align: left\">F Statistic</td><td>0.188<sup></sup> (df=1; 169)</td><td>0.194<sup></sup> (df=1; 169)</td><td>2.154<sup></sup> (df=1; 169)</td></tr><tr><td colspan=\"4\" style=\"border-bottom: 1px solid black\"></td></tr><tr><td style=\"text-align: left\">Note:</td>\n",
       " <td colspan=\"3\" style=\"text-align: right\">\n",
       "  <sup>*</sup>p&lt;0.1;\n",
       "  <sup>**</sup>p&lt;0.05;\n",
       "  <sup>***</sup>p&lt;0.01\n",
       " </td></tr></table>"
      ],
      "text/plain": [
       "<stargazer.stargazer.Stargazer at 0x7f8cf399d940>"
      ]
     },
     "execution_count": 342,
     "metadata": {},
     "output_type": "execute_result"
    }
   ],
   "source": [
    "stargazer = Stargazer([est_mod1b,est_mod3b,est_mod2b])\n",
    "stargazer.title('OLS Regression with Daily Return')\n",
    "stargazer.dependent_variable_name('Dependent Variable')\n",
    "stargazer\n",
    "# stargazer.column_separators(7,1)"
   ]
  },
  {
   "cell_type": "code",
   "execution_count": 369,
   "id": "bd6849e2",
   "metadata": {},
   "outputs": [],
   "source": [
    "# print(stargazer.render_latex())"
   ]
  },
  {
   "cell_type": "markdown",
   "id": "9018d54a",
   "metadata": {},
   "source": [
    "# 4. Sentiment Analysis"
   ]
  },
  {
   "cell_type": "markdown",
   "id": "0c0df743",
   "metadata": {},
   "source": [
    "## 4.1 Afinn: Wordlist-based approch"
   ]
  },
  {
   "cell_type": "code",
   "execution_count": 29,
   "id": "ed6b1a2e",
   "metadata": {},
   "outputs": [],
   "source": [
    "new_test = new_df.copy()"
   ]
  },
  {
   "cell_type": "code",
   "execution_count": 30,
   "id": "f9ad0151",
   "metadata": {},
   "outputs": [],
   "source": [
    "afinn = Afinn(language = 'en', emoticons=True)"
   ]
  },
  {
   "cell_type": "code",
   "execution_count": 31,
   "id": "0e9ee758",
   "metadata": {},
   "outputs": [],
   "source": [
    "new_list=[]\n",
    "for i in new_test['text']:\n",
    "    i=str(i)\n",
    "    new_list.append(re.sub('@\\w*','',i))\n",
    "    \n",
    "new_test['text_clean']=new_list"
   ]
  },
  {
   "cell_type": "code",
   "execution_count": 32,
   "id": "fda1fddc",
   "metadata": {},
   "outputs": [
    {
     "data": {
      "application/vnd.jupyter.widget-view+json": {
       "model_id": "16d5f146b44a4d7f93edc54b51b39260",
       "version_major": 2,
       "version_minor": 0
      },
      "text/plain": [
       "  0%|          | 0/1430 [00:00<?, ?it/s]"
      ]
     },
     "metadata": {},
     "output_type": "display_data"
    }
   ],
   "source": [
    "new_test['sentiment_score'] = new_test['text_clean'].progress_apply(lambda x: afinn.score(x))"
   ]
  },
  {
   "cell_type": "code",
   "execution_count": null,
   "id": "6c0ec329",
   "metadata": {},
   "outputs": [],
   "source": [
    "new_test['sentiment_score'] = new_test['text_clean'].progress_apply(lambda x: afinn.score(x))"
   ]
  },
  {
   "cell_type": "code",
   "execution_count": 33,
   "id": "0938b1db",
   "metadata": {},
   "outputs": [
    {
     "data": {
      "application/vnd.jupyter.widget-view+json": {
       "model_id": "8efdd2b1bf25437b9c5234afa8dab560",
       "version_major": 2,
       "version_minor": 0
      },
      "text/plain": [
       "  0%|          | 0/1430 [00:00<?, ?it/s]"
      ]
     },
     "metadata": {},
     "output_type": "display_data"
    }
   ],
   "source": [
    "new_test['length_sentence'] = new_test['text_clean'].progress_apply(lambda x: len(x.split()))"
   ]
  },
  {
   "cell_type": "code",
   "execution_count": 34,
   "id": "835ba378",
   "metadata": {},
   "outputs": [],
   "source": [
    "new_test['sentiment_score_normalized'] = new_test['sentiment_score'] / new_test['length_sentence']"
   ]
  },
  {
   "cell_type": "code",
   "execution_count": 37,
   "id": "42c0fa19",
   "metadata": {},
   "outputs": [
    {
     "name": "stdout",
     "output_type": "stream",
     "text": [
      "-0.6696035242290749\n",
      "0.4\n",
      "0.04049488918682473\n"
     ]
    }
   ],
   "source": [
    "print(min(new_test.sentiment_score_normalized))\n",
    "print(max(new_test.sentiment_score_normalized))\n",
    "print(np.mean(new_test.sentiment_score_normalized))"
   ]
  },
  {
   "cell_type": "markdown",
   "id": "afdf5563",
   "metadata": {},
   "source": [
    "## 4.2 Bert"
   ]
  },
  {
   "cell_type": "code",
   "execution_count": 38,
   "id": "b7ef7392",
   "metadata": {},
   "outputs": [],
   "source": [
    "task='sentiment'\n",
    "MODEL = f\"cardiffnlp/twitter-roberta-base-{task}\""
   ]
  },
  {
   "cell_type": "code",
   "execution_count": 40,
   "id": "2d4eb8ca",
   "metadata": {
    "scrolled": true
   },
   "outputs": [],
   "source": [
    "sentiment_analysis = pipeline(model=\"nlptown/bert-base-multilingual-uncased-sentiment\")\n",
    "sanction_corpus = [x for x in new_test['text_clean']]\n",
    "# sanction_corpus"
   ]
  },
  {
   "cell_type": "code",
   "execution_count": 42,
   "id": "8c48a0d6",
   "metadata": {},
   "outputs": [
    {
     "data": {
      "text/plain": [
       "{'label': '2 stars', 'score': 0.26056790351867676}"
      ]
     },
     "execution_count": 42,
     "metadata": {},
     "output_type": "execute_result"
    }
   ],
   "source": [
    "sentiment_analysis(sanction_corpus[0])[0]"
   ]
  },
  {
   "cell_type": "code",
   "execution_count": 44,
   "id": "c8807029",
   "metadata": {},
   "outputs": [
    {
     "data": {
      "application/vnd.jupyter.widget-view+json": {
       "model_id": "21e61d71ddf941b58e3efc600e80c1ce",
       "version_major": 2,
       "version_minor": 0
      },
      "text/plain": [
       "  0%|          | 0/1430 [00:00<?, ?it/s]"
      ]
     },
     "metadata": {},
     "output_type": "display_data"
    },
    {
     "name": "stderr",
     "output_type": "stream",
     "text": [
      "Token indices sequence length is longer than the specified maximum sequence length for this model (999 > 512). Running this sequence through the model will result in indexing errors\n"
     ]
    }
   ],
   "source": [
    "# Set up the inference pipeline using a model from the 🤗 Hubb\n",
    " \n",
    "# Let's run the sentiment analysis on each tweet\n",
    "tweets = []\n",
    "for tweet in tqdm(sanction_corpus):\n",
    "    tweet = str(tweet)\n",
    "    try:\n",
    "        sentiment = sentiment_analysis(tweet)\n",
    "        tweets.append(sentiment[0]['score'])\n",
    "    except:\n",
    "        tweets.append(np.nan)\n",
    "        pass\n",
    "\n",
    "new_test['Bert_sentiment']=tweets"
   ]
  },
  {
   "cell_type": "code",
   "execution_count": 45,
   "id": "5e92a793",
   "metadata": {},
   "outputs": [
    {
     "name": "stdout",
     "output_type": "stream",
     "text": [
      "0.21869532763957977\n",
      "0.9037908315658569\n",
      "nan\n"
     ]
    }
   ],
   "source": [
    "print(min(tweets))\n",
    "print(max(tweets))\n",
    "print(np.mean(tweets))\n",
    "\n",
    "# Bert will provide lots of nan value"
   ]
  },
  {
   "cell_type": "markdown",
   "id": "1066a9f3",
   "metadata": {},
   "source": [
    "## 4.3 Distilbert"
   ]
  },
  {
   "cell_type": "code",
   "execution_count": 47,
   "id": "34bdb0e2",
   "metadata": {
    "scrolled": true
   },
   "outputs": [],
   "source": [
    "sentiment_analysis_2 = pipeline(model=\"distilbert-base-uncased-finetuned-sst-2-english\")"
   ]
  },
  {
   "cell_type": "code",
   "execution_count": 48,
   "id": "250d705c",
   "metadata": {},
   "outputs": [
    {
     "data": {
      "text/plain": [
       "[{'label': 'POSITIVE', 'score': 0.9541463851928711}]"
      ]
     },
     "execution_count": 48,
     "metadata": {},
     "output_type": "execute_result"
    }
   ],
   "source": [
    "sentiment_analysis_2(sanction_corpus[0])"
   ]
  },
  {
   "cell_type": "code",
   "execution_count": 49,
   "id": "65253d19",
   "metadata": {},
   "outputs": [
    {
     "data": {
      "application/vnd.jupyter.widget-view+json": {
       "model_id": "d6fadae3a697428eae87f5ad70bf3f52",
       "version_major": 2,
       "version_minor": 0
      },
      "text/plain": [
       "  0%|          | 0/1430 [00:00<?, ?it/s]"
      ]
     },
     "metadata": {},
     "output_type": "display_data"
    },
    {
     "name": "stderr",
     "output_type": "stream",
     "text": [
      "Token indices sequence length is longer than the specified maximum sequence length for this model (964 > 512). Running this sequence through the model will result in indexing errors\n"
     ]
    }
   ],
   "source": [
    "# Set up the inference pipeline using a model from the 🤗 Hubb\n",
    " \n",
    "tweets_2 = []\n",
    "for tweet in tqdm(sanction_corpus):\n",
    "    tweet = str(tweet)\n",
    "    try:\n",
    "        sentiment = sentiment_analysis_2(tweet)\n",
    "        tweets_2.append(sentiment[0]['score'])\n",
    "    except:\n",
    "        tweets_2.append(np.nan)"
   ]
  },
  {
   "cell_type": "code",
   "execution_count": 50,
   "id": "07f0bd89",
   "metadata": {},
   "outputs": [
    {
     "name": "stdout",
     "output_type": "stream",
     "text": [
      "0.5300015211105347\n",
      "0.9997994303703308\n",
      "nan\n"
     ]
    }
   ],
   "source": [
    "print(min(tweets_2))\n",
    "print(max(tweets_2))\n",
    "print(np.mean(tweets_2))\n",
    "# lots of nan value"
   ]
  },
  {
   "cell_type": "code",
   "execution_count": 365,
   "id": "526eb435",
   "metadata": {},
   "outputs": [],
   "source": [
    "sent_distilbert = pd.DataFrame(tweets_2)\n",
    "finaldf_new2 = pd.concat([finaldf_new,sent_distilbert],axis=1,join='outer')\n",
    "# finaldf_new2.head()"
   ]
  },
  {
   "cell_type": "markdown",
   "id": "3d2e6f1e",
   "metadata": {},
   "source": [
    "## 4.4 twitter-roberta"
   ]
  },
  {
   "cell_type": "code",
   "execution_count": 52,
   "id": "6952cf9b",
   "metadata": {},
   "outputs": [
    {
     "name": "stderr",
     "output_type": "stream",
     "text": [
      "Some weights of the model checkpoint at cardiffnlp/twitter-roberta-base-sentiment-latest were not used when initializing RobertaForSequenceClassification: ['roberta.pooler.dense.bias', 'roberta.pooler.dense.weight']\n",
      "- This IS expected if you are initializing RobertaForSequenceClassification from the checkpoint of a model trained on another task or with another architecture (e.g. initializing a BertForSequenceClassification model from a BertForPreTraining model).\n",
      "- This IS NOT expected if you are initializing RobertaForSequenceClassification from the checkpoint of a model that you expect to be exactly identical (initializing a BertForSequenceClassification model from a BertForSequenceClassification model).\n"
     ]
    }
   ],
   "source": [
    "sentiment_analysis_3 = pipeline(model=\"cardiffnlp/twitter-roberta-base-sentiment-latest\")"
   ]
  },
  {
   "cell_type": "code",
   "execution_count": 54,
   "id": "a1d17ed7",
   "metadata": {},
   "outputs": [
    {
     "data": {
      "application/vnd.jupyter.widget-view+json": {
       "model_id": "168bdc025d0d451cbe676a6e3d6523e9",
       "version_major": 2,
       "version_minor": 0
      },
      "text/plain": [
       "  0%|          | 0/1430 [00:00<?, ?it/s]"
      ]
     },
     "metadata": {},
     "output_type": "display_data"
    }
   ],
   "source": [
    "tweets_3 = []\n",
    "for tweet in tqdm(sanction_corpus):\n",
    "    try:\n",
    "        sentiment = sentiment_analysis_3(tweet)\n",
    "        tweets_3.append(sentiment[0]['score'])\n",
    "    except:\n",
    "        tweets_3.append(np.nan)\n",
    "        pass"
   ]
  },
  {
   "cell_type": "code",
   "execution_count": 56,
   "id": "02035c37",
   "metadata": {},
   "outputs": [
    {
     "data": {
      "text/plain": [
       "[0.6808651685714722,\n",
       " 0.8563684225082397,\n",
       " {nan},\n",
       " {nan},\n",
       " {nan},\n",
       " {nan},\n",
       " {nan},\n",
       " {nan},\n",
       " {nan},\n",
       " {nan},\n",
       " {nan},\n",
       " {nan},\n",
       " {nan},\n",
       " {nan},\n",
       " {nan},\n",
       " {nan},\n",
       " {nan},\n",
       " {nan},\n",
       " 0.7947615385055542,\n",
       " {nan},\n",
       " {nan},\n",
       " {nan},\n",
       " {nan},\n",
       " {nan},\n",
       " {nan},\n",
       " {nan},\n",
       " {nan},\n",
       " {nan},\n",
       " {nan},\n",
       " {nan},\n",
       " {nan},\n",
       " {nan},\n",
       " {nan},\n",
       " {nan},\n",
       " {nan},\n",
       " {nan},\n",
       " {nan},\n",
       " {nan},\n",
       " {nan},\n",
       " {nan},\n",
       " {nan},\n",
       " 0.9619404077529907,\n",
       " {nan},\n",
       " {nan},\n",
       " {nan},\n",
       " {nan},\n",
       " {nan},\n",
       " {nan},\n",
       " {nan},\n",
       " {nan},\n",
       " 0.8588888645172119,\n",
       " {nan},\n",
       " {nan},\n",
       " 0.7149624824523926,\n",
       " {nan},\n",
       " 0.9591405987739563,\n",
       " {nan},\n",
       " {nan},\n",
       " {nan},\n",
       " {nan},\n",
       " {nan},\n",
       " {nan},\n",
       " {nan},\n",
       " {nan},\n",
       " {nan},\n",
       " {nan},\n",
       " {nan},\n",
       " {nan},\n",
       " {nan},\n",
       " {nan},\n",
       " {nan},\n",
       " {nan},\n",
       " {nan},\n",
       " {nan},\n",
       " {nan},\n",
       " {nan},\n",
       " {nan},\n",
       " {nan},\n",
       " {nan},\n",
       " {nan},\n",
       " {nan},\n",
       " 0.5974303483963013,\n",
       " {nan},\n",
       " {nan},\n",
       " {nan},\n",
       " {nan},\n",
       " {nan},\n",
       " 0.8831436634063721,\n",
       " 0.8516334295272827,\n",
       " {nan},\n",
       " {nan},\n",
       " {nan},\n",
       " {nan},\n",
       " {nan},\n",
       " {nan},\n",
       " {nan},\n",
       " {nan},\n",
       " {nan},\n",
       " {nan},\n",
       " {nan},\n",
       " {nan},\n",
       " {nan},\n",
       " {nan},\n",
       " {nan},\n",
       " {nan},\n",
       " {nan},\n",
       " {nan},\n",
       " {nan},\n",
       " {nan},\n",
       " {nan},\n",
       " {nan},\n",
       " {nan},\n",
       " {nan},\n",
       " {nan},\n",
       " {nan},\n",
       " {nan},\n",
       " {nan},\n",
       " {nan},\n",
       " {nan},\n",
       " {nan},\n",
       " 0.6690831184387207,\n",
       " {nan},\n",
       " {nan},\n",
       " 0.6407639980316162,\n",
       " {nan},\n",
       " {nan},\n",
       " {nan},\n",
       " {nan},\n",
       " 0.6534412503242493,\n",
       " {nan},\n",
       " {nan},\n",
       " {nan},\n",
       " {nan},\n",
       " {nan},\n",
       " {nan},\n",
       " 0.8187394738197327,\n",
       " {nan},\n",
       " {nan},\n",
       " {nan},\n",
       " {nan},\n",
       " {nan},\n",
       " 0.6808651685714722,\n",
       " 0.6808651685714722,\n",
       " 0.6808651685714722,\n",
       " {nan},\n",
       " {nan},\n",
       " {nan},\n",
       " {nan},\n",
       " {nan},\n",
       " {nan},\n",
       " {nan},\n",
       " {nan},\n",
       " {nan},\n",
       " {nan},\n",
       " {nan},\n",
       " {nan},\n",
       " {nan},\n",
       " {nan},\n",
       " {nan},\n",
       " {nan},\n",
       " {nan},\n",
       " {nan},\n",
       " {nan},\n",
       " {nan},\n",
       " {nan},\n",
       " {nan},\n",
       " {nan},\n",
       " {nan},\n",
       " {nan},\n",
       " {nan},\n",
       " {nan},\n",
       " {nan},\n",
       " {nan},\n",
       " {nan},\n",
       " {nan},\n",
       " {nan},\n",
       " {nan},\n",
       " {nan},\n",
       " {nan},\n",
       " {nan},\n",
       " {nan},\n",
       " {nan},\n",
       " {nan},\n",
       " {nan},\n",
       " {nan},\n",
       " {nan},\n",
       " {nan},\n",
       " {nan},\n",
       " {nan},\n",
       " {nan},\n",
       " {nan},\n",
       " {nan},\n",
       " {nan},\n",
       " {nan},\n",
       " {nan},\n",
       " {nan},\n",
       " {nan},\n",
       " {nan},\n",
       " {nan},\n",
       " {nan},\n",
       " {nan},\n",
       " {nan},\n",
       " {nan},\n",
       " {nan},\n",
       " {nan},\n",
       " {nan},\n",
       " {nan},\n",
       " {nan},\n",
       " {nan},\n",
       " {nan},\n",
       " {nan},\n",
       " {nan},\n",
       " {nan},\n",
       " {nan},\n",
       " {nan},\n",
       " {nan},\n",
       " {nan},\n",
       " {nan},\n",
       " {nan},\n",
       " {nan},\n",
       " {nan},\n",
       " {nan},\n",
       " {nan},\n",
       " {nan},\n",
       " {nan},\n",
       " {nan},\n",
       " {nan},\n",
       " {nan},\n",
       " {nan},\n",
       " {nan},\n",
       " {nan},\n",
       " {nan},\n",
       " {nan},\n",
       " {nan},\n",
       " {nan},\n",
       " {nan},\n",
       " {nan},\n",
       " {nan},\n",
       " {nan},\n",
       " {nan},\n",
       " {nan},\n",
       " {nan},\n",
       " {nan},\n",
       " {nan},\n",
       " {nan},\n",
       " {nan},\n",
       " {nan},\n",
       " {nan},\n",
       " {nan},\n",
       " {nan},\n",
       " {nan},\n",
       " {nan},\n",
       " {nan},\n",
       " {nan},\n",
       " {nan},\n",
       " {nan},\n",
       " {nan},\n",
       " {nan},\n",
       " {nan},\n",
       " {nan},\n",
       " {nan},\n",
       " {nan},\n",
       " {nan},\n",
       " {nan},\n",
       " {nan},\n",
       " {nan},\n",
       " {nan},\n",
       " {nan},\n",
       " {nan},\n",
       " {nan},\n",
       " {nan},\n",
       " {nan},\n",
       " {nan},\n",
       " {nan},\n",
       " {nan},\n",
       " {nan},\n",
       " {nan},\n",
       " {nan},\n",
       " {nan},\n",
       " {nan},\n",
       " {nan},\n",
       " {nan},\n",
       " {nan},\n",
       " {nan},\n",
       " 0.6808651685714722,\n",
       " 0.6808651685714722,\n",
       " 0.6808651685714722,\n",
       " 0.9577662348747253,\n",
       " {nan},\n",
       " 0.6717109680175781,\n",
       " 0.9018031358718872,\n",
       " 0.5147699117660522,\n",
       " {nan},\n",
       " 0.7457033395767212,\n",
       " {nan},\n",
       " 0.6740472912788391,\n",
       " 0.6465018391609192,\n",
       " 0.9053501486778259,\n",
       " 0.8259889483451843,\n",
       " {nan},\n",
       " 0.8188837766647339,\n",
       " 0.67103111743927,\n",
       " 0.5687723159790039,\n",
       " 0.8064680695533752,\n",
       " 0.8164065480232239,\n",
       " 0.8177299499511719,\n",
       " {nan},\n",
       " 0.6268254518508911,\n",
       " 0.7336118817329407,\n",
       " 0.7683069705963135,\n",
       " 0.8139021396636963,\n",
       " {nan},\n",
       " {nan},\n",
       " {nan},\n",
       " {nan},\n",
       " 0.5228948593139648,\n",
       " 0.6814861297607422,\n",
       " 0.6050261855125427,\n",
       " 0.7881508469581604,\n",
       " 0.9065167903900146,\n",
       " 0.5567947030067444,\n",
       " {nan},\n",
       " 0.7814198732376099,\n",
       " 0.7617530226707458,\n",
       " 0.8131136894226074,\n",
       " {nan},\n",
       " {nan},\n",
       " {nan},\n",
       " {nan},\n",
       " {nan},\n",
       " 0.5813916325569153,\n",
       " 0.6282343864440918,\n",
       " 0.7492958903312683,\n",
       " {nan},\n",
       " {nan},\n",
       " {nan},\n",
       " {nan},\n",
       " {nan},\n",
       " 0.7706603407859802,\n",
       " 0.7883754968643188,\n",
       " {nan},\n",
       " {nan},\n",
       " {nan},\n",
       " {nan},\n",
       " {nan},\n",
       " {nan},\n",
       " 0.8321014642715454,\n",
       " {nan},\n",
       " {nan},\n",
       " {nan},\n",
       " {nan},\n",
       " {nan},\n",
       " 0.8826395273208618,\n",
       " 0.8847296237945557,\n",
       " {nan},\n",
       " {nan},\n",
       " {nan},\n",
       " {nan},\n",
       " 0.837528645992279,\n",
       " {nan},\n",
       " {nan},\n",
       " {nan},\n",
       " 0.6544925570487976,\n",
       " {nan},\n",
       " {nan},\n",
       " 0.8513194918632507,\n",
       " 0.899761438369751,\n",
       " {nan},\n",
       " {nan},\n",
       " {nan},\n",
       " {nan},\n",
       " 0.9190608859062195,\n",
       " 0.8782268762588501,\n",
       " {nan},\n",
       " 0.9080359935760498,\n",
       " {nan},\n",
       " 0.6213024258613586,\n",
       " 0.707785964012146,\n",
       " 0.9061956405639648,\n",
       " {nan},\n",
       " 0.9158853888511658,\n",
       " {nan},\n",
       " {nan},\n",
       " {nan},\n",
       " {nan},\n",
       " {nan},\n",
       " 0.8685764670372009,\n",
       " 0.8910677433013916,\n",
       " {nan},\n",
       " {nan},\n",
       " {nan},\n",
       " {nan},\n",
       " {nan},\n",
       " 0.8807833790779114,\n",
       " {nan},\n",
       " 0.6484535336494446,\n",
       " 0.9327656030654907,\n",
       " {nan},\n",
       " 0.8056058883666992,\n",
       " {nan},\n",
       " 0.9509069323539734,\n",
       " 0.5312359929084778,\n",
       " 0.8954563140869141,\n",
       " {nan},\n",
       " {nan},\n",
       " {nan},\n",
       " {nan},\n",
       " {nan},\n",
       " {nan},\n",
       " {nan},\n",
       " {nan},\n",
       " {nan},\n",
       " {nan},\n",
       " {nan},\n",
       " {nan},\n",
       " {nan},\n",
       " {nan},\n",
       " {nan},\n",
       " {nan},\n",
       " {nan},\n",
       " {nan},\n",
       " {nan},\n",
       " {nan},\n",
       " {nan},\n",
       " {nan},\n",
       " {nan},\n",
       " {nan},\n",
       " 0.6808651685714722,\n",
       " 0.6808651685714722,\n",
       " 0.6808651685714722,\n",
       " 0.7607894539833069,\n",
       " {nan},\n",
       " {nan},\n",
       " 0.5227859616279602,\n",
       " {nan},\n",
       " {nan},\n",
       " {nan},\n",
       " {nan},\n",
       " {nan},\n",
       " {nan},\n",
       " {nan},\n",
       " {nan},\n",
       " {nan},\n",
       " {nan},\n",
       " {nan},\n",
       " {nan},\n",
       " {nan},\n",
       " {nan},\n",
       " {nan},\n",
       " {nan},\n",
       " {nan},\n",
       " {nan},\n",
       " {nan},\n",
       " {nan},\n",
       " {nan},\n",
       " {nan},\n",
       " {nan},\n",
       " {nan},\n",
       " {nan},\n",
       " {nan},\n",
       " {nan},\n",
       " {nan},\n",
       " {nan},\n",
       " {nan},\n",
       " {nan},\n",
       " {nan},\n",
       " {nan},\n",
       " {nan},\n",
       " {nan},\n",
       " {nan},\n",
       " {nan},\n",
       " {nan},\n",
       " {nan},\n",
       " {nan},\n",
       " {nan},\n",
       " {nan},\n",
       " {nan},\n",
       " {nan},\n",
       " {nan},\n",
       " {nan},\n",
       " {nan},\n",
       " {nan},\n",
       " {nan},\n",
       " {nan},\n",
       " {nan},\n",
       " 0.8897997736930847,\n",
       " {nan},\n",
       " {nan},\n",
       " {nan},\n",
       " {nan},\n",
       " {nan},\n",
       " {nan},\n",
       " {nan},\n",
       " {nan},\n",
       " {nan},\n",
       " {nan},\n",
       " {nan},\n",
       " {nan},\n",
       " {nan},\n",
       " {nan},\n",
       " {nan},\n",
       " {nan},\n",
       " {nan},\n",
       " {nan},\n",
       " {nan},\n",
       " {nan},\n",
       " {nan},\n",
       " {nan},\n",
       " {nan},\n",
       " {nan},\n",
       " {nan},\n",
       " {nan},\n",
       " {nan},\n",
       " {nan},\n",
       " {nan},\n",
       " {nan},\n",
       " {nan},\n",
       " {nan},\n",
       " {nan},\n",
       " {nan},\n",
       " {nan},\n",
       " {nan},\n",
       " {nan},\n",
       " {nan},\n",
       " {nan},\n",
       " {nan},\n",
       " {nan},\n",
       " {nan},\n",
       " {nan},\n",
       " {nan},\n",
       " {nan},\n",
       " {nan},\n",
       " {nan},\n",
       " {nan},\n",
       " {nan},\n",
       " {nan},\n",
       " {nan},\n",
       " {nan},\n",
       " {nan},\n",
       " {nan},\n",
       " {nan},\n",
       " {nan},\n",
       " {nan},\n",
       " 0.7970747947692871,\n",
       " {nan},\n",
       " {nan},\n",
       " {nan},\n",
       " {nan},\n",
       " {nan},\n",
       " {nan},\n",
       " {nan},\n",
       " {nan},\n",
       " {nan},\n",
       " {nan},\n",
       " {nan},\n",
       " {nan},\n",
       " {nan},\n",
       " {nan},\n",
       " {nan},\n",
       " {nan},\n",
       " {nan},\n",
       " {nan},\n",
       " {nan},\n",
       " {nan},\n",
       " {nan},\n",
       " {nan},\n",
       " {nan},\n",
       " {nan},\n",
       " {nan},\n",
       " {nan},\n",
       " 0.6808651685714722,\n",
       " 0.6808651685714722,\n",
       " 0.6808651685714722,\n",
       " {nan},\n",
       " {nan},\n",
       " {nan},\n",
       " {nan},\n",
       " {nan},\n",
       " {nan},\n",
       " {nan},\n",
       " {nan},\n",
       " {nan},\n",
       " {nan},\n",
       " {nan},\n",
       " {nan},\n",
       " {nan},\n",
       " {nan},\n",
       " {nan},\n",
       " {nan},\n",
       " {nan},\n",
       " {nan},\n",
       " {nan},\n",
       " {nan},\n",
       " {nan},\n",
       " {nan},\n",
       " {nan},\n",
       " {nan},\n",
       " {nan},\n",
       " {nan},\n",
       " {nan},\n",
       " {nan},\n",
       " {nan},\n",
       " {nan},\n",
       " {nan},\n",
       " {nan},\n",
       " {nan},\n",
       " {nan},\n",
       " {nan},\n",
       " {nan},\n",
       " {nan},\n",
       " {nan},\n",
       " {nan},\n",
       " {nan},\n",
       " {nan},\n",
       " {nan},\n",
       " {nan},\n",
       " {nan},\n",
       " {nan},\n",
       " {nan},\n",
       " {nan},\n",
       " {nan},\n",
       " {nan},\n",
       " {nan},\n",
       " {nan},\n",
       " {nan},\n",
       " {nan},\n",
       " {nan},\n",
       " {nan},\n",
       " {nan},\n",
       " {nan},\n",
       " {nan},\n",
       " {nan},\n",
       " {nan},\n",
       " {nan},\n",
       " {nan},\n",
       " {nan},\n",
       " {nan},\n",
       " 0.8954653143882751,\n",
       " {nan},\n",
       " {nan},\n",
       " {nan},\n",
       " {nan},\n",
       " {nan},\n",
       " {nan},\n",
       " {nan},\n",
       " {nan},\n",
       " {nan},\n",
       " {nan},\n",
       " {nan},\n",
       " {nan},\n",
       " {nan},\n",
       " {nan},\n",
       " {nan},\n",
       " {nan},\n",
       " {nan},\n",
       " {nan},\n",
       " {nan},\n",
       " {nan},\n",
       " {nan},\n",
       " {nan},\n",
       " {nan},\n",
       " {nan},\n",
       " {nan},\n",
       " {nan},\n",
       " {nan},\n",
       " {nan},\n",
       " {nan},\n",
       " {nan},\n",
       " {nan},\n",
       " {nan},\n",
       " {nan},\n",
       " {nan},\n",
       " {nan},\n",
       " {nan},\n",
       " {nan},\n",
       " {nan},\n",
       " {nan},\n",
       " {nan},\n",
       " {nan},\n",
       " {nan},\n",
       " {nan},\n",
       " {nan},\n",
       " {nan},\n",
       " {nan},\n",
       " {nan},\n",
       " {nan},\n",
       " {nan},\n",
       " {nan},\n",
       " {nan},\n",
       " {nan},\n",
       " {nan},\n",
       " {nan},\n",
       " {nan},\n",
       " {nan},\n",
       " {nan},\n",
       " {nan},\n",
       " {nan},\n",
       " {nan},\n",
       " {nan},\n",
       " {nan},\n",
       " {nan},\n",
       " {nan},\n",
       " {nan},\n",
       " {nan},\n",
       " {nan},\n",
       " {nan},\n",
       " {nan},\n",
       " {nan},\n",
       " {nan},\n",
       " {nan},\n",
       " {nan},\n",
       " {nan},\n",
       " {nan},\n",
       " 0.6808651685714722,\n",
       " 0.6808651685714722,\n",
       " 0.6808651685714722,\n",
       " {nan},\n",
       " {nan},\n",
       " {nan},\n",
       " {nan},\n",
       " {nan},\n",
       " {nan},\n",
       " {nan},\n",
       " {nan},\n",
       " {nan},\n",
       " {nan},\n",
       " {nan},\n",
       " {nan},\n",
       " {nan},\n",
       " {nan},\n",
       " {nan},\n",
       " {nan},\n",
       " {nan},\n",
       " {nan},\n",
       " {nan},\n",
       " {nan},\n",
       " {nan},\n",
       " {nan},\n",
       " {nan},\n",
       " {nan},\n",
       " {nan},\n",
       " {nan},\n",
       " {nan},\n",
       " {nan},\n",
       " {nan},\n",
       " {nan},\n",
       " {nan},\n",
       " {nan},\n",
       " {nan},\n",
       " {nan},\n",
       " {nan},\n",
       " {nan},\n",
       " {nan},\n",
       " {nan},\n",
       " {nan},\n",
       " {nan},\n",
       " {nan},\n",
       " {nan},\n",
       " {nan},\n",
       " {nan},\n",
       " {nan},\n",
       " {nan},\n",
       " {nan},\n",
       " {nan},\n",
       " {nan},\n",
       " {nan},\n",
       " {nan},\n",
       " 0.6431508660316467,\n",
       " 0.6865760087966919,\n",
       " {nan},\n",
       " {nan},\n",
       " {nan},\n",
       " {nan},\n",
       " {nan},\n",
       " {nan},\n",
       " {nan},\n",
       " {nan},\n",
       " {nan},\n",
       " {nan},\n",
       " {nan},\n",
       " {nan},\n",
       " {nan},\n",
       " {nan},\n",
       " {nan},\n",
       " {nan},\n",
       " {nan},\n",
       " {nan},\n",
       " {nan},\n",
       " {nan},\n",
       " {nan},\n",
       " {nan},\n",
       " {nan},\n",
       " {nan},\n",
       " {nan},\n",
       " {nan},\n",
       " {nan},\n",
       " {nan},\n",
       " {nan},\n",
       " {nan},\n",
       " {nan},\n",
       " {nan},\n",
       " {nan},\n",
       " {nan},\n",
       " {nan},\n",
       " {nan},\n",
       " {nan},\n",
       " {nan},\n",
       " {nan},\n",
       " {nan},\n",
       " {nan},\n",
       " {nan},\n",
       " {nan},\n",
       " {nan},\n",
       " 0.5832093358039856,\n",
       " {nan},\n",
       " {nan},\n",
       " 0.7276767492294312,\n",
       " {nan},\n",
       " {nan},\n",
       " {nan},\n",
       " {nan},\n",
       " {nan},\n",
       " {nan},\n",
       " {nan},\n",
       " {nan},\n",
       " {nan},\n",
       " {nan},\n",
       " {nan},\n",
       " {nan},\n",
       " {nan},\n",
       " {nan},\n",
       " {nan},\n",
       " {nan},\n",
       " {nan},\n",
       " {nan},\n",
       " {nan},\n",
       " {nan},\n",
       " 0.6285190582275391,\n",
       " {nan},\n",
       " {nan},\n",
       " {nan},\n",
       " {nan},\n",
       " {nan},\n",
       " {nan},\n",
       " {nan},\n",
       " {nan},\n",
       " {nan},\n",
       " {nan},\n",
       " {nan},\n",
       " {nan},\n",
       " {nan},\n",
       " 0.9288070201873779,\n",
       " {nan},\n",
       " {nan},\n",
       " {nan},\n",
       " {nan},\n",
       " 0.6808651685714722,\n",
       " 0.6808651685714722,\n",
       " 0.6808651685714722,\n",
       " 0.8884600400924683,\n",
       " {nan},\n",
       " 0.5975234508514404,\n",
       " {nan},\n",
       " 0.8950618505477905,\n",
       " 0.7449089288711548,\n",
       " {nan},\n",
       " {nan},\n",
       " 0.9633854031562805,\n",
       " {nan},\n",
       " {nan},\n",
       " 0.9065163731575012,\n",
       " {nan},\n",
       " {nan},\n",
       " {nan},\n",
       " 0.5298088192939758,\n",
       " 0.5517551302909851,\n",
       " 0.8775188326835632,\n",
       " 0.8467154502868652,\n",
       " {nan},\n",
       " {nan},\n",
       " {nan},\n",
       " {nan},\n",
       " 0.9656006097793579,\n",
       " 0.9502691030502319,\n",
       " 0.7234207391738892,\n",
       " 0.9428907036781311,\n",
       " {nan},\n",
       " {nan},\n",
       " {nan},\n",
       " 0.8479666113853455,\n",
       " {nan},\n",
       " 0.8037084937095642,\n",
       " {nan},\n",
       " {nan},\n",
       " {nan},\n",
       " 0.7783739566802979,\n",
       " {nan},\n",
       " {nan},\n",
       " {nan},\n",
       " {nan},\n",
       " {nan},\n",
       " 0.6139714121818542,\n",
       " 0.538104236125946,\n",
       " {nan},\n",
       " 0.9405871033668518,\n",
       " 0.9396722316741943,\n",
       " 0.7976745963096619,\n",
       " {nan},\n",
       " {nan},\n",
       " {nan},\n",
       " 0.7728174924850464,\n",
       " 0.4987359344959259,\n",
       " {nan},\n",
       " 0.7189835906028748,\n",
       " {nan},\n",
       " 0.7882714867591858,\n",
       " 0.9483765959739685,\n",
       " 0.9178093671798706,\n",
       " 0.95716792345047,\n",
       " {nan},\n",
       " {nan},\n",
       " 0.9266799688339233,\n",
       " 0.5533807873725891,\n",
       " {nan},\n",
       " 0.6808651685714722,\n",
       " {nan},\n",
       " 0.9446759223937988,\n",
       " 0.974469780921936,\n",
       " 0.5956242680549622,\n",
       " {nan},\n",
       " {nan},\n",
       " 0.7839040756225586,\n",
       " 0.8358211517333984,\n",
       " 0.6808651685714722,\n",
       " {nan},\n",
       " 0.6808063983917236,\n",
       " {nan},\n",
       " {nan},\n",
       " 0.9773160815238953,\n",
       " {nan},\n",
       " 0.6808651685714722,\n",
       " {nan},\n",
       " 0.5819780826568604,\n",
       " 0.7648283243179321,\n",
       " 0.6777256727218628,\n",
       " {nan},\n",
       " {nan},\n",
       " 0.5956021547317505,\n",
       " 0.7147386074066162,\n",
       " {nan},\n",
       " {nan},\n",
       " 0.6785511374473572,\n",
       " 0.7434831261634827,\n",
       " {nan},\n",
       " 0.8001903891563416,\n",
       " {nan},\n",
       " {nan},\n",
       " {nan},\n",
       " {nan},\n",
       " {nan},\n",
       " 0.6217603087425232,\n",
       " {nan},\n",
       " {nan},\n",
       " {nan},\n",
       " 0.650232195854187,\n",
       " 0.635750949382782,\n",
       " 0.6422166228294373,\n",
       " {nan},\n",
       " 0.6820958852767944,\n",
       " {nan},\n",
       " {nan},\n",
       " 0.9565194845199585,\n",
       " 0.6052384376525879,\n",
       " 0.5760422945022583,\n",
       " 0.9664465188980103,\n",
       " 0.694579005241394,\n",
       " {nan},\n",
       " 0.6016619801521301,\n",
       " {nan},\n",
       " {nan},\n",
       " {nan},\n",
       " {nan},\n",
       " {nan},\n",
       " 0.579953134059906,\n",
       " 0.9458916783332825,\n",
       " 0.6161103248596191,\n",
       " 0.5428627133369446,\n",
       " {nan},\n",
       " 0.5168986916542053,\n",
       " 0.5453054308891296,\n",
       " 0.6596056222915649,\n",
       " {nan},\n",
       " {nan},\n",
       " 0.6579688191413879,\n",
       " {nan},\n",
       " 0.612285852432251,\n",
       " 0.816350519657135,\n",
       " 0.8138667345046997,\n",
       " {nan},\n",
       " 0.6808651685714722,\n",
       " ...]"
      ]
     },
     "execution_count": 56,
     "metadata": {},
     "output_type": "execute_result"
    }
   ],
   "source": [
    "tweets_3"
   ]
  },
  {
   "cell_type": "code",
   "execution_count": 55,
   "id": "7f094df3",
   "metadata": {},
   "outputs": [
    {
     "ename": "TypeError",
     "evalue": "'<' not supported between instances of 'set' and 'float'",
     "output_type": "error",
     "traceback": [
      "\u001b[0;31m---------------------------------------------------------------------------\u001b[0m",
      "\u001b[0;31mTypeError\u001b[0m                                 Traceback (most recent call last)",
      "\u001b[0;32m/var/folders/qq/qvd9bqkj5n519mqym_bxjblc0000gn/T/ipykernel_27271/2960074096.py\u001b[0m in \u001b[0;36m<module>\u001b[0;34m\u001b[0m\n\u001b[0;32m----> 1\u001b[0;31m \u001b[0mprint\u001b[0m\u001b[0;34m(\u001b[0m\u001b[0mmin\u001b[0m\u001b[0;34m(\u001b[0m\u001b[0mtweets_3\u001b[0m\u001b[0;34m)\u001b[0m\u001b[0;34m)\u001b[0m\u001b[0;34m\u001b[0m\u001b[0;34m\u001b[0m\u001b[0m\n\u001b[0m\u001b[1;32m      2\u001b[0m \u001b[0mprint\u001b[0m\u001b[0;34m(\u001b[0m\u001b[0mmax\u001b[0m\u001b[0;34m(\u001b[0m\u001b[0mtweets_3\u001b[0m\u001b[0;34m)\u001b[0m\u001b[0;34m)\u001b[0m\u001b[0;34m\u001b[0m\u001b[0;34m\u001b[0m\u001b[0m\n\u001b[1;32m      3\u001b[0m \u001b[0mprint\u001b[0m\u001b[0;34m(\u001b[0m\u001b[0mnp\u001b[0m\u001b[0;34m.\u001b[0m\u001b[0mmean\u001b[0m\u001b[0;34m(\u001b[0m\u001b[0mtweets_3\u001b[0m\u001b[0;34m)\u001b[0m\u001b[0;34m)\u001b[0m\u001b[0;34m\u001b[0m\u001b[0;34m\u001b[0m\u001b[0m\n",
      "\u001b[0;31mTypeError\u001b[0m: '<' not supported between instances of 'set' and 'float'"
     ]
    }
   ],
   "source": [
    "print(min(tweets_3))\n",
    "print(max(tweets_3))\n",
    "print(np.mean(tweets_3))"
   ]
  },
  {
   "cell_type": "code",
   "execution_count": 364,
   "id": "86123cdf",
   "metadata": {
    "scrolled": true
   },
   "outputs": [],
   "source": [
    "sent_roberta = pd.DataFrame(tweets_3)\n",
    "finaldf_new3 = pd.concat([finaldf_new2,sent_roberta],axis=1,join='outer')\n",
    "# finaldf_new3.head()"
   ]
  },
  {
   "cell_type": "code",
   "execution_count": 271,
   "id": "6361100a",
   "metadata": {},
   "outputs": [],
   "source": [
    "finaldf_new3.to_csv('final_sentment.csv',index=None)"
   ]
  },
  {
   "cell_type": "markdown",
   "id": "9ddfed7c",
   "metadata": {},
   "source": [
    "## 4.5 reg with sentiment scores"
   ]
  },
  {
   "cell_type": "code",
   "execution_count": 274,
   "id": "faac1acc",
   "metadata": {},
   "outputs": [
    {
     "data": {
      "text/plain": [
       "Index(['Date', 'text', 'sum', 'postornot', 'relatedornot', 'index', 'Date.1',\n",
       "       'Open', 'High', 'Low', 'Close', 'Adj Close', 'Volume', 'return',\n",
       "       'go up or down', 'Return', 'text_clean', 'sentiment_score',\n",
       "       'length_sentence', 'sentiment_score_normalized', 'label_bert',\n",
       "       'score_bert', 'label_distilbert', 'score_distilbert', 'label_roberta',\n",
       "       'score_roberta'],\n",
       "      dtype='object')"
      ]
     },
     "execution_count": 274,
     "metadata": {},
     "output_type": "execute_result"
    }
   ],
   "source": [
    "finaldf_new3.columns"
   ]
  },
  {
   "cell_type": "code",
   "execution_count": 352,
   "id": "a912a67c",
   "metadata": {},
   "outputs": [
    {
     "data": {
      "text/html": [
       "<table class=\"simpletable\">\n",
       "<tr>\n",
       "               <td></td>                 <th>coef</th>     <th>std err</th>      <th>t</th>      <th>P>|t|</th>  <th>[0.025</th>    <th>0.975]</th>  \n",
       "</tr>\n",
       "<tr>\n",
       "  <th>Intercept</th>                  <td>   -0.0012</td> <td>    0.005</td> <td>   -0.230</td> <td> 0.818</td> <td>   -0.011</td> <td>    0.009</td>\n",
       "</tr>\n",
       "<tr>\n",
       "  <th>sentiment_score_normalized</th> <td>   -0.0191</td> <td>    0.033</td> <td>   -0.581</td> <td> 0.562</td> <td>   -0.084</td> <td>    0.046</td>\n",
       "</tr>\n",
       "</table>"
      ],
      "text/plain": [
       "<class 'statsmodels.iolib.table.SimpleTable'>"
      ]
     },
     "execution_count": 352,
     "metadata": {},
     "output_type": "execute_result"
    }
   ],
   "source": [
    "est_mod_sa11 = ols('Return~sentiment_score_normalized',data=finaldf_new3).fit()\n",
    "est_mod_sa11.summary().tables[1]"
   ]
  },
  {
   "cell_type": "code",
   "execution_count": 351,
   "id": "3e7901b3",
   "metadata": {},
   "outputs": [
    {
     "data": {
      "text/html": [
       "<table class=\"simpletable\">\n",
       "<tr>\n",
       "               <td></td>                 <th>coef</th>     <th>std err</th>      <th>t</th>      <th>P>|t|</th>  <th>[0.025</th>    <th>0.975]</th>  \n",
       "</tr>\n",
       "<tr>\n",
       "  <th>Intercept</th>                  <td>    0.0755</td> <td>    0.001</td> <td>   51.041</td> <td> 0.000</td> <td>    0.073</td> <td>    0.078</td>\n",
       "</tr>\n",
       "<tr>\n",
       "  <th>sentiment_score_normalized</th> <td>   -0.0083</td> <td>    0.009</td> <td>   -0.888</td> <td> 0.376</td> <td>   -0.027</td> <td>    0.010</td>\n",
       "</tr>\n",
       "</table>"
      ],
      "text/plain": [
       "<class 'statsmodels.iolib.table.SimpleTable'>"
      ]
     },
     "execution_count": 351,
     "metadata": {},
     "output_type": "execute_result"
    }
   ],
   "source": [
    "est_mod_sa12 = ols('Close~sentiment_score_normalized',data=finaldf_new3).fit()\n",
    "est_mod_sa12.summary().tables[1]"
   ]
  },
  {
   "cell_type": "code",
   "execution_count": 350,
   "id": "8738a4d5",
   "metadata": {},
   "outputs": [
    {
     "data": {
      "text/html": [
       "<table class=\"simpletable\">\n",
       "<tr>\n",
       "       <td></td>         <th>coef</th>     <th>std err</th>      <th>t</th>      <th>P>|t|</th>  <th>[0.025</th>    <th>0.975]</th>  \n",
       "</tr>\n",
       "<tr>\n",
       "  <th>Intercept</th>  <td>    0.0033</td> <td>    0.009</td> <td>    0.346</td> <td> 0.730</td> <td>   -0.015</td> <td>    0.022</td>\n",
       "</tr>\n",
       "<tr>\n",
       "  <th>score_bert</th> <td>   -0.0175</td> <td>    0.025</td> <td>   -0.706</td> <td> 0.481</td> <td>   -0.067</td> <td>    0.031</td>\n",
       "</tr>\n",
       "</table>"
      ],
      "text/plain": [
       "<class 'statsmodels.iolib.table.SimpleTable'>"
      ]
     },
     "execution_count": 350,
     "metadata": {},
     "output_type": "execute_result"
    }
   ],
   "source": [
    "est_mod_sa21 = ols('Return~score_bert',data=finaldf_new3).fit()\n",
    "est_mod_sa21.summary().tables[1]"
   ]
  },
  {
   "cell_type": "code",
   "execution_count": 353,
   "id": "c46f8a04",
   "metadata": {},
   "outputs": [
    {
     "data": {
      "text/html": [
       "<table class=\"simpletable\">\n",
       "<tr>\n",
       "       <td></td>         <th>coef</th>     <th>std err</th>      <th>t</th>      <th>P>|t|</th>  <th>[0.025</th>    <th>0.975]</th>  \n",
       "</tr>\n",
       "<tr>\n",
       "  <th>Intercept</th>  <td>    0.0764</td> <td>    0.003</td> <td>   28.307</td> <td> 0.000</td> <td>    0.071</td> <td>    0.082</td>\n",
       "</tr>\n",
       "<tr>\n",
       "  <th>score_bert</th> <td>   -0.0045</td> <td>    0.007</td> <td>   -0.638</td> <td> 0.525</td> <td>   -0.019</td> <td>    0.009</td>\n",
       "</tr>\n",
       "</table>"
      ],
      "text/plain": [
       "<class 'statsmodels.iolib.table.SimpleTable'>"
      ]
     },
     "execution_count": 353,
     "metadata": {},
     "output_type": "execute_result"
    }
   ],
   "source": [
    "est_mod_sa22 = ols('Close~score_bert',data=finaldf_new3).fit()\n",
    "est_mod_sa22.summary().tables[1]"
   ]
  },
  {
   "cell_type": "code",
   "execution_count": 354,
   "id": "65171246",
   "metadata": {},
   "outputs": [
    {
     "data": {
      "text/html": [
       "<table class=\"simpletable\">\n",
       "<tr>\n",
       "          <td></td>            <th>coef</th>     <th>std err</th>      <th>t</th>      <th>P>|t|</th>  <th>[0.025</th>    <th>0.975]</th>  \n",
       "</tr>\n",
       "<tr>\n",
       "  <th>Intercept</th>        <td>    0.0023</td> <td>    0.012</td> <td>    0.188</td> <td> 0.851</td> <td>   -0.021</td> <td>    0.026</td>\n",
       "</tr>\n",
       "<tr>\n",
       "  <th>score_distilbert</th> <td>   -0.0059</td> <td>    0.014</td> <td>   -0.435</td> <td> 0.664</td> <td>   -0.033</td> <td>    0.021</td>\n",
       "</tr>\n",
       "</table>"
      ],
      "text/plain": [
       "<class 'statsmodels.iolib.table.SimpleTable'>"
      ]
     },
     "execution_count": 354,
     "metadata": {},
     "output_type": "execute_result"
    }
   ],
   "source": [
    "est_mod_sa31 = ols('Return~score_distilbert',data=finaldf_new3).fit()\n",
    "est_mod_sa31.summary().tables[1]"
   ]
  },
  {
   "cell_type": "code",
   "execution_count": 355,
   "id": "8993f0d9",
   "metadata": {},
   "outputs": [
    {
     "data": {
      "text/html": [
       "<table class=\"simpletable\">\n",
       "<tr>\n",
       "          <td></td>            <th>coef</th>     <th>std err</th>      <th>t</th>      <th>P>|t|</th>  <th>[0.025</th>    <th>0.975]</th>  \n",
       "</tr>\n",
       "<tr>\n",
       "  <th>Intercept</th>        <td>    0.0803</td> <td>    0.003</td> <td>   23.711</td> <td> 0.000</td> <td>    0.074</td> <td>    0.087</td>\n",
       "</tr>\n",
       "<tr>\n",
       "  <th>score_distilbert</th> <td>   -0.0066</td> <td>    0.004</td> <td>   -1.726</td> <td> 0.086</td> <td>   -0.014</td> <td>    0.001</td>\n",
       "</tr>\n",
       "</table>"
      ],
      "text/plain": [
       "<class 'statsmodels.iolib.table.SimpleTable'>"
      ]
     },
     "execution_count": 355,
     "metadata": {},
     "output_type": "execute_result"
    }
   ],
   "source": [
    "est_mod_sa32 = ols('Close~score_distilbert',data=finaldf_new3).fit()\n",
    "est_mod_sa32.summary().tables[1]"
   ]
  },
  {
   "cell_type": "code",
   "execution_count": 356,
   "id": "1d3fbeab",
   "metadata": {},
   "outputs": [
    {
     "data": {
      "text/html": [
       "<table class=\"simpletable\">\n",
       "<tr>\n",
       "        <td></td>           <th>coef</th>     <th>std err</th>      <th>t</th>      <th>P>|t|</th>  <th>[0.025</th>    <th>0.975]</th>  \n",
       "</tr>\n",
       "<tr>\n",
       "  <th>Intercept</th>     <td>    0.0061</td> <td>    0.009</td> <td>    0.661</td> <td> 0.510</td> <td>   -0.012</td> <td>    0.024</td>\n",
       "</tr>\n",
       "<tr>\n",
       "  <th>score_roberta</th> <td>   -0.0152</td> <td>    0.014</td> <td>   -1.078</td> <td> 0.282</td> <td>   -0.043</td> <td>    0.013</td>\n",
       "</tr>\n",
       "</table>"
      ],
      "text/plain": [
       "<class 'statsmodels.iolib.table.SimpleTable'>"
      ]
     },
     "execution_count": 356,
     "metadata": {},
     "output_type": "execute_result"
    }
   ],
   "source": [
    "est_mod_sa41 = ols('Return~score_roberta',data=finaldf_new3).fit()\n",
    "est_mod_sa41.summary().tables[1]"
   ]
  },
  {
   "cell_type": "code",
   "execution_count": 357,
   "id": "8e158944",
   "metadata": {},
   "outputs": [
    {
     "data": {
      "text/html": [
       "<table class=\"simpletable\">\n",
       "<tr>\n",
       "        <td></td>           <th>coef</th>     <th>std err</th>      <th>t</th>      <th>P>|t|</th>  <th>[0.025</th>    <th>0.975]</th>  \n",
       "</tr>\n",
       "<tr>\n",
       "  <th>Intercept</th>     <td>    0.0830</td> <td>    0.003</td> <td>   32.454</td> <td> 0.000</td> <td>    0.078</td> <td>    0.088</td>\n",
       "</tr>\n",
       "<tr>\n",
       "  <th>score_roberta</th> <td>   -0.0143</td> <td>    0.004</td> <td>   -3.663</td> <td> 0.000</td> <td>   -0.022</td> <td>   -0.007</td>\n",
       "</tr>\n",
       "</table>"
      ],
      "text/plain": [
       "<class 'statsmodels.iolib.table.SimpleTable'>"
      ]
     },
     "execution_count": 357,
     "metadata": {},
     "output_type": "execute_result"
    }
   ],
   "source": [
    "est_mod_sa42 = ols('Close~score_roberta',data=finaldf_new3).fit()\n",
    "est_mod_sa42.summary().tables[1]"
   ]
  },
  {
   "cell_type": "code",
   "execution_count": 363,
   "id": "c88c3810",
   "metadata": {},
   "outputs": [],
   "source": [
    "stargazer = Stargazer([est_mod_sa22,est_mod_sa32,est_mod_sa42,est_mod_sa12])\n",
    "stargazer.title('OLS Regression with Price')\n",
    "stargazer.dependent_variable_name('Dependent Variable')\n",
    "# stargazer"
   ]
  },
  {
   "cell_type": "code",
   "execution_count": 362,
   "id": "b380186c",
   "metadata": {
    "scrolled": true
   },
   "outputs": [],
   "source": [
    "# print(stargazer.render_latex())"
   ]
  },
  {
   "cell_type": "code",
   "execution_count": 361,
   "id": "6e149baf",
   "metadata": {},
   "outputs": [],
   "source": [
    "stargazer = Stargazer([est_mod_sa21,est_mod_sa31,est_mod_sa41,est_mod_sa11])\n",
    "stargazer.title('OLS Regression with Daily Return(sentiment)')\n",
    "stargazer.dependent_variable_name('Dependent Variable')\n",
    "# print(stargazer.render_latex())"
   ]
  },
  {
   "cell_type": "markdown",
   "id": "76cc0437",
   "metadata": {},
   "source": [
    "## 4.6 another method: supervised machine learning (self trainning sentiment classifiers)"
   ]
  },
  {
   "cell_type": "code",
   "execution_count": 10,
   "id": "25bca5db",
   "metadata": {},
   "outputs": [],
   "source": [
    "Elon = pd.read_csv('Elon.csv')"
   ]
  },
  {
   "cell_type": "code",
   "execution_count": 12,
   "id": "82eed27e",
   "metadata": {},
   "outputs": [
    {
     "data": {
      "text/plain": [
       "(3193, 4)"
      ]
     },
     "execution_count": 12,
     "metadata": {},
     "output_type": "execute_result"
    }
   ],
   "source": [
    "Elon.shape"
   ]
  },
  {
   "cell_type": "code",
   "execution_count": 15,
   "id": "a89e0259",
   "metadata": {},
   "outputs": [],
   "source": [
    "#Importing the data\n",
    "unlabled_data,tobelabled_data = train_test_split(Elon, test_size=0.2, random_state=42)"
   ]
  },
  {
   "cell_type": "code",
   "execution_count": 16,
   "id": "c8f0558c",
   "metadata": {},
   "outputs": [
    {
     "data": {
      "text/plain": [
       "(639, 4)"
      ]
     },
     "execution_count": 16,
     "metadata": {},
     "output_type": "execute_result"
    }
   ],
   "source": [
    "tobelabled_data.shape"
   ]
  },
  {
   "cell_type": "code",
   "execution_count": 17,
   "id": "9f94121b",
   "metadata": {},
   "outputs": [
    {
     "data": {
      "text/plain": [
       "(2554, 4)"
      ]
     },
     "execution_count": 17,
     "metadata": {},
     "output_type": "execute_result"
    }
   ],
   "source": [
    "unlabled_data.shape"
   ]
  },
  {
   "cell_type": "code",
   "execution_count": 18,
   "id": "e5442e5e",
   "metadata": {},
   "outputs": [],
   "source": [
    "tobelabled_data.to_csv('tobelabled_data.csv')"
   ]
  },
  {
   "cell_type": "code",
   "execution_count": 186,
   "id": "9da40be9",
   "metadata": {},
   "outputs": [],
   "source": [
    "# After manually labeling\n",
    "tobelabled_data = pd.read_csv('tobelabled_data.csv', index_col=0)\n",
    "# tobelabled_data.head(2)"
   ]
  },
  {
   "cell_type": "code",
   "execution_count": 39,
   "id": "4d500398",
   "metadata": {},
   "outputs": [
    {
     "data": {
      "text/plain": [
       "numpy.int64"
      ]
     },
     "execution_count": 39,
     "metadata": {},
     "output_type": "execute_result"
    }
   ],
   "source": [
    "type(tobelabled_data.sentiment[0])"
   ]
  },
  {
   "cell_type": "code",
   "execution_count": 40,
   "id": "da66fcb4",
   "metadata": {},
   "outputs": [
    {
     "data": {
      "text/plain": [
       "1    334\n",
       "2    195\n",
       "0    110\n",
       "Name: sentiment, dtype: int64"
      ]
     },
     "execution_count": 40,
     "metadata": {},
     "output_type": "execute_result"
    }
   ],
   "source": [
    "tobelabled_data.sentiment.value_counts()"
   ]
  },
  {
   "cell_type": "code",
   "execution_count": 41,
   "id": "1a3f35ec",
   "metadata": {},
   "outputs": [],
   "source": [
    "x_train, x_test, y_train, y_test = train_test_split(tobelabled_data['text'], tobelabled_data['sentiment'], test_size=0.2, random_state=42)"
   ]
  },
  {
   "cell_type": "code",
   "execution_count": 42,
   "id": "399f7b35",
   "metadata": {},
   "outputs": [],
   "source": [
    "train_corpus = [x for x in x_train]\n",
    "train_labels = [x for x in y_train]"
   ]
  },
  {
   "cell_type": "code",
   "execution_count": 43,
   "id": "87babfe3",
   "metadata": {},
   "outputs": [
    {
     "data": {
      "text/plain": [
       "511"
      ]
     },
     "execution_count": 43,
     "metadata": {},
     "output_type": "execute_result"
    }
   ],
   "source": [
    "len(train_labels)"
   ]
  },
  {
   "cell_type": "code",
   "execution_count": 44,
   "id": "6a4e6fa9",
   "metadata": {},
   "outputs": [
    {
     "data": {
      "text/plain": [
       "Counter({1: 266, 2: 159, 0: 86})"
      ]
     },
     "execution_count": 44,
     "metadata": {},
     "output_type": "execute_result"
    }
   ],
   "source": [
    "Counter(train_labels)"
   ]
  },
  {
   "cell_type": "code",
   "execution_count": 45,
   "id": "d2cb4393",
   "metadata": {},
   "outputs": [],
   "source": [
    "test_corpus = [x for x in x_test]\n",
    "test_labels = [x for x in y_test]"
   ]
  },
  {
   "cell_type": "code",
   "execution_count": 46,
   "id": "42f6069a",
   "metadata": {},
   "outputs": [
    {
     "data": {
      "text/plain": [
       "128"
      ]
     },
     "execution_count": 46,
     "metadata": {},
     "output_type": "execute_result"
    }
   ],
   "source": [
    "len(test_labels)"
   ]
  },
  {
   "cell_type": "code",
   "execution_count": 47,
   "id": "39862ac1",
   "metadata": {},
   "outputs": [
    {
     "data": {
      "text/plain": [
       "Counter({1: 68, 0: 24, 2: 36})"
      ]
     },
     "execution_count": 47,
     "metadata": {},
     "output_type": "execute_result"
    }
   ],
   "source": [
    "Counter(test_labels)"
   ]
  },
  {
   "cell_type": "code",
   "execution_count": 48,
   "id": "bd72be56",
   "metadata": {},
   "outputs": [],
   "source": [
    "# vectorizing the training part of the corpus\n",
    "vectorizer = TfidfVectorizer() # the default ngram range is (1,1)\n",
    "\n",
    "train_features = vectorizer.fit_transform(train_corpus)\n",
    "feature_names = vectorizer.get_feature_names()\n",
    "sparse_array = train_features.toarray()"
   ]
  },
  {
   "cell_type": "code",
   "execution_count": 49,
   "id": "51fa5276",
   "metadata": {},
   "outputs": [],
   "source": [
    "test_features = vectorizer.transform(test_corpus)"
   ]
  },
  {
   "cell_type": "code",
   "execution_count": 50,
   "id": "9eb429be",
   "metadata": {},
   "outputs": [
    {
     "name": "stdout",
     "output_type": "stream",
     "text": [
      "Accuracy for LR with default parameters: 0.578125\n",
      "Precision for LR with default parameters:0.5330393885949442\n",
      "Recall for LR with default parameters:0.48638344226579516\n"
     ]
    }
   ],
   "source": [
    "# Create logistic regression object\n",
    "lr = LogisticRegression(max_iter=1500, C=20, penalty=\"l2\")\n",
    "\n",
    "# Train the model using the training sets\n",
    "lr.fit(train_features, train_labels)\n",
    "\n",
    "# Make predictions using the testing set\n",
    "test_pred = lr.predict(test_features)\n",
    "\n",
    "# compare the predictions to the gold labels\n",
    "print(\"Accuracy for LR with default parameters:\", accuracy_score(test_labels, test_pred))\n",
    "print('Precision for LR with default parameters:'+str(precision_score(test_labels, test_pred,average='macro')))\n",
    "print('Recall for LR with default parameters:'+str(recall_score(test_labels, test_pred,average='macro')))"
   ]
  },
  {
   "cell_type": "code",
   "execution_count": 51,
   "id": "6b852d34",
   "metadata": {},
   "outputs": [
    {
     "name": "stdout",
     "output_type": "stream",
     "text": [
      "[0.1, 0.2, 0.3, 0.4, 0.5, 0.6, 0.7, 0.8, 0.9, 1.0]\n"
     ]
    }
   ],
   "source": [
    "# defining the incremental 10% splits for the learning curve\n",
    "train_sizes = list(np.arange(0.1,1.1,0.1).round(1))\n",
    "print(train_sizes)\n",
    "\n",
    "# getting the data for the learning curve:\n",
    "# logistic regression with 5-fold cross-validation over training data\n",
    "train_sizes, train_scores, cv_scores = learning_curve(estimator = LogisticRegression(max_iter=1500,C=20,penalty='l2'),\n",
    "                                                      X=train_features, \n",
    "                                                      y=train_labels,\n",
    "                                                      train_sizes =train_sizes, # the train sizes we have defined above\n",
    "                                                      cv=5,\n",
    "                                                      n_jobs = -1) # 5-fold cross-validation"
   ]
  },
  {
   "cell_type": "code",
   "execution_count": 52,
   "id": "7fb5823f",
   "metadata": {},
   "outputs": [],
   "source": [
    "def plot_curve(train_scores, val_scores):\n",
    "    \"\"\"A helper function to plot the train scores array\n",
    "    against the validation scores\"\"\"\n",
    "\n",
    "    # Calculate the values to plot\n",
    "\n",
    "    train_mean = np.mean(train_scores, axis=1)\n",
    "    train_std = np.std(train_scores, axis=1)\n",
    "    val_mean = np.mean(val_scores, axis=1)\n",
    "    val_std = np.std(val_scores, axis=1)\n",
    "\n",
    "    # Plot the learning and cross-validation curve\n",
    "\n",
    "    plt.rcParams['font.size'] = '16'\n",
    "    fig, ax = plt.subplots( figsize=(10,6) )\n",
    "    plt.xlim([10,400])\n",
    "    plt.ylim([0.4, 1.2])\n",
    "    plt.plot(train_sizes, train_mean, color='red', marker='o', markersize=5, label='Training Accuracy')\n",
    "    plt.fill_between(train_sizes, train_mean + train_std, train_mean - train_std, alpha=0.15, color='red')\n",
    "    plt.plot(train_sizes, val_mean, color='green', marker='+', markersize=5, linestyle='--', label='Validation Accuracy')\n",
    "    plt.fill_between(train_sizes, val_mean + val_std, val_mean - val_std, alpha=0.15, color='green')\n",
    "    plt.title('Learning Curve (Logistic Regression)')\n",
    "    plt.xlabel('Training Data Size')\n",
    "    plt.ylabel('Model accuracy')\n",
    "    plt.grid()\n",
    "    plt.legend(loc='lower right')"
   ]
  },
  {
   "cell_type": "code",
   "execution_count": 53,
   "id": "b8af037f",
   "metadata": {},
   "outputs": [
    {
     "data": {
      "image/png": "[encoded data removed]",
      "text/plain": [
       "<Figure size 720x432 with 1 Axes>"
      ]
     },
     "metadata": {},
     "output_type": "display_data"
    }
   ],
   "source": [
    "#plotting the results for cross-validation\n",
    "plot_curve(train_scores, cv_scores)\n",
    "plt.savefig('the learning curve_LG.png', format='png')"
   ]
  },
  {
   "cell_type": "code",
   "execution_count": 54,
   "id": "c5e44c21",
   "metadata": {},
   "outputs": [
    {
     "name": "stdout",
     "output_type": "stream",
     "text": [
      "Accuracy for SVM with default parameters: 0.578125\n",
      "Precision for SVM with default parameters:0.5330393885949442\n",
      "Recall for SVM with default parameters:0.48638344226579516\n"
     ]
    }
   ],
   "source": [
    "# default LinearSVC\n",
    "linSVC = LinearSVC()\n",
    "linSVC.fit(train_features, train_labels)\n",
    "linSVC_test_pred = linSVC.predict(test_features)\n",
    "print(\"Accuracy for SVM with default parameters:\", accuracy_score(test_labels, linSVC_test_pred))\n",
    "print('Precision for SVM with default parameters:'+str(precision_score(test_labels, linSVC_test_pred,average='macro')))\n",
    "print('Recall for SVM with default parameters:'+str(recall_score(test_labels, linSVC_test_pred,average='macro')))"
   ]
  },
  {
   "cell_type": "code",
   "execution_count": 55,
   "id": "774eaf8f",
   "metadata": {},
   "outputs": [
    {
     "name": "stdout",
     "output_type": "stream",
     "text": [
      "[0.1, 0.2, 0.3, 0.4, 0.5, 0.6, 0.7, 0.8, 0.9, 1.0]\n"
     ]
    }
   ],
   "source": [
    "# defining the incremental 10% splits for the learning curve\n",
    "train_sizes = list(np.arange(0.1,1.1,0.1).round(1))\n",
    "print(train_sizes)\n",
    "\n",
    "# getting the data for the learning curve:\n",
    "# logistic regression with 5-fold cross-validation over training data\n",
    "train_sizes, train_scores, cv_scores = learning_curve(estimator = LinearSVC(),\n",
    "                                                      X=train_features, \n",
    "                                                      y=train_labels,\n",
    "                                                      train_sizes =train_sizes, # the train sizes we have defined above\n",
    "                                                      cv=5,\n",
    "                                                      n_jobs = -1) # 5-fold cross-validation"
   ]
  },
  {
   "cell_type": "code",
   "execution_count": 56,
   "id": "d114c5ca",
   "metadata": {},
   "outputs": [],
   "source": [
    "def plot_curve(train_scores, val_scores):\n",
    "    \"\"\"A helper function to plot the train scores array\n",
    "    against the validation scores\"\"\"\n",
    "\n",
    "    # Calculate the values to plot\n",
    "\n",
    "    train_mean = np.mean(train_scores, axis=1)\n",
    "    train_std = np.std(train_scores, axis=1)\n",
    "    val_mean = np.mean(val_scores, axis=1)\n",
    "    val_std = np.std(val_scores, axis=1)\n",
    "\n",
    "    # Plot the learning and cross-validation curve\n",
    "\n",
    "    plt.rcParams['font.size'] = '16'\n",
    "    fig, ax = plt.subplots( figsize=(10,6) )\n",
    "    plt.xlim([10,400])\n",
    "    plt.ylim([0.4, 1.2])\n",
    "    plt.plot(train_sizes, train_mean, color='red', marker='o', markersize=5, label='Training Accuracy')\n",
    "    plt.fill_between(train_sizes, train_mean + train_std, train_mean - train_std, alpha=0.15, color='red')\n",
    "    plt.plot(train_sizes, val_mean, color='green', marker='+', markersize=5, linestyle='--', label='Validation Accuracy')\n",
    "    plt.fill_between(train_sizes, val_mean + val_std, val_mean - val_std, alpha=0.15, color='green')\n",
    "    plt.title('Learning Curve (Support vector machine)')\n",
    "    plt.xlabel('Training Data Size')\n",
    "    plt.ylabel('Model accuracy')\n",
    "    plt.grid()\n",
    "    plt.legend(loc='lower right')"
   ]
  },
  {
   "cell_type": "code",
   "execution_count": 57,
   "id": "d9e93852",
   "metadata": {},
   "outputs": [
    {
     "data": {
      "image/png": "[encoded data removed]",
      "text/plain": [
       "<Figure size 720x432 with 1 Axes>"
      ]
     },
     "metadata": {},
     "output_type": "display_data"
    }
   ],
   "source": [
    "#plotting the results for cross-validation\n",
    "plot_curve(train_scores, cv_scores)\n",
    "plt.savefig('the learning curve_SVM.png', format='png')"
   ]
  },
  {
   "cell_type": "code",
   "execution_count": 58,
   "id": "2f20a410",
   "metadata": {},
   "outputs": [
    {
     "name": "stdout",
     "output_type": "stream",
     "text": [
      "Accuracy for Naive Bayes with default parameters: 0.5703125\n",
      "Precision for Naive Bayes with default parameters::0.4001554001554002\n",
      "Recall for Naive Bayes with default parameters:0.3883442265795207\n"
     ]
    },
    {
     "name": "stderr",
     "output_type": "stream",
     "text": [
      "/Users/buluo/anaconda3/lib/python3.7/site-packages/sklearn/metrics/_classification.py:1248: UndefinedMetricWarning: Precision is ill-defined and being set to 0.0 in labels with no predicted samples. Use `zero_division` parameter to control this behavior.\n",
      "  _warn_prf(average, modifier, msg_start, len(result))\n"
     ]
    }
   ],
   "source": [
    "nb = MultinomialNB(alpha=1.0)\n",
    "nb.fit(train_features, train_labels)\n",
    "nb_test_pred = nb.predict(test_features)\n",
    "print(\"Accuracy for Naive Bayes with default parameters:\", accuracy_score(test_labels, nb_test_pred))\n",
    "print('Precision for Naive Bayes with default parameters::'+str(precision_score(test_labels, nb_test_pred,average='macro')))\n",
    "print('Recall for Naive Bayes with default parameters:'+str(recall_score(test_labels, nb_test_pred,average='macro')))"
   ]
  },
  {
   "cell_type": "code",
   "execution_count": 59,
   "id": "c90875b5",
   "metadata": {},
   "outputs": [
    {
     "name": "stdout",
     "output_type": "stream",
     "text": [
      "[0.1, 0.2, 0.3, 0.4, 0.5, 0.6, 0.7, 0.8, 0.9, 1.0]\n"
     ]
    }
   ],
   "source": [
    "# defining the incremental 10% splits for the learning curve\n",
    "train_sizes = list(np.arange(0.1,1.1,0.1).round(1))\n",
    "print(train_sizes)\n",
    "\n",
    "# getting the data for the learning curve:\n",
    "# logistic regression with 5-fold cross-validation over training data\n",
    "train_sizes, train_scores, cv_scores = learning_curve(estimator = MultinomialNB(),\n",
    "                                                      X=train_features, \n",
    "                                                      y=train_labels,\n",
    "                                                      train_sizes =train_sizes, # the train sizes we have defined above\n",
    "                                                      cv=5,\n",
    "                                                      n_jobs = -1) # 5-fold cross-validation"
   ]
  },
  {
   "cell_type": "code",
   "execution_count": 60,
   "id": "211f5818",
   "metadata": {},
   "outputs": [],
   "source": [
    "def plot_curve(train_scores, val_scores):\n",
    "    \"\"\"A helper function to plot the train scores array\n",
    "    against the validation scores\"\"\"\n",
    "\n",
    "    # Calculate the values to plot\n",
    "\n",
    "    train_mean = np.mean(train_scores, axis=1)\n",
    "    train_std = np.std(train_scores, axis=1)\n",
    "    val_mean = np.mean(val_scores, axis=1)\n",
    "    val_std = np.std(val_scores, axis=1)\n",
    "\n",
    "    # Plot the learning and cross-validation curve\n",
    "\n",
    "    plt.rcParams['font.size'] = '16'\n",
    "    fig, ax = plt.subplots( figsize=(10,6) )\n",
    "    plt.xlim([10,400])\n",
    "    plt.ylim([0.4, 1.2])\n",
    "    plt.plot(train_sizes, train_mean, color='red', marker='o', markersize=5, label='Training Accuracy')\n",
    "    plt.fill_between(train_sizes, train_mean + train_std, train_mean - train_std, alpha=0.15, color='red')\n",
    "    plt.plot(train_sizes, val_mean, color='green', marker='+', markersize=5, linestyle='--', label='Validation Accuracy')\n",
    "    plt.fill_between(train_sizes, val_mean + val_std, val_mean - val_std, alpha=0.15, color='green')\n",
    "    plt.title('Learning Curve (Naive Bayes)')\n",
    "    plt.xlabel('Training Data Size')\n",
    "    plt.ylabel('Model accuracy')\n",
    "    plt.grid()\n",
    "    plt.legend(loc='lower right')"
   ]
  },
  {
   "cell_type": "code",
   "execution_count": 61,
   "id": "89eb0709",
   "metadata": {},
   "outputs": [
    {
     "data": {
      "image/png": "[encoded data removed]",
      "text/plain": [
       "<Figure size 720x432 with 1 Axes>"
      ]
     },
     "metadata": {},
     "output_type": "display_data"
    }
   ],
   "source": [
    "#plotting the results for cross-validation\n",
    "plot_curve(train_scores, cv_scores)\n",
    "plt.savefig('the learning curve_NB.png', format='png')"
   ]
  },
  {
   "cell_type": "code",
   "execution_count": 62,
   "id": "c4ce8d66",
   "metadata": {},
   "outputs": [],
   "source": [
    "# collecting the accuracy data data\n",
    "results = {\"Accuracy\":{\"LR\":0, \"SVC\":1,\"NB\":0},\"Precision score\":{\"LR\":0, \"SVC\":1,\"NB\":0},\"Recall score\":{\"LR\":0, \"SVC\":1,\"NB\":0},\"F1 score\":{\"LR\":1, \"SVC\":0,\"NB\":0}}\n",
    "results[\"Accuracy\"][\"LR\"] = accuracy_score(test_labels, test_pred)\n",
    "results[\"Accuracy\"][\"SVC\"] = accuracy_score(test_labels, linSVC_test_pred)\n",
    "results[\"Accuracy\"][\"NB\"] = accuracy_score(test_labels, nb_test_pred)"
   ]
  },
  {
   "cell_type": "code",
   "execution_count": 63,
   "id": "ad16ef06",
   "metadata": {},
   "outputs": [],
   "source": [
    "# adding F1 data\n",
    "results[\"F1 score\"][\"LR\"] = f1_score(test_labels, test_pred, average=\"macro\")\n",
    "results[\"F1 score\"][\"SVC\"] = f1_score(test_labels, linSVC_test_pred, average=\"macro\")\n",
    "results[\"F1 score\"][\"NB\"] = f1_score(test_labels, nb_test_pred, average=\"macro\")\n",
    "# results"
   ]
  },
  {
   "cell_type": "code",
   "execution_count": 64,
   "id": "6d60b80f",
   "metadata": {},
   "outputs": [
    {
     "name": "stderr",
     "output_type": "stream",
     "text": [
      "/Users/buluo/anaconda3/lib/python3.7/site-packages/sklearn/metrics/_classification.py:1248: UndefinedMetricWarning: Precision is ill-defined and being set to 0.0 in labels with no predicted samples. Use `zero_division` parameter to control this behavior.\n",
      "  _warn_prf(average, modifier, msg_start, len(result))\n"
     ]
    }
   ],
   "source": [
    "# adding Precision data\n",
    "results[\"Precision score\"][\"LR\"] = precision_score(test_labels, test_pred, average=\"macro\")\n",
    "results[\"Precision score\"][\"SVC\"] = precision_score(test_labels, linSVC_test_pred, average=\"macro\")\n",
    "results[\"Precision score\"][\"NB\"] = precision_score(test_labels, nb_test_pred, average=\"macro\")\n",
    "# results"
   ]
  },
  {
   "cell_type": "code",
   "execution_count": 65,
   "id": "52877d5a",
   "metadata": {},
   "outputs": [],
   "source": [
    "# adding Recall data\n",
    "results[\"Recall score\"][\"LR\"] = recall_score(test_labels, test_pred, average=\"macro\")\n",
    "results[\"Recall score\"][\"SVC\"] = recall_score(test_labels, linSVC_test_pred, average=\"macro\")\n",
    "results[\"Recall score\"][\"NB\"] = recall_score(test_labels, nb_test_pred, average=\"macro\")\n",
    "# results"
   ]
  },
  {
   "cell_type": "code",
   "execution_count": 66,
   "id": "d1949b8c",
   "metadata": {},
   "outputs": [
    {
     "data": {
      "text/html": [
       "<div>\n",
       "<style scoped>\n",
       "    .dataframe tbody tr th:only-of-type {\n",
       "        vertical-align: middle;\n",
       "    }\n",
       "\n",
       "    .dataframe tbody tr th {\n",
       "        vertical-align: top;\n",
       "    }\n",
       "\n",
       "    .dataframe thead th {\n",
       "        text-align: right;\n",
       "    }\n",
       "</style>\n",
       "<table border=\"1\" class=\"dataframe\">\n",
       "  <thead>\n",
       "    <tr style=\"text-align: right;\">\n",
       "      <th></th>\n",
       "      <th>Accuracy</th>\n",
       "      <th>Precision score</th>\n",
       "      <th>Recall score</th>\n",
       "      <th>F1 score</th>\n",
       "    </tr>\n",
       "  </thead>\n",
       "  <tbody>\n",
       "    <tr>\n",
       "      <th>LR</th>\n",
       "      <td>0.578125</td>\n",
       "      <td>0.533039</td>\n",
       "      <td>0.486383</td>\n",
       "      <td>0.494008</td>\n",
       "    </tr>\n",
       "    <tr>\n",
       "      <th>SVC</th>\n",
       "      <td>0.578125</td>\n",
       "      <td>0.533039</td>\n",
       "      <td>0.486383</td>\n",
       "      <td>0.494008</td>\n",
       "    </tr>\n",
       "    <tr>\n",
       "      <th>NB</th>\n",
       "      <td>0.570312</td>\n",
       "      <td>0.400155</td>\n",
       "      <td>0.388344</td>\n",
       "      <td>0.337129</td>\n",
       "    </tr>\n",
       "  </tbody>\n",
       "</table>\n",
       "</div>"
      ],
      "text/plain": [
       "     Accuracy  Precision score  Recall score  F1 score\n",
       "LR   0.578125         0.533039      0.486383  0.494008\n",
       "SVC  0.578125         0.533039      0.486383  0.494008\n",
       "NB   0.570312         0.400155      0.388344  0.337129"
      ]
     },
     "execution_count": 66,
     "metadata": {},
     "output_type": "execute_result"
    }
   ],
   "source": [
    "results_df = pd.DataFrame(results)\n",
    "results_df.round(3).to_excel('model_sit.xlsx')\n",
    "results_df"
   ]
  }
 ],
 "metadata": {
  "kernelspec": {
   "display_name": "Python 3 (ipykernel)",
   "language": "python",
   "name": "python3"
  },
  "language_info": {
   "codemirror_mode": {
    "name": "ipython",
    "version": 3
   },
   "file_extension": ".py",
   "mimetype": "text/x-python",
   "name": "python",
   "nbconvert_exporter": "python",
   "pygments_lexer": "ipython3",
   "version": "3.7.1"
  },
  "toc": {
   "base_numbering": 1,
   "nav_menu": {},
   "number_sections": false,
   "sideBar": true,
   "skip_h1_title": false,
   "title_cell": "Table of Contents",
   "title_sidebar": "Contents",
   "toc_cell": false,
   "toc_position": {},
   "toc_section_display": true,
   "toc_window_display": false
  }
 },
 "nbformat": 4,
 "nbformat_minor": 5
}
